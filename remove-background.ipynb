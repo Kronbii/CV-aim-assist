{
 "cells": [
  {
   "cell_type": "code",
   "execution_count": 1,
   "id": "e6ea790d",
   "metadata": {},
   "outputs": [],
   "source": [
    "import cv2\n",
    "import numpy as np\n",
    "from pathlib import Path\n",
    "import os\n",
    "from tqdm import tqdm\n",
    "import matplotlib.pyplot as plt\n",
    "from rembg import remove\n",
    "from PIL import Image\n",
    "from rembg import new_session\n",
    "import os\n",
    "from pathlib import Path"
   ]
  },
  {
   "cell_type": "code",
   "execution_count": 18,
   "id": "436f8588",
   "metadata": {},
   "outputs": [],
   "source": [
    "# Configuration\n",
    "INPUT_DIR = \"character_frames\"  # Directory containing character frames\n",
    "OUTPUT_DIR = \"character_frames_no_bg\"  # Directory to save frames with transparent backgrounds\n",
    "\n",
    "# Create output directory\n",
    "os.makedirs(OUTPUT_DIR, exist_ok=True)"
   ]
  },
  {
   "cell_type": "code",
   "execution_count": 3,
   "id": "6e7fadf2",
   "metadata": {},
   "outputs": [
    {
     "name": "stdout",
     "output_type": "stream",
     "text": [
      "Downloading and initializing rembg model for offline use...\n",
      "This will download ~100MB of model data (one-time setup)\n"
     ]
    }
   ],
   "source": [
    "# Download and initialize rembg model for offline use\n",
    "print(\"Downloading and initializing rembg model for offline use...\")\n",
    "print(\"This will download ~100MB of model data (one-time setup)\")\n",
    "\n",
    "# Set up local model directory\n",
    "local_model_dir = Path(\"./rembg_models\")\n",
    "local_model_dir.mkdir(exist_ok=True)\n",
    "\n",
    "# Set environment variable to use local directory\n",
    "os.environ['U2NET_HOME'] = str(local_model_dir)"
   ]
  },
  {
   "cell_type": "code",
   "execution_count": null,
   "id": "81c8b750",
   "metadata": {},
   "outputs": [],
   "source": [
    "try:\n",
    "    # Create a session with the default u2net model\n",
    "    # This will download the model to the local directory\n",
    "    rembg_session = new_session('u2net')\n",
    "    print(\"✅ Model downloaded and initialized successfully!\")\n",
    "    print(f\"Model saved locally in: {local_model_dir}\")\n",
    "    print(\"You can now run background removal offline\")\n",
    "    model_ready = True\n",
    "    \n",
    "    # Verify the model files exist locally\n",
    "    model_files = list(local_model_dir.glob(\"*.pth\"))\n",
    "    if model_files:\n",
    "        print(f\"Model file(s) found: {[f.name for f in model_files]}\")\n",
    "    \n",
    "except Exception as e:\n",
    "    print(f\"❌ Error downloading model: {e}\")\n",
    "    print(\"Falling back to color-based methods\")\n",
    "    model_ready = False"
   ]
  },
  {
   "cell_type": "code",
   "execution_count": 4,
   "id": "2ce2ba57",
   "metadata": {},
   "outputs": [
    {
     "name": "stdout",
     "output_type": "stream",
     "text": [
      "Loading rembg model from local directory...\n",
      "Found local model files: ['u2net.onnx']\n",
      "✅ Model loaded successfully from local directory!\n",
      "✅ Model loaded successfully from local directory!\n"
     ]
    }
   ],
   "source": [
    "# Load rembg model from local directory\n",
    "print(\"Loading rembg model from local directory...\")\n",
    "\n",
    "try:\n",
    "    # Check if model directory exists\n",
    "    if local_model_dir.exists():\n",
    "        model_files = list(local_model_dir.glob(\"*.onnx\"))\n",
    "        if model_files:\n",
    "            print(f\"Found local model files: {[f.name for f in model_files]}\")\n",
    "            \n",
    "            # Create session with local model\n",
    "            rembg_session = new_session('u2net')\n",
    "            model_ready = True\n",
    "            print(\"✅ Model loaded successfully from local directory!\")\n",
    "            \n",
    "        else:\n",
    "            print(\"❌ No model files found in local directory\")\n",
    "            print(\"Please run the model download cell first\")\n",
    "            model_ready = False\n",
    "    else:\n",
    "        print(\"❌ Local model directory does not exist\")\n",
    "        print(\"Please run the model download cell first\")\n",
    "        model_ready = False\n",
    "        \n",
    "except Exception as e:\n",
    "    print(f\"❌ Error loading local model: {e}\")\n",
    "    model_ready = False"
   ]
  },
  {
   "cell_type": "code",
   "execution_count": 5,
   "id": "1c4d41ec",
   "metadata": {},
   "outputs": [],
   "source": [
    "def remove_background_rembg(input_path, output_path, session=None):\n",
    "    \"\"\"\n",
    "    Remove background from an image using rembg library\n",
    "    \n",
    "    Args:\n",
    "        input_path: Path to input image\n",
    "        output_path: Path to save output image with transparent background\n",
    "        session: Pre-initialized rembg session (optional, will create new if None)\n",
    "    \n",
    "    Returns:\n",
    "        bool: True if successful, False otherwise\n",
    "    \"\"\"\n",
    "    try:\n",
    "        # Read input image\n",
    "        with open(input_path, 'rb') as input_file:\n",
    "            input_data = input_file.read()\n",
    "        \n",
    "        # Remove background using session if provided, otherwise use default\n",
    "        if session is not None:\n",
    "            output_data = remove(input_data, session=session)\n",
    "        else:\n",
    "            output_data = remove(input_data)\n",
    "        \n",
    "        # Save output image\n",
    "        with open(output_path, 'wb') as output_file:\n",
    "            output_file.write(output_data)\n",
    "        \n",
    "        return True\n",
    "    except Exception as e:\n",
    "        print(f\"Error processing {input_path}: {e}\")\n",
    "        return False"
   ]
  },
  {
   "cell_type": "code",
   "execution_count": 6,
   "id": "f46180ab",
   "metadata": {},
   "outputs": [],
   "source": [
    "def remove_background_color_mask(input_path, output_path, method='adaptive'):\n",
    "    \"\"\"\n",
    "    Remove background using color-based masking (alternative method)\n",
    "    \n",
    "    Args:\n",
    "        input_path: Path to input image\n",
    "        output_path: Path to save output image with transparent background\n",
    "        method: 'adaptive' for adaptive thresholding, 'hsv' for HSV-based masking\n",
    "    \n",
    "    Returns:\n",
    "        bool: True if successful, False otherwise\n",
    "    \"\"\"\n",
    "    try:\n",
    "        # Read image\n",
    "        img = cv2.imread(str(input_path))\n",
    "        if img is None:\n",
    "            print(f\"Could not read image: {input_path}\")\n",
    "            return False\n",
    "        \n",
    "        if method == 'adaptive':\n",
    "            # Convert to grayscale\n",
    "            gray = cv2.cvtColor(img, cv2.COLOR_BGR2GRAY)\n",
    "            \n",
    "            # Apply adaptive thresholding to separate foreground/background\n",
    "            thresh = cv2.adaptiveThreshold(gray, 255, cv2.ADAPTIVE_THRESH_GAUSSIAN_C, \n",
    "                                         cv2.THRESH_BINARY, 11, 2)\n",
    "            \n",
    "            # Create mask (invert so character is white, background is black)\n",
    "            mask = cv2.bitwise_not(thresh)\n",
    "            \n",
    "            # Apply morphological operations to clean up the mask\n",
    "            kernel = np.ones((3,3), np.uint8)\n",
    "            mask = cv2.morphologyEx(mask, cv2.MORPH_CLOSE, kernel)\n",
    "            mask = cv2.morphologyEx(mask, cv2.MORPH_OPEN, kernel)\n",
    "            \n",
    "        elif method == 'hsv':\n",
    "            # Convert to HSV\n",
    "            hsv = cv2.cvtColor(img, cv2.COLOR_BGR2HSV)\n",
    "            \n",
    "            # Define range for background color (you may need to adjust these values)\n",
    "            # This assumes a light background\n",
    "            lower_bg = np.array([0, 0, 180])\n",
    "            upper_bg = np.array([180, 30, 255])\n",
    "            \n",
    "            # Create mask for background\n",
    "            bg_mask = cv2.inRange(hsv, lower_bg, upper_bg)\n",
    "            \n",
    "            # Invert mask so character is white, background is black\n",
    "            mask = cv2.bitwise_not(bg_mask)\n",
    "        \n",
    "        # Create 4-channel image (BGRA)\n",
    "        b, g, r = cv2.split(img)\n",
    "        \n",
    "        # Use mask as alpha channel\n",
    "        rgba = cv2.merge([b, g, r, mask])\n",
    "        \n",
    "        # Save as PNG to preserve transparency\n",
    "        cv2.imwrite(str(output_path), rgba)\n",
    "        \n",
    "        return True\n",
    "    except Exception as e:\n",
    "        print(f\"Error processing {input_path}: {e}\")\n",
    "        return False"
   ]
  },
  {
   "cell_type": "code",
   "execution_count": 7,
   "id": "fbbb8707",
   "metadata": {},
   "outputs": [],
   "source": [
    "def process_all_character_frames(method='rembg'):\n",
    "    \"\"\"\n",
    "    Process all character frames to remove backgrounds\n",
    "    \n",
    "    Args:\n",
    "        method: 'rembg' for AI-based removal, 'adaptive' or 'hsv' for color-based methods\n",
    "    \n",
    "    Returns:\n",
    "        dict: Processing results\n",
    "    \"\"\"\n",
    "    # Check if using rembg but model not ready\n",
    "    if method == 'rembg' and not globals().get('model_ready', False):\n",
    "        print(\"⚠️  rembg model not ready! Please run the model download cell first.\")\n",
    "        print(\"Falling back to adaptive color-based method...\")\n",
    "        method = 'adaptive'\n",
    "    \n",
    "    input_dir = Path(INPUT_DIR)\n",
    "    \n",
    "    if not input_dir.exists():\n",
    "        print(f\"Input directory {INPUT_DIR} does not exist!\")\n",
    "        return {}\n",
    "    \n",
    "    # Find all character directories\n",
    "    character_dirs = [d for d in input_dir.iterdir() if d.is_dir()]\n",
    "    \n",
    "    if not character_dirs:\n",
    "        print(f\"No character directories found in {INPUT_DIR}\")\n",
    "        return {}\n",
    "    \n",
    "    print(f\"Found {len(character_dirs)} character directories\")\n",
    "    print(f\"Using method: {method}\")\n",
    "    \n",
    "    # Get the rembg session if available\n",
    "    session = globals().get('rembg_session', None) if method == 'rembg' else None\n",
    "    \n",
    "    results = {}\n",
    "    total_processed = 0\n",
    "    total_failed = 0\n",
    "    \n",
    "    for char_dir in character_dirs:\n",
    "        character_id = char_dir.name\n",
    "        print(f\"\\nProcessing character {character_id}...\")\n",
    "        \n",
    "        # Create output directory for this character\n",
    "        output_char_dir = Path(OUTPUT_DIR) / character_id\n",
    "        output_char_dir.mkdir(exist_ok=True)\n",
    "        \n",
    "        # Check if output directory already exists and has files\n",
    "        if output_char_dir.exists() and list(output_char_dir.glob(\"*.png\")):\n",
    "            print(f\"  Character {character_id} already processed, skipping...\")\n",
    "            continue\n",
    "        \n",
    "        # Find all frame files for this character\n",
    "        frame_files = list(char_dir.glob(f\"{character_id}_*.jpg\"))\n",
    "        \n",
    "        if not frame_files:\n",
    "            print(f\"  No frames found for character {character_id}\")\n",
    "            continue\n",
    "        \n",
    "        char_results = {\n",
    "            'character_id': character_id,\n",
    "            'total_frames': len(frame_files),\n",
    "            'processed': 0,\n",
    "            'failed': 0,\n",
    "            'output_dir': str(output_char_dir)\n",
    "        }\n",
    "        \n",
    "        # Process each frame\n",
    "        for frame_file in tqdm(frame_files, desc=f\"Processing {character_id}\"):\n",
    "            output_filename = frame_file.stem + '.png'\n",
    "            output_path = output_char_dir / output_filename\n",
    "            \n",
    "            # Skip if already processed\n",
    "            if output_path.exists():\n",
    "                char_results['processed'] += 1\n",
    "                continue\n",
    "            \n",
    "            # Remove background\n",
    "            if method == 'rembg':\n",
    "                success = remove_background_rembg(frame_file, output_path, session)\n",
    "            else:\n",
    "                success = remove_background_color_mask(frame_file, output_path, method)\n",
    "            \n",
    "            if success:\n",
    "                char_results['processed'] += 1\n",
    "                total_processed += 1\n",
    "            else:\n",
    "                char_results['failed'] += 1\n",
    "                total_failed += 1\n",
    "        \n",
    "        results[character_id] = char_results\n",
    "        print(f\"  Processed: {char_results['processed']}, Failed: {char_results['failed']}\")\n",
    "    \n",
    "    # Print summary\n",
    "    print(f\"\\n=== BACKGROUND REMOVAL COMPLETE ===\")\n",
    "    print(f\"Total characters processed: {len(results)}\")\n",
    "    print(f\"Total frames processed: {total_processed}\")\n",
    "    print(f\"Total failures: {total_failed}\")\n",
    "    print(f\"Output saved to: {OUTPUT_DIR}\")\n",
    "    \n",
    "    return results"
   ]
  },
  {
   "cell_type": "code",
   "execution_count": 15,
   "id": "82d76948",
   "metadata": {},
   "outputs": [],
   "source": [
    "def visualize_before_after(character_id, frame_num=1):\n",
    "    \"\"\"\n",
    "    Visualize original and background-removed frames side by side\n",
    "    \n",
    "    Args:\n",
    "        character_id: ID of the character to visualize\n",
    "        frame_num: Frame number to display (1-8)\n",
    "    \"\"\"\n",
    "    # Construct file paths\n",
    "    original_path = Path(INPUT_DIR) / character_id / f\"{character_id}_{frame_num}.jpg\"\n",
    "    processed_path = Path(OUTPUT_DIR) / character_id / f\"{character_id}_{frame_num}.png\"\n",
    "    \n",
    "    if not original_path.exists():\n",
    "        print(f\"Original frame not found: {original_path}\")\n",
    "        return\n",
    "    \n",
    "    if not processed_path.exists():\n",
    "        print(f\"Processed frame not found: {processed_path}\")\n",
    "        return\n",
    "    \n",
    "    # Read images\n",
    "    original = cv2.imread(str(original_path))\n",
    "    original_rgb = cv2.cvtColor(original, cv2.COLOR_BGR2RGB)\n",
    "    \n",
    "    # Read PNG with transparency\n",
    "    processed = cv2.imread(str(processed_path), cv2.IMREAD_UNCHANGED)\n",
    "    \n",
    "    # Create visualization\n",
    "    fig, axes = plt.subplots(1, 3, figsize=(15, 5))\n",
    "    \n",
    "    # Original image\n",
    "    axes[0].imshow(original_rgb)\n",
    "    axes[0].set_title(\"Original\")\n",
    "    axes[0].axis('off')\n",
    "    \n",
    "    # Processed image on white background\n",
    "    if processed.shape[2] == 4:  # Has alpha channel\n",
    "        # Create white background\n",
    "        white_bg = np.ones((processed.shape[0], processed.shape[1], 3), dtype=np.uint8) * 255\n",
    "        \n",
    "        # Convert BGRA to RGBA\n",
    "        processed_rgba = cv2.cvtColor(processed, cv2.COLOR_BGRA2RGBA)\n",
    "        \n",
    "        # Blend with white background\n",
    "        alpha = processed_rgba[:, :, 3:4] / 255.0\n",
    "        processed_rgb = processed_rgba[:, :, :3]\n",
    "        blended = (processed_rgb * alpha + white_bg * (1 - alpha)).astype(np.uint8)\n",
    "        \n",
    "        axes[1].imshow(blended)\n",
    "        axes[1].set_title(\"Removed BG (on white)\")\n",
    "    else:\n",
    "        processed_rgb = cv2.cvtColor(processed, cv2.COLOR_BGR2RGB)\n",
    "        axes[1].imshow(processed_rgb)\n",
    "        axes[1].set_title(\"Processed\")\n",
    "    axes[1].axis('off')\n",
    "    \n",
    "    # Processed image on checkered background to show transparency\n",
    "    if processed.shape[2] == 4:\n",
    "        # Create checkered background\n",
    "        h, w = processed.shape[:2]\n",
    "        checkered = np.zeros((h, w, 3), dtype=np.uint8)\n",
    "        for i in range(0, h, 20):\n",
    "            for j in range(0, w, 20):\n",
    "                if (i//20 + j//20) % 2 == 0:\n",
    "                    checkered[i:i+20, j:j+20] = [200, 200, 200]\n",
    "                else:\n",
    "                    checkered[i:i+20, j:j+20] = [255, 255, 255]\n",
    "        \n",
    "        # Blend with checkered background\n",
    "        alpha = processed_rgba[:, :, 3:4] / 255.0\n",
    "        processed_rgb = processed_rgba[:, :, :3]\n",
    "        blended_check = (processed_rgb * alpha + checkered * (1 - alpha)).astype(np.uint8)\n",
    "        \n",
    "        axes[2].imshow(blended_check)\n",
    "        axes[2].set_title(\"Transparency Preview\")\n",
    "    else:\n",
    "        axes[2].imshow(processed_rgb)\n",
    "        axes[2].set_title(\"Processed\")\n",
    "    axes[2].axis('off')\n",
    "    \n",
    "    plt.suptitle(f\"Character {character_id} - Frame {frame_num}\", fontsize=16)\n",
    "    plt.tight_layout()\n",
    "    plt.show()"
   ]
  },
  {
   "cell_type": "code",
   "execution_count": null,
   "id": "ab36b59f",
   "metadata": {},
   "outputs": [
    {
     "name": "stdout",
     "output_type": "stream",
     "text": [
      "=== BACKGROUND REMOVAL EXECUTION ===\n",
      "✅ rembg model is ready! Using AI-based background removal...\n",
      "Found 2338 character directories\n",
      "Using method: rembg\n",
      "\n",
      "Processing character 10634...\n"
     ]
    },
    {
     "name": "stderr",
     "output_type": "stream",
     "text": [
      "Processing 10634:   0%|          | 0/8 [00:00<?, ?it/s]"
     ]
    },
    {
     "name": "stderr",
     "output_type": "stream",
     "text": [
      "Processing 10634: 100%|██████████| 8/8 [00:04<00:00,  1.72it/s]\n",
      "Processing 10634: 100%|██████████| 8/8 [00:04<00:00,  1.72it/s]\n"
     ]
    },
    {
     "name": "stdout",
     "output_type": "stream",
     "text": [
      "  Processed: 8, Failed: 0\n",
      "\n",
      "Processing character 869...\n"
     ]
    },
    {
     "name": "stderr",
     "output_type": "stream",
     "text": [
      "Processing 869: 100%|██████████| 8/8 [00:04<00:00,  1.80it/s]\n",
      "Processing 869: 100%|██████████| 8/8 [00:04<00:00,  1.80it/s]\n"
     ]
    },
    {
     "name": "stdout",
     "output_type": "stream",
     "text": [
      "  Processed: 8, Failed: 0\n",
      "\n",
      "Processing character 16197...\n"
     ]
    },
    {
     "name": "stderr",
     "output_type": "stream",
     "text": [
      "Processing 16197: 100%|██████████| 8/8 [00:04<00:00,  1.75it/s]\n",
      "Processing 16197: 100%|██████████| 8/8 [00:04<00:00,  1.75it/s]\n"
     ]
    },
    {
     "name": "stdout",
     "output_type": "stream",
     "text": [
      "  Processed: 8, Failed: 0\n",
      "\n",
      "Processing character 338...\n"
     ]
    },
    {
     "name": "stderr",
     "output_type": "stream",
     "text": [
      "Processing 338: 100%|██████████| 8/8 [00:04<00:00,  1.78it/s]\n",
      "Processing 338: 100%|██████████| 8/8 [00:04<00:00,  1.78it/s]\n"
     ]
    },
    {
     "name": "stdout",
     "output_type": "stream",
     "text": [
      "  Processed: 8, Failed: 0\n",
      "\n",
      "Processing character 738...\n"
     ]
    },
    {
     "name": "stderr",
     "output_type": "stream",
     "text": [
      "Processing 738: 100%|██████████| 8/8 [00:04<00:00,  1.81it/s]\n",
      "Processing 738: 100%|██████████| 8/8 [00:04<00:00,  1.81it/s]\n"
     ]
    },
    {
     "name": "stdout",
     "output_type": "stream",
     "text": [
      "  Processed: 8, Failed: 0\n",
      "\n",
      "Processing character 56...\n"
     ]
    },
    {
     "name": "stderr",
     "output_type": "stream",
     "text": [
      "Processing 56: 100%|██████████| 8/8 [00:04<00:00,  1.74it/s]\n",
      "Processing 56: 100%|██████████| 8/8 [00:04<00:00,  1.74it/s]\n"
     ]
    },
    {
     "name": "stdout",
     "output_type": "stream",
     "text": [
      "  Processed: 8, Failed: 0\n",
      "\n",
      "Processing character 365...\n"
     ]
    },
    {
     "name": "stderr",
     "output_type": "stream",
     "text": [
      "Processing 365: 100%|██████████| 8/8 [00:04<00:00,  1.78it/s]\n",
      "Processing 365: 100%|██████████| 8/8 [00:04<00:00,  1.78it/s]\n"
     ]
    },
    {
     "name": "stdout",
     "output_type": "stream",
     "text": [
      "  Processed: 8, Failed: 0\n",
      "\n",
      "Processing character 324...\n"
     ]
    },
    {
     "name": "stderr",
     "output_type": "stream",
     "text": [
      "Processing 324: 100%|██████████| 8/8 [00:04<00:00,  1.71it/s]\n",
      "Processing 324: 100%|██████████| 8/8 [00:04<00:00,  1.71it/s]\n"
     ]
    },
    {
     "name": "stdout",
     "output_type": "stream",
     "text": [
      "  Processed: 8, Failed: 0\n",
      "\n",
      "Processing character 5721...\n"
     ]
    },
    {
     "name": "stderr",
     "output_type": "stream",
     "text": [
      "Processing 5721: 100%|██████████| 8/8 [00:04<00:00,  1.77it/s]\n",
      "Processing 5721: 100%|██████████| 8/8 [00:04<00:00,  1.77it/s]\n"
     ]
    },
    {
     "name": "stdout",
     "output_type": "stream",
     "text": [
      "  Processed: 8, Failed: 0\n",
      "\n",
      "Processing character 880...\n"
     ]
    },
    {
     "name": "stderr",
     "output_type": "stream",
     "text": [
      "Processing 880: 100%|██████████| 8/8 [00:04<00:00,  1.61it/s]\n",
      "Processing 880: 100%|██████████| 8/8 [00:04<00:00,  1.61it/s]\n"
     ]
    },
    {
     "name": "stdout",
     "output_type": "stream",
     "text": [
      "  Processed: 8, Failed: 0\n",
      "\n",
      "Processing character 646...\n"
     ]
    },
    {
     "name": "stderr",
     "output_type": "stream",
     "text": [
      "Processing 646: 100%|██████████| 8/8 [00:04<00:00,  1.83it/s]\n",
      "Processing 646: 100%|██████████| 8/8 [00:04<00:00,  1.83it/s]\n"
     ]
    },
    {
     "name": "stdout",
     "output_type": "stream",
     "text": [
      "  Processed: 8, Failed: 0\n",
      "\n",
      "Processing character 5442...\n"
     ]
    },
    {
     "name": "stderr",
     "output_type": "stream",
     "text": [
      "Processing 5442: 100%|██████████| 8/8 [00:04<00:00,  1.91it/s]\n",
      "Processing 5442: 100%|██████████| 8/8 [00:04<00:00,  1.91it/s]\n"
     ]
    },
    {
     "name": "stdout",
     "output_type": "stream",
     "text": [
      "  Processed: 8, Failed: 0\n",
      "\n",
      "Processing character 129...\n"
     ]
    },
    {
     "name": "stderr",
     "output_type": "stream",
     "text": [
      "Processing 129: 100%|██████████| 8/8 [00:04<00:00,  1.96it/s]\n",
      "Processing 129: 100%|██████████| 8/8 [00:04<00:00,  1.96it/s]\n"
     ]
    },
    {
     "name": "stdout",
     "output_type": "stream",
     "text": [
      "  Processed: 8, Failed: 0\n",
      "\n",
      "Processing character 17279...\n"
     ]
    },
    {
     "name": "stderr",
     "output_type": "stream",
     "text": [
      "Processing 17279: 100%|██████████| 8/8 [00:03<00:00,  2.04it/s]\n",
      "Processing 17279: 100%|██████████| 8/8 [00:03<00:00,  2.04it/s]\n"
     ]
    },
    {
     "name": "stdout",
     "output_type": "stream",
     "text": [
      "  Processed: 8, Failed: 0\n",
      "\n",
      "Processing character 9215...\n"
     ]
    },
    {
     "name": "stderr",
     "output_type": "stream",
     "text": [
      "Processing 9215: 100%|██████████| 8/8 [00:04<00:00,  1.97it/s]\n",
      "Processing 9215: 100%|██████████| 8/8 [00:04<00:00,  1.97it/s]\n"
     ]
    },
    {
     "name": "stdout",
     "output_type": "stream",
     "text": [
      "  Processed: 8, Failed: 0\n",
      "\n",
      "Processing character 6463...\n"
     ]
    },
    {
     "name": "stderr",
     "output_type": "stream",
     "text": [
      "Processing 6463: 100%|██████████| 8/8 [00:04<00:00,  1.96it/s]\n",
      "Processing 6463: 100%|██████████| 8/8 [00:04<00:00,  1.96it/s]\n"
     ]
    },
    {
     "name": "stdout",
     "output_type": "stream",
     "text": [
      "  Processed: 8, Failed: 0\n",
      "\n",
      "Processing character 5728...\n"
     ]
    },
    {
     "name": "stderr",
     "output_type": "stream",
     "text": [
      "Processing 5728: 100%|██████████| 8/8 [00:03<00:00,  2.04it/s]\n",
      "Processing 5728: 100%|██████████| 8/8 [00:03<00:00,  2.04it/s]\n"
     ]
    },
    {
     "name": "stdout",
     "output_type": "stream",
     "text": [
      "  Processed: 8, Failed: 0\n",
      "\n",
      "Processing character 5297...\n"
     ]
    },
    {
     "name": "stderr",
     "output_type": "stream",
     "text": [
      "Processing 5297: 100%|██████████| 8/8 [00:04<00:00,  2.00it/s]\n",
      "Processing 5297: 100%|██████████| 8/8 [00:04<00:00,  2.00it/s]\n"
     ]
    },
    {
     "name": "stdout",
     "output_type": "stream",
     "text": [
      "  Processed: 8, Failed: 0\n",
      "\n",
      "Processing character 9628...\n"
     ]
    },
    {
     "name": "stderr",
     "output_type": "stream",
     "text": [
      "Processing 9628: 100%|██████████| 8/8 [00:04<00:00,  1.94it/s]\n",
      "Processing 9628: 100%|██████████| 8/8 [00:04<00:00,  1.94it/s]\n"
     ]
    },
    {
     "name": "stdout",
     "output_type": "stream",
     "text": [
      "  Processed: 8, Failed: 0\n",
      "\n",
      "Processing character 8626...\n"
     ]
    },
    {
     "name": "stderr",
     "output_type": "stream",
     "text": [
      "Processing 8626: 100%|██████████| 8/8 [00:03<00:00,  2.02it/s]\n",
      "Processing 8626: 100%|██████████| 8/8 [00:03<00:00,  2.02it/s]\n"
     ]
    },
    {
     "name": "stdout",
     "output_type": "stream",
     "text": [
      "  Processed: 8, Failed: 0\n",
      "\n",
      "Processing character 8191...\n"
     ]
    },
    {
     "name": "stderr",
     "output_type": "stream",
     "text": [
      "Processing 8191: 100%|██████████| 8/8 [00:04<00:00,  1.99it/s]\n",
      "Processing 8191: 100%|██████████| 8/8 [00:04<00:00,  1.99it/s]\n"
     ]
    },
    {
     "name": "stdout",
     "output_type": "stream",
     "text": [
      "  Processed: 8, Failed: 0\n",
      "\n",
      "Processing character 452...\n"
     ]
    },
    {
     "name": "stderr",
     "output_type": "stream",
     "text": [
      "Processing 452: 100%|██████████| 8/8 [00:04<00:00,  1.89it/s]\n",
      "Processing 452: 100%|██████████| 8/8 [00:04<00:00,  1.89it/s]\n"
     ]
    },
    {
     "name": "stdout",
     "output_type": "stream",
     "text": [
      "  Processed: 8, Failed: 0\n",
      "\n",
      "Processing character 16189...\n"
     ]
    },
    {
     "name": "stderr",
     "output_type": "stream",
     "text": [
      "Processing 16189: 100%|██████████| 8/8 [00:04<00:00,  1.98it/s]\n",
      "Processing 16189: 100%|██████████| 8/8 [00:04<00:00,  1.98it/s]\n"
     ]
    },
    {
     "name": "stdout",
     "output_type": "stream",
     "text": [
      "  Processed: 8, Failed: 0\n",
      "\n",
      "Processing character 9877...\n"
     ]
    },
    {
     "name": "stderr",
     "output_type": "stream",
     "text": [
      "Processing 9877: 100%|██████████| 8/8 [00:04<00:00,  1.87it/s]\n",
      "Processing 9877: 100%|██████████| 8/8 [00:04<00:00,  1.87it/s]\n"
     ]
    },
    {
     "name": "stdout",
     "output_type": "stream",
     "text": [
      "  Processed: 8, Failed: 0\n",
      "\n",
      "Processing character 10730...\n"
     ]
    },
    {
     "name": "stderr",
     "output_type": "stream",
     "text": [
      "Processing 10730: 100%|██████████| 8/8 [00:04<00:00,  1.73it/s]\n",
      "Processing 10730: 100%|██████████| 8/8 [00:04<00:00,  1.73it/s]\n"
     ]
    },
    {
     "name": "stdout",
     "output_type": "stream",
     "text": [
      "  Processed: 8, Failed: 0\n",
      "\n",
      "Processing character 4900...\n"
     ]
    },
    {
     "name": "stderr",
     "output_type": "stream",
     "text": [
      "Processing 4900: 100%|██████████| 8/8 [00:04<00:00,  1.80it/s]\n",
      "Processing 4900: 100%|██████████| 8/8 [00:04<00:00,  1.80it/s]\n"
     ]
    },
    {
     "name": "stdout",
     "output_type": "stream",
     "text": [
      "  Processed: 8, Failed: 0\n",
      "\n",
      "Processing character 675...\n"
     ]
    },
    {
     "name": "stderr",
     "output_type": "stream",
     "text": [
      "Processing 675: 100%|██████████| 8/8 [00:04<00:00,  1.73it/s]\n",
      "Processing 675: 100%|██████████| 8/8 [00:04<00:00,  1.73it/s]\n"
     ]
    },
    {
     "name": "stdout",
     "output_type": "stream",
     "text": [
      "  Processed: 8, Failed: 0\n",
      "\n",
      "Processing character 19108...\n"
     ]
    },
    {
     "name": "stderr",
     "output_type": "stream",
     "text": [
      "Processing 19108: 100%|██████████| 8/8 [00:04<00:00,  1.83it/s]\n",
      "Processing 19108: 100%|██████████| 8/8 [00:04<00:00,  1.83it/s]\n"
     ]
    },
    {
     "name": "stdout",
     "output_type": "stream",
     "text": [
      "  Processed: 8, Failed: 0\n",
      "\n",
      "Processing character 6236...\n"
     ]
    },
    {
     "name": "stderr",
     "output_type": "stream",
     "text": [
      "Processing 6236: 100%|██████████| 8/8 [00:04<00:00,  1.85it/s]\n",
      "Processing 6236: 100%|██████████| 8/8 [00:04<00:00,  1.85it/s]\n"
     ]
    },
    {
     "name": "stdout",
     "output_type": "stream",
     "text": [
      "  Processed: 8, Failed: 0\n",
      "\n",
      "Processing character 865...\n"
     ]
    },
    {
     "name": "stderr",
     "output_type": "stream",
     "text": [
      "Processing 865: 100%|██████████| 8/8 [00:04<00:00,  1.91it/s]\n",
      "Processing 865: 100%|██████████| 8/8 [00:04<00:00,  1.91it/s]\n"
     ]
    },
    {
     "name": "stdout",
     "output_type": "stream",
     "text": [
      "  Processed: 8, Failed: 0\n",
      "\n",
      "Processing character 780...\n"
     ]
    },
    {
     "name": "stderr",
     "output_type": "stream",
     "text": [
      "Processing 780: 100%|██████████| 8/8 [00:04<00:00,  1.91it/s]\n",
      "Processing 780: 100%|██████████| 8/8 [00:04<00:00,  1.91it/s]\n"
     ]
    },
    {
     "name": "stdout",
     "output_type": "stream",
     "text": [
      "  Processed: 8, Failed: 0\n",
      "\n",
      "Processing character 3272...\n"
     ]
    },
    {
     "name": "stderr",
     "output_type": "stream",
     "text": [
      "Processing 3272: 100%|██████████| 8/8 [00:05<00:00,  1.59it/s]\n"
     ]
    },
    {
     "name": "stdout",
     "output_type": "stream",
     "text": [
      "  Processed: 8, Failed: 0\n",
      "\n",
      "Processing character 229...\n"
     ]
    },
    {
     "name": "stderr",
     "output_type": "stream",
     "text": [
      "Processing 229: 100%|██████████| 8/8 [00:04<00:00,  1.88it/s]\n"
     ]
    },
    {
     "name": "stdout",
     "output_type": "stream",
     "text": [
      "  Processed: 8, Failed: 0\n",
      "\n",
      "Processing character 18338...\n"
     ]
    },
    {
     "name": "stderr",
     "output_type": "stream",
     "text": [
      "Processing 18338: 100%|██████████| 8/8 [00:04<00:00,  1.88it/s]\n"
     ]
    },
    {
     "name": "stdout",
     "output_type": "stream",
     "text": [
      "  Processed: 8, Failed: 0\n",
      "\n",
      "Processing character 9127...\n"
     ]
    },
    {
     "name": "stderr",
     "output_type": "stream",
     "text": [
      "Processing 9127: 100%|██████████| 8/8 [00:04<00:00,  1.89it/s]\n"
     ]
    },
    {
     "name": "stdout",
     "output_type": "stream",
     "text": [
      "  Processed: 8, Failed: 0\n",
      "\n",
      "Processing character 11331...\n"
     ]
    },
    {
     "name": "stderr",
     "output_type": "stream",
     "text": [
      "Processing 11331: 100%|██████████| 8/8 [00:04<00:00,  1.91it/s]\n"
     ]
    },
    {
     "name": "stdout",
     "output_type": "stream",
     "text": [
      "  Processed: 8, Failed: 0\n",
      "\n",
      "Processing character 661...\n"
     ]
    },
    {
     "name": "stderr",
     "output_type": "stream",
     "text": [
      "Processing 661: 100%|██████████| 8/8 [00:03<00:00,  2.02it/s]\n"
     ]
    },
    {
     "name": "stdout",
     "output_type": "stream",
     "text": [
      "  Processed: 8, Failed: 0\n",
      "\n",
      "Processing character 18940...\n"
     ]
    },
    {
     "name": "stderr",
     "output_type": "stream",
     "text": [
      "Processing 18940: 100%|██████████| 8/8 [00:03<00:00,  2.05it/s]\n"
     ]
    },
    {
     "name": "stdout",
     "output_type": "stream",
     "text": [
      "  Processed: 8, Failed: 0\n",
      "\n",
      "Processing character 207...\n"
     ]
    },
    {
     "name": "stderr",
     "output_type": "stream",
     "text": [
      "Processing 207: 100%|██████████| 8/8 [00:03<00:00,  2.04it/s]\n"
     ]
    },
    {
     "name": "stdout",
     "output_type": "stream",
     "text": [
      "  Processed: 8, Failed: 0\n",
      "\n",
      "Processing character 12572...\n"
     ]
    },
    {
     "name": "stderr",
     "output_type": "stream",
     "text": [
      "Processing 12572: 100%|██████████| 8/8 [00:03<00:00,  2.10it/s]\n"
     ]
    },
    {
     "name": "stdout",
     "output_type": "stream",
     "text": [
      "  Processed: 8, Failed: 0\n",
      "\n",
      "Processing character 134...\n"
     ]
    },
    {
     "name": "stderr",
     "output_type": "stream",
     "text": [
      "Processing 134: 100%|██████████| 8/8 [00:03<00:00,  2.05it/s]\n"
     ]
    },
    {
     "name": "stdout",
     "output_type": "stream",
     "text": [
      "  Processed: 8, Failed: 0\n",
      "\n",
      "Processing character 4605...\n"
     ]
    },
    {
     "name": "stderr",
     "output_type": "stream",
     "text": [
      "Processing 4605: 100%|██████████| 8/8 [00:04<00:00,  1.99it/s]\n"
     ]
    },
    {
     "name": "stdout",
     "output_type": "stream",
     "text": [
      "  Processed: 8, Failed: 0\n",
      "\n",
      "Processing character 111...\n"
     ]
    },
    {
     "name": "stderr",
     "output_type": "stream",
     "text": [
      "Processing 111: 100%|██████████| 8/8 [00:04<00:00,  1.98it/s]\n"
     ]
    },
    {
     "name": "stdout",
     "output_type": "stream",
     "text": [
      "  Processed: 8, Failed: 0\n",
      "\n",
      "Processing character 537...\n"
     ]
    },
    {
     "name": "stderr",
     "output_type": "stream",
     "text": [
      "Processing 537: 100%|██████████| 8/8 [00:03<00:00,  2.08it/s]\n"
     ]
    },
    {
     "name": "stdout",
     "output_type": "stream",
     "text": [
      "  Processed: 8, Failed: 0\n",
      "\n",
      "Processing character 15001...\n"
     ]
    },
    {
     "name": "stderr",
     "output_type": "stream",
     "text": [
      "Processing 15001: 100%|██████████| 8/8 [00:03<00:00,  2.07it/s]\n"
     ]
    },
    {
     "name": "stdout",
     "output_type": "stream",
     "text": [
      "  Processed: 8, Failed: 0\n",
      "\n",
      "Processing character 5089...\n"
     ]
    },
    {
     "name": "stderr",
     "output_type": "stream",
     "text": [
      "Processing 5089: 100%|██████████| 8/8 [00:03<00:00,  2.00it/s]\n"
     ]
    },
    {
     "name": "stdout",
     "output_type": "stream",
     "text": [
      "  Processed: 8, Failed: 0\n",
      "\n",
      "Processing character 14802...\n"
     ]
    },
    {
     "name": "stderr",
     "output_type": "stream",
     "text": [
      "Processing 14802: 100%|██████████| 8/8 [00:03<00:00,  2.09it/s]\n"
     ]
    },
    {
     "name": "stdout",
     "output_type": "stream",
     "text": [
      "  Processed: 8, Failed: 0\n",
      "\n",
      "Processing character 517...\n"
     ]
    },
    {
     "name": "stderr",
     "output_type": "stream",
     "text": [
      "Processing 517: 100%|██████████| 8/8 [00:03<00:00,  2.02it/s]\n"
     ]
    },
    {
     "name": "stdout",
     "output_type": "stream",
     "text": [
      "  Processed: 8, Failed: 0\n",
      "\n",
      "Processing character 666...\n"
     ]
    },
    {
     "name": "stderr",
     "output_type": "stream",
     "text": [
      "Processing 666: 100%|██████████| 8/8 [00:03<00:00,  2.07it/s]\n"
     ]
    },
    {
     "name": "stdout",
     "output_type": "stream",
     "text": [
      "  Processed: 8, Failed: 0\n",
      "\n",
      "Processing character 149...\n"
     ]
    },
    {
     "name": "stderr",
     "output_type": "stream",
     "text": [
      "Processing 149: 100%|██████████| 8/8 [00:03<00:00,  2.11it/s]\n"
     ]
    },
    {
     "name": "stdout",
     "output_type": "stream",
     "text": [
      "  Processed: 8, Failed: 0\n",
      "\n",
      "Processing character 5647...\n"
     ]
    },
    {
     "name": "stderr",
     "output_type": "stream",
     "text": [
      "Processing 5647: 100%|██████████| 8/8 [00:04<00:00,  1.98it/s]\n"
     ]
    },
    {
     "name": "stdout",
     "output_type": "stream",
     "text": [
      "  Processed: 8, Failed: 0\n",
      "\n",
      "Processing character 9406...\n"
     ]
    },
    {
     "name": "stderr",
     "output_type": "stream",
     "text": [
      "Processing 9406: 100%|██████████| 8/8 [00:04<00:00,  1.95it/s]\n"
     ]
    },
    {
     "name": "stdout",
     "output_type": "stream",
     "text": [
      "  Processed: 8, Failed: 0\n",
      "\n",
      "Processing character 6297...\n"
     ]
    },
    {
     "name": "stderr",
     "output_type": "stream",
     "text": [
      "Processing 6297: 100%|██████████| 8/8 [00:03<00:00,  2.04it/s]\n"
     ]
    },
    {
     "name": "stdout",
     "output_type": "stream",
     "text": [
      "  Processed: 8, Failed: 0\n",
      "\n",
      "Processing character 18339...\n"
     ]
    },
    {
     "name": "stderr",
     "output_type": "stream",
     "text": [
      "Processing 18339: 100%|██████████| 8/8 [00:04<00:00,  1.92it/s]\n"
     ]
    },
    {
     "name": "stdout",
     "output_type": "stream",
     "text": [
      "  Processed: 8, Failed: 0\n",
      "\n",
      "Processing character 561...\n"
     ]
    },
    {
     "name": "stderr",
     "output_type": "stream",
     "text": [
      "Processing 561: 100%|██████████| 8/8 [00:03<00:00,  2.01it/s]\n"
     ]
    },
    {
     "name": "stdout",
     "output_type": "stream",
     "text": [
      "  Processed: 8, Failed: 0\n",
      "\n",
      "Processing character 32...\n"
     ]
    },
    {
     "name": "stderr",
     "output_type": "stream",
     "text": [
      "Processing 32: 100%|██████████| 8/8 [00:03<00:00,  2.06it/s]\n"
     ]
    },
    {
     "name": "stdout",
     "output_type": "stream",
     "text": [
      "  Processed: 8, Failed: 0\n",
      "\n",
      "Processing character 6427...\n"
     ]
    },
    {
     "name": "stderr",
     "output_type": "stream",
     "text": [
      "Processing 6427: 100%|██████████| 8/8 [00:04<00:00,  1.97it/s]\n"
     ]
    },
    {
     "name": "stdout",
     "output_type": "stream",
     "text": [
      "  Processed: 8, Failed: 0\n",
      "\n",
      "Processing character 659...\n"
     ]
    },
    {
     "name": "stderr",
     "output_type": "stream",
     "text": [
      "Processing 659: 100%|██████████| 8/8 [00:04<00:00,  1.96it/s]\n"
     ]
    },
    {
     "name": "stdout",
     "output_type": "stream",
     "text": [
      "  Processed: 8, Failed: 0\n",
      "\n",
      "Processing character 9552...\n"
     ]
    },
    {
     "name": "stderr",
     "output_type": "stream",
     "text": [
      "Processing 9552: 100%|██████████| 8/8 [00:04<00:00,  1.99it/s]\n"
     ]
    },
    {
     "name": "stdout",
     "output_type": "stream",
     "text": [
      "  Processed: 8, Failed: 0\n",
      "\n",
      "Processing character 283...\n"
     ]
    },
    {
     "name": "stderr",
     "output_type": "stream",
     "text": [
      "Processing 283: 100%|██████████| 8/8 [00:03<00:00,  2.06it/s]\n"
     ]
    },
    {
     "name": "stdout",
     "output_type": "stream",
     "text": [
      "  Processed: 8, Failed: 0\n",
      "\n",
      "Processing character 281...\n"
     ]
    },
    {
     "name": "stderr",
     "output_type": "stream",
     "text": [
      "Processing 281: 100%|██████████| 8/8 [00:03<00:00,  2.10it/s]\n"
     ]
    },
    {
     "name": "stdout",
     "output_type": "stream",
     "text": [
      "  Processed: 8, Failed: 0\n",
      "\n",
      "Processing character 11334...\n"
     ]
    },
    {
     "name": "stderr",
     "output_type": "stream",
     "text": [
      "Processing 11334: 100%|██████████| 8/8 [00:04<00:00,  2.00it/s]\n"
     ]
    },
    {
     "name": "stdout",
     "output_type": "stream",
     "text": [
      "  Processed: 8, Failed: 0\n",
      "\n",
      "Processing character 10092...\n"
     ]
    },
    {
     "name": "stderr",
     "output_type": "stream",
     "text": [
      "Processing 10092: 100%|██████████| 8/8 [00:03<00:00,  2.08it/s]\n"
     ]
    },
    {
     "name": "stdout",
     "output_type": "stream",
     "text": [
      "  Processed: 8, Failed: 0\n",
      "\n",
      "Processing character 18941...\n"
     ]
    },
    {
     "name": "stderr",
     "output_type": "stream",
     "text": [
      "Processing 18941: 100%|██████████| 8/8 [00:04<00:00,  1.96it/s]\n"
     ]
    },
    {
     "name": "stdout",
     "output_type": "stream",
     "text": [
      "  Processed: 8, Failed: 0\n",
      "\n",
      "Processing character 526...\n"
     ]
    },
    {
     "name": "stderr",
     "output_type": "stream",
     "text": [
      "Processing 526: 100%|██████████| 8/8 [00:03<00:00,  2.09it/s]\n"
     ]
    },
    {
     "name": "stdout",
     "output_type": "stream",
     "text": [
      "  Processed: 8, Failed: 0\n",
      "\n",
      "Processing character 576...\n"
     ]
    },
    {
     "name": "stderr",
     "output_type": "stream",
     "text": [
      "Processing 576: 100%|██████████| 8/8 [00:04<00:00,  2.00it/s]\n"
     ]
    },
    {
     "name": "stdout",
     "output_type": "stream",
     "text": [
      "  Processed: 8, Failed: 0\n",
      "\n",
      "Processing character 228...\n"
     ]
    },
    {
     "name": "stderr",
     "output_type": "stream",
     "text": [
      "Processing 228: 100%|██████████| 8/8 [00:04<00:00,  1.97it/s]\n"
     ]
    },
    {
     "name": "stdout",
     "output_type": "stream",
     "text": [
      "  Processed: 8, Failed: 0\n",
      "\n",
      "Processing character 306...\n"
     ]
    },
    {
     "name": "stderr",
     "output_type": "stream",
     "text": [
      "Processing 306: 100%|██████████| 8/8 [00:04<00:00,  1.93it/s]\n"
     ]
    },
    {
     "name": "stdout",
     "output_type": "stream",
     "text": [
      "  Processed: 8, Failed: 0\n",
      "\n",
      "Processing character 519...\n"
     ]
    },
    {
     "name": "stderr",
     "output_type": "stream",
     "text": [
      "Processing 519: 100%|██████████| 8/8 [00:03<00:00,  2.02it/s]\n"
     ]
    },
    {
     "name": "stdout",
     "output_type": "stream",
     "text": [
      "  Processed: 8, Failed: 0\n",
      "\n",
      "Processing character 10565...\n"
     ]
    },
    {
     "name": "stderr",
     "output_type": "stream",
     "text": [
      "Processing 10565: 100%|██████████| 8/8 [00:04<00:00,  2.00it/s]\n"
     ]
    },
    {
     "name": "stdout",
     "output_type": "stream",
     "text": [
      "  Processed: 8, Failed: 0\n",
      "\n",
      "Processing character 12747...\n"
     ]
    },
    {
     "name": "stderr",
     "output_type": "stream",
     "text": [
      "Processing 12747: 100%|██████████| 8/8 [00:03<00:00,  2.01it/s]\n"
     ]
    },
    {
     "name": "stdout",
     "output_type": "stream",
     "text": [
      "  Processed: 8, Failed: 0\n",
      "\n",
      "Processing character 778...\n"
     ]
    },
    {
     "name": "stderr",
     "output_type": "stream",
     "text": [
      "Processing 778: 100%|██████████| 8/8 [00:03<00:00,  2.04it/s]\n"
     ]
    },
    {
     "name": "stdout",
     "output_type": "stream",
     "text": [
      "  Processed: 8, Failed: 0\n",
      "\n",
      "Processing character 8899...\n"
     ]
    },
    {
     "name": "stderr",
     "output_type": "stream",
     "text": [
      "Processing 8899: 100%|██████████| 8/8 [00:04<00:00,  1.93it/s]\n"
     ]
    },
    {
     "name": "stdout",
     "output_type": "stream",
     "text": [
      "  Processed: 8, Failed: 0\n",
      "\n",
      "Processing character 10639...\n"
     ]
    },
    {
     "name": "stderr",
     "output_type": "stream",
     "text": [
      "Processing 10639: 100%|██████████| 8/8 [00:04<00:00,  1.99it/s]\n"
     ]
    },
    {
     "name": "stdout",
     "output_type": "stream",
     "text": [
      "  Processed: 8, Failed: 0\n",
      "\n",
      "Processing character 295...\n"
     ]
    },
    {
     "name": "stderr",
     "output_type": "stream",
     "text": [
      "Processing 295: 100%|██████████| 8/8 [00:03<00:00,  2.06it/s]\n"
     ]
    },
    {
     "name": "stdout",
     "output_type": "stream",
     "text": [
      "  Processed: 8, Failed: 0\n",
      "\n",
      "Processing character 381...\n"
     ]
    },
    {
     "name": "stderr",
     "output_type": "stream",
     "text": [
      "Processing 381: 100%|██████████| 8/8 [00:03<00:00,  2.10it/s]\n"
     ]
    },
    {
     "name": "stdout",
     "output_type": "stream",
     "text": [
      "  Processed: 8, Failed: 0\n",
      "\n",
      "Processing character 188...\n"
     ]
    },
    {
     "name": "stderr",
     "output_type": "stream",
     "text": [
      "Processing 188: 100%|██████████| 8/8 [00:03<00:00,  2.03it/s]\n"
     ]
    },
    {
     "name": "stdout",
     "output_type": "stream",
     "text": [
      "  Processed: 8, Failed: 0\n",
      "\n",
      "Processing character 5087...\n"
     ]
    },
    {
     "name": "stderr",
     "output_type": "stream",
     "text": [
      "Processing 5087: 100%|██████████| 8/8 [00:04<00:00,  1.97it/s]\n"
     ]
    },
    {
     "name": "stdout",
     "output_type": "stream",
     "text": [
      "  Processed: 8, Failed: 0\n",
      "\n",
      "Processing character 18920...\n"
     ]
    },
    {
     "name": "stderr",
     "output_type": "stream",
     "text": [
      "Processing 18920: 100%|██████████| 8/8 [00:03<00:00,  2.01it/s]\n"
     ]
    },
    {
     "name": "stdout",
     "output_type": "stream",
     "text": [
      "  Processed: 8, Failed: 0\n",
      "\n",
      "Processing character 891...\n"
     ]
    },
    {
     "name": "stderr",
     "output_type": "stream",
     "text": [
      "Processing 891: 100%|██████████| 8/8 [00:03<00:00,  2.05it/s]\n"
     ]
    },
    {
     "name": "stdout",
     "output_type": "stream",
     "text": [
      "  Processed: 8, Failed: 0\n",
      "\n",
      "Processing character 16913...\n"
     ]
    },
    {
     "name": "stderr",
     "output_type": "stream",
     "text": [
      "Processing 16913: 100%|██████████| 8/8 [00:04<00:00,  1.96it/s]\n"
     ]
    },
    {
     "name": "stdout",
     "output_type": "stream",
     "text": [
      "  Processed: 8, Failed: 0\n",
      "\n",
      "Processing character 4750...\n"
     ]
    },
    {
     "name": "stderr",
     "output_type": "stream",
     "text": [
      "Processing 4750: 100%|██████████| 8/8 [00:04<00:00,  1.93it/s]\n"
     ]
    },
    {
     "name": "stdout",
     "output_type": "stream",
     "text": [
      "  Processed: 8, Failed: 0\n",
      "\n",
      "Processing character 7776...\n"
     ]
    },
    {
     "name": "stderr",
     "output_type": "stream",
     "text": [
      "Processing 7776: 100%|██████████| 8/8 [00:04<00:00,  1.98it/s]\n"
     ]
    },
    {
     "name": "stdout",
     "output_type": "stream",
     "text": [
      "  Processed: 8, Failed: 0\n",
      "\n",
      "Processing character 6689...\n"
     ]
    },
    {
     "name": "stderr",
     "output_type": "stream",
     "text": [
      "Processing 6689: 100%|██████████| 8/8 [00:04<00:00,  1.89it/s]\n"
     ]
    },
    {
     "name": "stdout",
     "output_type": "stream",
     "text": [
      "  Processed: 8, Failed: 0\n",
      "\n",
      "Processing character 9832...\n"
     ]
    },
    {
     "name": "stderr",
     "output_type": "stream",
     "text": [
      "Processing 9832: 100%|██████████| 8/8 [00:04<00:00,  2.00it/s]\n"
     ]
    },
    {
     "name": "stdout",
     "output_type": "stream",
     "text": [
      "  Processed: 8, Failed: 0\n",
      "\n",
      "Processing character 572...\n"
     ]
    },
    {
     "name": "stderr",
     "output_type": "stream",
     "text": [
      "Processing 572: 100%|██████████| 8/8 [00:04<00:00,  1.98it/s]\n"
     ]
    },
    {
     "name": "stdout",
     "output_type": "stream",
     "text": [
      "  Processed: 8, Failed: 0\n",
      "\n",
      "Processing character 854...\n"
     ]
    },
    {
     "name": "stderr",
     "output_type": "stream",
     "text": [
      "Processing 854: 100%|██████████| 8/8 [00:03<00:00,  2.04it/s]\n"
     ]
    },
    {
     "name": "stdout",
     "output_type": "stream",
     "text": [
      "  Processed: 8, Failed: 0\n",
      "\n",
      "Processing character 135...\n"
     ]
    },
    {
     "name": "stderr",
     "output_type": "stream",
     "text": [
      "Processing 135: 100%|██████████| 8/8 [00:03<00:00,  2.02it/s]\n"
     ]
    },
    {
     "name": "stdout",
     "output_type": "stream",
     "text": [
      "  Processed: 8, Failed: 0\n",
      "\n",
      "Processing character 9434...\n"
     ]
    },
    {
     "name": "stderr",
     "output_type": "stream",
     "text": [
      "Processing 9434: 100%|██████████| 8/8 [00:03<00:00,  2.07it/s]\n"
     ]
    },
    {
     "name": "stdout",
     "output_type": "stream",
     "text": [
      "  Processed: 8, Failed: 0\n",
      "\n",
      "Processing character 44...\n"
     ]
    },
    {
     "name": "stderr",
     "output_type": "stream",
     "text": [
      "Processing 44: 100%|██████████| 8/8 [00:03<00:00,  2.04it/s]\n"
     ]
    },
    {
     "name": "stdout",
     "output_type": "stream",
     "text": [
      "  Processed: 8, Failed: 0\n",
      "\n",
      "Processing character 5180...\n"
     ]
    },
    {
     "name": "stderr",
     "output_type": "stream",
     "text": [
      "Processing 5180: 100%|██████████| 8/8 [00:03<00:00,  2.10it/s]\n"
     ]
    },
    {
     "name": "stdout",
     "output_type": "stream",
     "text": [
      "  Processed: 8, Failed: 0\n",
      "\n",
      "Processing character 12755...\n"
     ]
    },
    {
     "name": "stderr",
     "output_type": "stream",
     "text": [
      "Processing 12755: 100%|██████████| 8/8 [00:03<00:00,  2.04it/s]\n"
     ]
    },
    {
     "name": "stdout",
     "output_type": "stream",
     "text": [
      "  Processed: 8, Failed: 0\n",
      "\n",
      "Processing character 16693...\n"
     ]
    },
    {
     "name": "stderr",
     "output_type": "stream",
     "text": [
      "Processing 16693: 100%|██████████| 8/8 [00:04<00:00,  1.68it/s]\n"
     ]
    },
    {
     "name": "stdout",
     "output_type": "stream",
     "text": [
      "  Processed: 8, Failed: 0\n",
      "\n",
      "Processing character 41...\n"
     ]
    },
    {
     "name": "stderr",
     "output_type": "stream",
     "text": [
      "Processing 41: 100%|██████████| 8/8 [00:04<00:00,  1.63it/s]\n"
     ]
    },
    {
     "name": "stdout",
     "output_type": "stream",
     "text": [
      "  Processed: 8, Failed: 0\n",
      "\n",
      "Processing character 4306...\n"
     ]
    },
    {
     "name": "stderr",
     "output_type": "stream",
     "text": [
      "Processing 4306: 100%|██████████| 8/8 [00:04<00:00,  1.66it/s]\n"
     ]
    },
    {
     "name": "stdout",
     "output_type": "stream",
     "text": [
      "  Processed: 8, Failed: 0\n",
      "\n",
      "Processing character 490...\n"
     ]
    },
    {
     "name": "stderr",
     "output_type": "stream",
     "text": [
      "Processing 490: 100%|██████████| 8/8 [00:04<00:00,  1.77it/s]\n"
     ]
    },
    {
     "name": "stdout",
     "output_type": "stream",
     "text": [
      "  Processed: 8, Failed: 0\n",
      "\n",
      "Processing character 892...\n"
     ]
    },
    {
     "name": "stderr",
     "output_type": "stream",
     "text": [
      "Processing 892: 100%|██████████| 8/8 [00:04<00:00,  1.70it/s]\n"
     ]
    },
    {
     "name": "stdout",
     "output_type": "stream",
     "text": [
      "  Processed: 8, Failed: 0\n",
      "\n",
      "Processing character 9041...\n"
     ]
    },
    {
     "name": "stderr",
     "output_type": "stream",
     "text": [
      "Processing 9041: 100%|██████████| 8/8 [00:05<00:00,  1.58it/s]\n"
     ]
    },
    {
     "name": "stdout",
     "output_type": "stream",
     "text": [
      "  Processed: 8, Failed: 0\n",
      "\n",
      "Processing character 17407...\n"
     ]
    },
    {
     "name": "stderr",
     "output_type": "stream",
     "text": [
      "Processing 17407: 100%|██████████| 8/8 [00:04<00:00,  1.62it/s]\n"
     ]
    },
    {
     "name": "stdout",
     "output_type": "stream",
     "text": [
      "  Processed: 8, Failed: 0\n",
      "\n",
      "Processing character 9450...\n"
     ]
    },
    {
     "name": "stderr",
     "output_type": "stream",
     "text": [
      "Processing 9450: 100%|██████████| 8/8 [00:04<00:00,  1.73it/s]\n"
     ]
    },
    {
     "name": "stdout",
     "output_type": "stream",
     "text": [
      "  Processed: 8, Failed: 0\n",
      "\n",
      "Processing character 68...\n"
     ]
    },
    {
     "name": "stderr",
     "output_type": "stream",
     "text": [
      "Processing 68: 100%|██████████| 8/8 [00:04<00:00,  1.83it/s]\n"
     ]
    },
    {
     "name": "stdout",
     "output_type": "stream",
     "text": [
      "  Processed: 8, Failed: 0\n",
      "\n",
      "Processing character 676...\n"
     ]
    },
    {
     "name": "stderr",
     "output_type": "stream",
     "text": [
      "Processing 676: 100%|██████████| 8/8 [00:04<00:00,  1.82it/s]\n"
     ]
    },
    {
     "name": "stdout",
     "output_type": "stream",
     "text": [
      "  Processed: 8, Failed: 0\n",
      "\n",
      "Processing character 708...\n"
     ]
    },
    {
     "name": "stderr",
     "output_type": "stream",
     "text": [
      "Processing 708: 100%|██████████| 8/8 [00:04<00:00,  1.73it/s]\n"
     ]
    },
    {
     "name": "stdout",
     "output_type": "stream",
     "text": [
      "  Processed: 8, Failed: 0\n",
      "\n",
      "Processing character 460...\n"
     ]
    },
    {
     "name": "stderr",
     "output_type": "stream",
     "text": [
      "Processing 460: 100%|██████████| 8/8 [00:05<00:00,  1.60it/s]\n"
     ]
    },
    {
     "name": "stdout",
     "output_type": "stream",
     "text": [
      "  Processed: 8, Failed: 0\n",
      "\n",
      "Processing character 4419...\n"
     ]
    },
    {
     "name": "stderr",
     "output_type": "stream",
     "text": [
      "Processing 4419: 100%|██████████| 8/8 [00:04<00:00,  1.88it/s]\n"
     ]
    },
    {
     "name": "stdout",
     "output_type": "stream",
     "text": [
      "  Processed: 8, Failed: 0\n",
      "\n",
      "Processing character 5776...\n"
     ]
    },
    {
     "name": "stderr",
     "output_type": "stream",
     "text": [
      "Processing 5776: 100%|██████████| 8/8 [00:04<00:00,  1.88it/s]\n"
     ]
    },
    {
     "name": "stdout",
     "output_type": "stream",
     "text": [
      "  Processed: 8, Failed: 0\n",
      "\n",
      "Processing character 4371...\n"
     ]
    },
    {
     "name": "stderr",
     "output_type": "stream",
     "text": [
      "Processing 4371: 100%|██████████| 8/8 [00:04<00:00,  1.81it/s]\n"
     ]
    },
    {
     "name": "stdout",
     "output_type": "stream",
     "text": [
      "  Processed: 8, Failed: 0\n",
      "\n",
      "Processing character 14701...\n"
     ]
    },
    {
     "name": "stderr",
     "output_type": "stream",
     "text": [
      "Processing 14701: 100%|██████████| 8/8 [00:04<00:00,  2.00it/s]\n"
     ]
    },
    {
     "name": "stdout",
     "output_type": "stream",
     "text": [
      "  Processed: 8, Failed: 0\n",
      "\n",
      "Processing character 14510...\n"
     ]
    },
    {
     "name": "stderr",
     "output_type": "stream",
     "text": [
      "Processing 14510: 100%|██████████| 8/8 [00:04<00:00,  1.82it/s]\n"
     ]
    },
    {
     "name": "stdout",
     "output_type": "stream",
     "text": [
      "  Processed: 8, Failed: 0\n",
      "\n",
      "Processing character 105...\n"
     ]
    },
    {
     "name": "stderr",
     "output_type": "stream",
     "text": [
      "Processing 105: 100%|██████████| 8/8 [00:04<00:00,  1.79it/s]\n"
     ]
    },
    {
     "name": "stdout",
     "output_type": "stream",
     "text": [
      "  Processed: 8, Failed: 0\n",
      "\n",
      "Processing character 9708...\n"
     ]
    },
    {
     "name": "stderr",
     "output_type": "stream",
     "text": [
      "Processing 9708: 100%|██████████| 8/8 [00:04<00:00,  1.79it/s]\n"
     ]
    },
    {
     "name": "stdout",
     "output_type": "stream",
     "text": [
      "  Processed: 8, Failed: 0\n",
      "\n",
      "Processing character 14798...\n"
     ]
    },
    {
     "name": "stderr",
     "output_type": "stream",
     "text": [
      "Processing 14798: 100%|██████████| 8/8 [00:04<00:00,  1.81it/s]\n"
     ]
    },
    {
     "name": "stdout",
     "output_type": "stream",
     "text": [
      "  Processed: 8, Failed: 0\n",
      "\n",
      "Processing character 12327...\n"
     ]
    },
    {
     "name": "stderr",
     "output_type": "stream",
     "text": [
      "Processing 12327: 100%|██████████| 8/8 [00:04<00:00,  1.75it/s]\n"
     ]
    },
    {
     "name": "stdout",
     "output_type": "stream",
     "text": [
      "  Processed: 8, Failed: 0\n",
      "\n",
      "Processing character 14508...\n"
     ]
    },
    {
     "name": "stderr",
     "output_type": "stream",
     "text": [
      "Processing 14508: 100%|██████████| 8/8 [00:04<00:00,  1.94it/s]\n"
     ]
    },
    {
     "name": "stdout",
     "output_type": "stream",
     "text": [
      "  Processed: 8, Failed: 0\n",
      "\n",
      "Processing character 15795...\n"
     ]
    },
    {
     "name": "stderr",
     "output_type": "stream",
     "text": [
      "Processing 15795: 100%|██████████| 8/8 [00:04<00:00,  1.93it/s]\n"
     ]
    },
    {
     "name": "stdout",
     "output_type": "stream",
     "text": [
      "  Processed: 8, Failed: 0\n",
      "\n",
      "Processing character 377...\n"
     ]
    },
    {
     "name": "stderr",
     "output_type": "stream",
     "text": [
      "Processing 377: 100%|██████████| 8/8 [00:04<00:00,  1.90it/s]\n"
     ]
    },
    {
     "name": "stdout",
     "output_type": "stream",
     "text": [
      "  Processed: 8, Failed: 0\n",
      "\n",
      "Processing character 458...\n"
     ]
    },
    {
     "name": "stderr",
     "output_type": "stream",
     "text": [
      "Processing 458: 100%|██████████| 8/8 [00:04<00:00,  1.76it/s]\n"
     ]
    },
    {
     "name": "stdout",
     "output_type": "stream",
     "text": [
      "  Processed: 8, Failed: 0\n",
      "\n",
      "Processing character 9528...\n"
     ]
    },
    {
     "name": "stderr",
     "output_type": "stream",
     "text": [
      "Processing 9528: 100%|██████████| 8/8 [00:04<00:00,  1.82it/s]\n"
     ]
    },
    {
     "name": "stdout",
     "output_type": "stream",
     "text": [
      "  Processed: 8, Failed: 0\n",
      "\n",
      "Processing character 18184...\n"
     ]
    },
    {
     "name": "stderr",
     "output_type": "stream",
     "text": [
      "Processing 18184: 100%|██████████| 8/8 [00:04<00:00,  1.77it/s]\n"
     ]
    },
    {
     "name": "stdout",
     "output_type": "stream",
     "text": [
      "  Processed: 8, Failed: 0\n",
      "\n",
      "Processing character 3291...\n"
     ]
    },
    {
     "name": "stderr",
     "output_type": "stream",
     "text": [
      "Processing 3291: 100%|██████████| 8/8 [00:04<00:00,  1.63it/s]\n"
     ]
    },
    {
     "name": "stdout",
     "output_type": "stream",
     "text": [
      "  Processed: 8, Failed: 0\n",
      "\n",
      "Processing character 5658...\n"
     ]
    },
    {
     "name": "stderr",
     "output_type": "stream",
     "text": [
      "Processing 5658: 100%|██████████| 8/8 [00:04<00:00,  1.76it/s]\n"
     ]
    },
    {
     "name": "stdout",
     "output_type": "stream",
     "text": [
      "  Processed: 8, Failed: 0\n",
      "\n",
      "Processing character 243...\n"
     ]
    },
    {
     "name": "stderr",
     "output_type": "stream",
     "text": [
      "Processing 243: 100%|██████████| 8/8 [00:04<00:00,  1.86it/s]\n"
     ]
    },
    {
     "name": "stdout",
     "output_type": "stream",
     "text": [
      "  Processed: 8, Failed: 0\n",
      "\n",
      "Processing character 4641...\n"
     ]
    },
    {
     "name": "stderr",
     "output_type": "stream",
     "text": [
      "Processing 4641: 100%|██████████| 8/8 [00:04<00:00,  1.87it/s]\n"
     ]
    },
    {
     "name": "stdout",
     "output_type": "stream",
     "text": [
      "  Processed: 8, Failed: 0\n",
      "\n",
      "Processing character 161...\n"
     ]
    },
    {
     "name": "stderr",
     "output_type": "stream",
     "text": [
      "Processing 161: 100%|██████████| 8/8 [00:03<00:00,  2.01it/s]\n"
     ]
    },
    {
     "name": "stdout",
     "output_type": "stream",
     "text": [
      "  Processed: 8, Failed: 0\n",
      "\n",
      "Processing character 5163...\n"
     ]
    },
    {
     "name": "stderr",
     "output_type": "stream",
     "text": [
      "Processing 5163: 100%|██████████| 8/8 [00:03<00:00,  2.02it/s]\n"
     ]
    },
    {
     "name": "stdout",
     "output_type": "stream",
     "text": [
      "  Processed: 8, Failed: 0\n",
      "\n",
      "Processing character 12165...\n"
     ]
    },
    {
     "name": "stderr",
     "output_type": "stream",
     "text": [
      "Processing 12165: 100%|██████████| 8/8 [00:04<00:00,  1.95it/s]\n"
     ]
    },
    {
     "name": "stdout",
     "output_type": "stream",
     "text": [
      "  Processed: 8, Failed: 0\n",
      "\n",
      "Processing character 14156...\n"
     ]
    },
    {
     "name": "stderr",
     "output_type": "stream",
     "text": [
      "Processing 14156: 100%|██████████| 8/8 [00:04<00:00,  1.83it/s]\n"
     ]
    },
    {
     "name": "stdout",
     "output_type": "stream",
     "text": [
      "  Processed: 8, Failed: 0\n",
      "\n",
      "Processing character 593...\n"
     ]
    },
    {
     "name": "stderr",
     "output_type": "stream",
     "text": [
      "Processing 593: 100%|██████████| 8/8 [00:04<00:00,  1.94it/s]\n"
     ]
    },
    {
     "name": "stdout",
     "output_type": "stream",
     "text": [
      "  Processed: 8, Failed: 0\n",
      "\n",
      "Processing character 109...\n"
     ]
    },
    {
     "name": "stderr",
     "output_type": "stream",
     "text": [
      "Processing 109: 100%|██████████| 8/8 [00:04<00:00,  1.85it/s]\n"
     ]
    },
    {
     "name": "stdout",
     "output_type": "stream",
     "text": [
      "  Processed: 8, Failed: 0\n",
      "\n",
      "Processing character 508...\n"
     ]
    },
    {
     "name": "stderr",
     "output_type": "stream",
     "text": [
      "Processing 508: 100%|██████████| 8/8 [00:04<00:00,  1.76it/s]\n"
     ]
    },
    {
     "name": "stdout",
     "output_type": "stream",
     "text": [
      "  Processed: 8, Failed: 0\n",
      "\n",
      "Processing character 10566...\n"
     ]
    },
    {
     "name": "stderr",
     "output_type": "stream",
     "text": [
      "Processing 10566: 100%|██████████| 8/8 [00:04<00:00,  2.00it/s]\n"
     ]
    },
    {
     "name": "stdout",
     "output_type": "stream",
     "text": [
      "  Processed: 8, Failed: 0\n",
      "\n",
      "Processing character 8196...\n"
     ]
    },
    {
     "name": "stderr",
     "output_type": "stream",
     "text": [
      "Processing 8196: 100%|██████████| 8/8 [00:03<00:00,  2.00it/s]\n"
     ]
    },
    {
     "name": "stdout",
     "output_type": "stream",
     "text": [
      "  Processed: 8, Failed: 0\n",
      "\n",
      "Processing character 718...\n"
     ]
    },
    {
     "name": "stderr",
     "output_type": "stream",
     "text": [
      "Processing 718: 100%|██████████| 8/8 [00:04<00:00,  1.99it/s]\n"
     ]
    },
    {
     "name": "stdout",
     "output_type": "stream",
     "text": [
      "  Processed: 8, Failed: 0\n",
      "\n",
      "Processing character 10822...\n"
     ]
    },
    {
     "name": "stderr",
     "output_type": "stream",
     "text": [
      "Processing 10822: 100%|██████████| 8/8 [00:04<00:00,  1.81it/s]\n"
     ]
    },
    {
     "name": "stdout",
     "output_type": "stream",
     "text": [
      "  Processed: 8, Failed: 0\n",
      "\n",
      "Processing character 609...\n"
     ]
    },
    {
     "name": "stderr",
     "output_type": "stream",
     "text": [
      "Processing 609: 100%|██████████| 8/8 [00:04<00:00,  1.85it/s]\n"
     ]
    },
    {
     "name": "stdout",
     "output_type": "stream",
     "text": [
      "  Processed: 8, Failed: 0\n",
      "\n",
      "Processing character 9228...\n"
     ]
    },
    {
     "name": "stderr",
     "output_type": "stream",
     "text": [
      "Processing 9228: 100%|██████████| 8/8 [00:04<00:00,  1.87it/s]\n"
     ]
    },
    {
     "name": "stdout",
     "output_type": "stream",
     "text": [
      "  Processed: 8, Failed: 0\n",
      "\n",
      "Processing character 5174...\n"
     ]
    },
    {
     "name": "stderr",
     "output_type": "stream",
     "text": [
      "Processing 5174: 100%|██████████| 8/8 [00:04<00:00,  1.86it/s]\n"
     ]
    },
    {
     "name": "stdout",
     "output_type": "stream",
     "text": [
      "  Processed: 8, Failed: 0\n",
      "\n",
      "Processing character 59...\n"
     ]
    },
    {
     "name": "stderr",
     "output_type": "stream",
     "text": [
      "Processing 59: 100%|██████████| 8/8 [00:04<00:00,  1.77it/s]\n"
     ]
    },
    {
     "name": "stdout",
     "output_type": "stream",
     "text": [
      "  Processed: 8, Failed: 0\n",
      "\n",
      "Processing character 689...\n"
     ]
    },
    {
     "name": "stderr",
     "output_type": "stream",
     "text": [
      "Processing 689: 100%|██████████| 8/8 [00:04<00:00,  1.85it/s]\n"
     ]
    },
    {
     "name": "stdout",
     "output_type": "stream",
     "text": [
      "  Processed: 8, Failed: 0\n",
      "\n",
      "Processing character 554...\n"
     ]
    },
    {
     "name": "stderr",
     "output_type": "stream",
     "text": [
      "Processing 554: 100%|██████████| 8/8 [00:04<00:00,  1.96it/s]\n"
     ]
    },
    {
     "name": "stdout",
     "output_type": "stream",
     "text": [
      "  Processed: 8, Failed: 0\n",
      "\n",
      "Processing character 15449...\n"
     ]
    },
    {
     "name": "stderr",
     "output_type": "stream",
     "text": [
      "Processing 15449: 100%|██████████| 8/8 [00:04<00:00,  1.84it/s]\n"
     ]
    },
    {
     "name": "stdout",
     "output_type": "stream",
     "text": [
      "  Processed: 8, Failed: 0\n",
      "\n",
      "Processing character 16196...\n"
     ]
    },
    {
     "name": "stderr",
     "output_type": "stream",
     "text": [
      "Processing 16196: 100%|██████████| 8/8 [00:04<00:00,  1.85it/s]\n"
     ]
    },
    {
     "name": "stdout",
     "output_type": "stream",
     "text": [
      "  Processed: 8, Failed: 0\n",
      "\n",
      "Processing character 378...\n"
     ]
    },
    {
     "name": "stderr",
     "output_type": "stream",
     "text": [
      "Processing 378: 100%|██████████| 8/8 [00:04<00:00,  1.85it/s]\n"
     ]
    },
    {
     "name": "stdout",
     "output_type": "stream",
     "text": [
      "  Processed: 8, Failed: 0\n",
      "\n",
      "Processing character 394...\n"
     ]
    },
    {
     "name": "stderr",
     "output_type": "stream",
     "text": [
      "Processing 394: 100%|██████████| 8/8 [00:04<00:00,  1.74it/s]\n"
     ]
    },
    {
     "name": "stdout",
     "output_type": "stream",
     "text": [
      "  Processed: 8, Failed: 0\n",
      "\n",
      "Processing character 8472...\n"
     ]
    },
    {
     "name": "stderr",
     "output_type": "stream",
     "text": [
      "Processing 8472: 100%|██████████| 8/8 [00:04<00:00,  1.84it/s]\n"
     ]
    },
    {
     "name": "stdout",
     "output_type": "stream",
     "text": [
      "  Processed: 8, Failed: 0\n",
      "\n",
      "Processing character 728...\n"
     ]
    },
    {
     "name": "stderr",
     "output_type": "stream",
     "text": [
      "Processing 728: 100%|██████████| 8/8 [00:04<00:00,  1.85it/s]\n"
     ]
    },
    {
     "name": "stdout",
     "output_type": "stream",
     "text": [
      "  Processed: 8, Failed: 0\n",
      "\n",
      "Processing character 7967...\n"
     ]
    },
    {
     "name": "stderr",
     "output_type": "stream",
     "text": [
      "Processing 7967: 100%|██████████| 8/8 [00:04<00:00,  1.93it/s]\n"
     ]
    },
    {
     "name": "stdout",
     "output_type": "stream",
     "text": [
      "  Processed: 8, Failed: 0\n",
      "\n",
      "Processing character 163...\n"
     ]
    },
    {
     "name": "stderr",
     "output_type": "stream",
     "text": [
      "Processing 163: 100%|██████████| 8/8 [00:04<00:00,  1.68it/s]\n"
     ]
    },
    {
     "name": "stdout",
     "output_type": "stream",
     "text": [
      "  Processed: 8, Failed: 0\n",
      "\n",
      "Processing character 9543...\n"
     ]
    },
    {
     "name": "stderr",
     "output_type": "stream",
     "text": [
      "Processing 9543: 100%|██████████| 8/8 [00:04<00:00,  1.87it/s]\n"
     ]
    },
    {
     "name": "stdout",
     "output_type": "stream",
     "text": [
      "  Processed: 8, Failed: 0\n",
      "\n",
      "Processing character 8246...\n"
     ]
    },
    {
     "name": "stderr",
     "output_type": "stream",
     "text": [
      "Processing 8246: 100%|██████████| 8/8 [00:04<00:00,  1.66it/s]\n"
     ]
    },
    {
     "name": "stdout",
     "output_type": "stream",
     "text": [
      "  Processed: 8, Failed: 0\n",
      "\n",
      "Processing character 10820...\n"
     ]
    },
    {
     "name": "stderr",
     "output_type": "stream",
     "text": [
      "Processing 10820: 100%|██████████| 8/8 [00:04<00:00,  1.83it/s]\n"
     ]
    },
    {
     "name": "stdout",
     "output_type": "stream",
     "text": [
      "  Processed: 8, Failed: 0\n",
      "\n",
      "Processing character 15231...\n"
     ]
    },
    {
     "name": "stderr",
     "output_type": "stream",
     "text": [
      "Processing 15231: 100%|██████████| 8/8 [00:04<00:00,  1.90it/s]\n"
     ]
    },
    {
     "name": "stdout",
     "output_type": "stream",
     "text": [
      "  Processed: 8, Failed: 0\n",
      "\n",
      "Processing character 5443...\n"
     ]
    },
    {
     "name": "stderr",
     "output_type": "stream",
     "text": [
      "Processing 5443: 100%|██████████| 8/8 [00:04<00:00,  1.86it/s]\n"
     ]
    },
    {
     "name": "stdout",
     "output_type": "stream",
     "text": [
      "  Processed: 8, Failed: 0\n",
      "\n",
      "Processing character 597...\n"
     ]
    },
    {
     "name": "stderr",
     "output_type": "stream",
     "text": [
      "Processing 597: 100%|██████████| 8/8 [00:04<00:00,  1.75it/s]\n"
     ]
    },
    {
     "name": "stdout",
     "output_type": "stream",
     "text": [
      "  Processed: 8, Failed: 0\n",
      "\n",
      "Processing character 10007...\n"
     ]
    },
    {
     "name": "stderr",
     "output_type": "stream",
     "text": [
      "Processing 10007: 100%|██████████| 8/8 [00:04<00:00,  1.78it/s]\n"
     ]
    },
    {
     "name": "stdout",
     "output_type": "stream",
     "text": [
      "  Processed: 8, Failed: 0\n",
      "\n",
      "Processing character 12753...\n"
     ]
    },
    {
     "name": "stderr",
     "output_type": "stream",
     "text": [
      "Processing 12753: 100%|██████████| 8/8 [00:04<00:00,  1.88it/s]\n"
     ]
    },
    {
     "name": "stdout",
     "output_type": "stream",
     "text": [
      "  Processed: 8, Failed: 0\n",
      "\n",
      "Processing character 314...\n"
     ]
    },
    {
     "name": "stderr",
     "output_type": "stream",
     "text": [
      "Processing 314: 100%|██████████| 8/8 [00:04<00:00,  1.68it/s]\n"
     ]
    },
    {
     "name": "stdout",
     "output_type": "stream",
     "text": [
      "  Processed: 8, Failed: 0\n",
      "\n",
      "Processing character 10983...\n"
     ]
    },
    {
     "name": "stderr",
     "output_type": "stream",
     "text": [
      "Processing 10983: 100%|██████████| 8/8 [00:04<00:00,  1.67it/s]\n"
     ]
    },
    {
     "name": "stdout",
     "output_type": "stream",
     "text": [
      "  Processed: 8, Failed: 0\n",
      "\n",
      "Processing character 369...\n"
     ]
    },
    {
     "name": "stderr",
     "output_type": "stream",
     "text": [
      "Processing 369: 100%|██████████| 8/8 [00:04<00:00,  1.87it/s]\n"
     ]
    },
    {
     "name": "stdout",
     "output_type": "stream",
     "text": [
      "  Processed: 8, Failed: 0\n",
      "\n",
      "Processing character 6701...\n"
     ]
    },
    {
     "name": "stderr",
     "output_type": "stream",
     "text": [
      "Processing 6701: 100%|██████████| 8/8 [00:04<00:00,  1.73it/s]\n"
     ]
    },
    {
     "name": "stdout",
     "output_type": "stream",
     "text": [
      "  Processed: 8, Failed: 0\n",
      "\n",
      "Processing character 8627...\n"
     ]
    },
    {
     "name": "stderr",
     "output_type": "stream",
     "text": [
      "Processing 8627: 100%|██████████| 8/8 [00:04<00:00,  1.81it/s]\n"
     ]
    },
    {
     "name": "stdout",
     "output_type": "stream",
     "text": [
      "  Processed: 8, Failed: 0\n",
      "\n",
      "Processing character 9498...\n"
     ]
    },
    {
     "name": "stderr",
     "output_type": "stream",
     "text": [
      "Processing 9498: 100%|██████████| 8/8 [00:04<00:00,  1.70it/s]\n"
     ]
    },
    {
     "name": "stdout",
     "output_type": "stream",
     "text": [
      "  Processed: 8, Failed: 0\n",
      "\n",
      "Processing character 17580...\n"
     ]
    },
    {
     "name": "stderr",
     "output_type": "stream",
     "text": [
      "Processing 17580: 100%|██████████| 8/8 [00:04<00:00,  1.72it/s]\n"
     ]
    },
    {
     "name": "stdout",
     "output_type": "stream",
     "text": [
      "  Processed: 8, Failed: 0\n",
      "\n",
      "Processing character 203...\n"
     ]
    },
    {
     "name": "stderr",
     "output_type": "stream",
     "text": [
      "Processing 203: 100%|██████████| 8/8 [00:04<00:00,  1.72it/s]\n"
     ]
    },
    {
     "name": "stdout",
     "output_type": "stream",
     "text": [
      "  Processed: 8, Failed: 0\n",
      "\n",
      "Processing character 16194...\n"
     ]
    },
    {
     "name": "stderr",
     "output_type": "stream",
     "text": [
      "Processing 16194: 100%|██████████| 8/8 [00:04<00:00,  1.82it/s]\n"
     ]
    },
    {
     "name": "stdout",
     "output_type": "stream",
     "text": [
      "  Processed: 8, Failed: 0\n",
      "\n",
      "Processing character 11909...\n"
     ]
    },
    {
     "name": "stderr",
     "output_type": "stream",
     "text": [
      "Processing 11909: 100%|██████████| 8/8 [00:03<00:00,  2.01it/s]\n"
     ]
    },
    {
     "name": "stdout",
     "output_type": "stream",
     "text": [
      "  Processed: 8, Failed: 0\n",
      "\n",
      "Processing character 11546...\n"
     ]
    },
    {
     "name": "stderr",
     "output_type": "stream",
     "text": [
      "Processing 11546: 100%|██████████| 8/8 [00:04<00:00,  1.78it/s]\n"
     ]
    },
    {
     "name": "stdout",
     "output_type": "stream",
     "text": [
      "  Processed: 8, Failed: 0\n",
      "\n",
      "Processing character 15209...\n"
     ]
    },
    {
     "name": "stderr",
     "output_type": "stream",
     "text": [
      "Processing 15209: 100%|██████████| 8/8 [00:04<00:00,  1.81it/s]\n"
     ]
    },
    {
     "name": "stdout",
     "output_type": "stream",
     "text": [
      "  Processed: 8, Failed: 0\n",
      "\n",
      "Processing character 6592...\n"
     ]
    },
    {
     "name": "stderr",
     "output_type": "stream",
     "text": [
      "Processing 6592: 100%|██████████| 8/8 [00:04<00:00,  1.71it/s]\n"
     ]
    },
    {
     "name": "stdout",
     "output_type": "stream",
     "text": [
      "  Processed: 8, Failed: 0\n",
      "\n",
      "Processing character 11912...\n"
     ]
    },
    {
     "name": "stderr",
     "output_type": "stream",
     "text": [
      "Processing 11912: 100%|██████████| 8/8 [00:04<00:00,  1.90it/s]\n"
     ]
    },
    {
     "name": "stdout",
     "output_type": "stream",
     "text": [
      "  Processed: 8, Failed: 0\n",
      "\n",
      "Processing character 7778...\n"
     ]
    },
    {
     "name": "stderr",
     "output_type": "stream",
     "text": [
      "Processing 7778: 100%|██████████| 8/8 [00:04<00:00,  1.93it/s]\n"
     ]
    },
    {
     "name": "stdout",
     "output_type": "stream",
     "text": [
      "  Processed: 8, Failed: 0\n",
      "\n",
      "Processing character 3274...\n"
     ]
    },
    {
     "name": "stderr",
     "output_type": "stream",
     "text": [
      "Processing 3274: 100%|██████████| 8/8 [00:04<00:00,  1.92it/s]\n"
     ]
    },
    {
     "name": "stdout",
     "output_type": "stream",
     "text": [
      "  Processed: 8, Failed: 0\n",
      "\n",
      "Processing character 760...\n"
     ]
    },
    {
     "name": "stderr",
     "output_type": "stream",
     "text": [
      "Processing 760: 100%|██████████| 8/8 [00:04<00:00,  1.86it/s]\n"
     ]
    },
    {
     "name": "stdout",
     "output_type": "stream",
     "text": [
      "  Processed: 8, Failed: 0\n",
      "\n",
      "Processing character 115...\n"
     ]
    },
    {
     "name": "stderr",
     "output_type": "stream",
     "text": [
      "Processing 115: 100%|██████████| 8/8 [00:04<00:00,  1.93it/s]\n"
     ]
    },
    {
     "name": "stdout",
     "output_type": "stream",
     "text": [
      "  Processed: 8, Failed: 0\n",
      "\n",
      "Processing character 11814...\n"
     ]
    },
    {
     "name": "stderr",
     "output_type": "stream",
     "text": [
      "Processing 11814: 100%|██████████| 8/8 [00:04<00:00,  1.67it/s]\n"
     ]
    },
    {
     "name": "stdout",
     "output_type": "stream",
     "text": [
      "  Processed: 8, Failed: 0\n",
      "\n",
      "Processing character 745...\n"
     ]
    },
    {
     "name": "stderr",
     "output_type": "stream",
     "text": [
      "Processing 745: 100%|██████████| 8/8 [00:04<00:00,  1.83it/s]\n"
     ]
    },
    {
     "name": "stdout",
     "output_type": "stream",
     "text": [
      "  Processed: 8, Failed: 0\n",
      "\n",
      "Processing character 14458...\n"
     ]
    },
    {
     "name": "stderr",
     "output_type": "stream",
     "text": [
      "Processing 14458: 100%|██████████| 8/8 [00:04<00:00,  1.93it/s]\n"
     ]
    },
    {
     "name": "stdout",
     "output_type": "stream",
     "text": [
      "  Processed: 8, Failed: 0\n",
      "\n",
      "Processing character 899...\n"
     ]
    },
    {
     "name": "stderr",
     "output_type": "stream",
     "text": [
      "Processing 899: 100%|██████████| 8/8 [00:04<00:00,  1.79it/s]\n"
     ]
    },
    {
     "name": "stdout",
     "output_type": "stream",
     "text": [
      "  Processed: 8, Failed: 0\n",
      "\n",
      "Processing character 6026...\n"
     ]
    },
    {
     "name": "stderr",
     "output_type": "stream",
     "text": [
      "Processing 6026: 100%|██████████| 8/8 [00:04<00:00,  1.87it/s]\n"
     ]
    },
    {
     "name": "stdout",
     "output_type": "stream",
     "text": [
      "  Processed: 8, Failed: 0\n",
      "\n",
      "Processing character 11441...\n"
     ]
    },
    {
     "name": "stderr",
     "output_type": "stream",
     "text": [
      "Processing 11441: 100%|██████████| 8/8 [00:04<00:00,  1.94it/s]\n"
     ]
    },
    {
     "name": "stdout",
     "output_type": "stream",
     "text": [
      "  Processed: 8, Failed: 0\n",
      "\n",
      "Processing character 5366...\n"
     ]
    },
    {
     "name": "stderr",
     "output_type": "stream",
     "text": [
      "Processing 5366: 100%|██████████| 8/8 [00:04<00:00,  1.63it/s]\n"
     ]
    },
    {
     "name": "stdout",
     "output_type": "stream",
     "text": [
      "  Processed: 8, Failed: 0\n",
      "\n",
      "Processing character 11320...\n"
     ]
    },
    {
     "name": "stderr",
     "output_type": "stream",
     "text": [
      "Processing 11320: 100%|██████████| 8/8 [00:04<00:00,  1.75it/s]\n"
     ]
    },
    {
     "name": "stdout",
     "output_type": "stream",
     "text": [
      "  Processed: 8, Failed: 0\n",
      "\n",
      "Processing character 11448...\n"
     ]
    },
    {
     "name": "stderr",
     "output_type": "stream",
     "text": [
      "Processing 11448: 100%|██████████| 8/8 [00:04<00:00,  1.93it/s]\n"
     ]
    },
    {
     "name": "stdout",
     "output_type": "stream",
     "text": [
      "  Processed: 8, Failed: 0\n",
      "\n",
      "Processing character 409...\n"
     ]
    },
    {
     "name": "stderr",
     "output_type": "stream",
     "text": [
      "Processing 409: 100%|██████████| 8/8 [00:04<00:00,  1.95it/s]\n"
     ]
    },
    {
     "name": "stdout",
     "output_type": "stream",
     "text": [
      "  Processed: 8, Failed: 0\n",
      "\n",
      "Processing character 17147...\n"
     ]
    },
    {
     "name": "stderr",
     "output_type": "stream",
     "text": [
      "Processing 17147: 100%|██████████| 8/8 [00:04<00:00,  1.73it/s]\n"
     ]
    },
    {
     "name": "stdout",
     "output_type": "stream",
     "text": [
      "  Processed: 8, Failed: 0\n",
      "\n",
      "Processing character 6763...\n"
     ]
    },
    {
     "name": "stderr",
     "output_type": "stream",
     "text": [
      "Processing 6763: 100%|██████████| 8/8 [00:04<00:00,  1.74it/s]\n"
     ]
    },
    {
     "name": "stdout",
     "output_type": "stream",
     "text": [
      "  Processed: 8, Failed: 0\n",
      "\n",
      "Processing character 410...\n"
     ]
    },
    {
     "name": "stderr",
     "output_type": "stream",
     "text": [
      "Processing 410: 100%|██████████| 8/8 [00:04<00:00,  1.82it/s]\n"
     ]
    },
    {
     "name": "stdout",
     "output_type": "stream",
     "text": [
      "  Processed: 8, Failed: 0\n",
      "\n",
      "Processing character 18076...\n"
     ]
    },
    {
     "name": "stderr",
     "output_type": "stream",
     "text": [
      "Processing 18076: 100%|██████████| 8/8 [00:04<00:00,  1.81it/s]\n"
     ]
    },
    {
     "name": "stdout",
     "output_type": "stream",
     "text": [
      "  Processed: 8, Failed: 0\n",
      "\n",
      "Processing character 17794...\n"
     ]
    },
    {
     "name": "stderr",
     "output_type": "stream",
     "text": [
      "Processing 17794: 100%|██████████| 8/8 [00:04<00:00,  1.60it/s]\n"
     ]
    },
    {
     "name": "stdout",
     "output_type": "stream",
     "text": [
      "  Processed: 8, Failed: 0\n",
      "\n",
      "Processing character 10644...\n"
     ]
    },
    {
     "name": "stderr",
     "output_type": "stream",
     "text": [
      "Processing 10644: 100%|██████████| 8/8 [00:04<00:00,  1.77it/s]\n"
     ]
    },
    {
     "name": "stdout",
     "output_type": "stream",
     "text": [
      "  Processed: 8, Failed: 0\n",
      "\n",
      "Processing character 142...\n"
     ]
    },
    {
     "name": "stderr",
     "output_type": "stream",
     "text": [
      "Processing 142: 100%|██████████| 8/8 [00:04<00:00,  1.86it/s]\n"
     ]
    },
    {
     "name": "stdout",
     "output_type": "stream",
     "text": [
      "  Processed: 8, Failed: 0\n",
      "\n",
      "Processing character 16896...\n"
     ]
    },
    {
     "name": "stderr",
     "output_type": "stream",
     "text": [
      "Processing 16896: 100%|██████████| 8/8 [00:04<00:00,  1.87it/s]\n"
     ]
    },
    {
     "name": "stdout",
     "output_type": "stream",
     "text": [
      "  Processed: 8, Failed: 0\n",
      "\n",
      "Processing character 16621...\n"
     ]
    },
    {
     "name": "stderr",
     "output_type": "stream",
     "text": [
      "Processing 16621: 100%|██████████| 8/8 [00:04<00:00,  1.90it/s]\n"
     ]
    },
    {
     "name": "stdout",
     "output_type": "stream",
     "text": [
      "  Processed: 8, Failed: 0\n",
      "\n",
      "Processing character 6402...\n"
     ]
    },
    {
     "name": "stderr",
     "output_type": "stream",
     "text": [
      "Processing 6402: 100%|██████████| 8/8 [00:04<00:00,  1.62it/s]\n"
     ]
    },
    {
     "name": "stdout",
     "output_type": "stream",
     "text": [
      "  Processed: 8, Failed: 0\n",
      "\n",
      "Processing character 341...\n"
     ]
    },
    {
     "name": "stderr",
     "output_type": "stream",
     "text": [
      "Processing 341: 100%|██████████| 8/8 [00:04<00:00,  1.79it/s]\n"
     ]
    },
    {
     "name": "stdout",
     "output_type": "stream",
     "text": [
      "  Processed: 8, Failed: 0\n",
      "\n",
      "Processing character 132...\n"
     ]
    },
    {
     "name": "stderr",
     "output_type": "stream",
     "text": [
      "Processing 132: 100%|██████████| 8/8 [00:04<00:00,  1.79it/s]\n"
     ]
    },
    {
     "name": "stdout",
     "output_type": "stream",
     "text": [
      "  Processed: 8, Failed: 0\n",
      "\n",
      "Processing character 14438...\n"
     ]
    },
    {
     "name": "stderr",
     "output_type": "stream",
     "text": [
      "Processing 14438: 100%|██████████| 8/8 [00:04<00:00,  1.90it/s]\n"
     ]
    },
    {
     "name": "stdout",
     "output_type": "stream",
     "text": [
      "  Processed: 8, Failed: 0\n",
      "\n",
      "Processing character 8085...\n"
     ]
    },
    {
     "name": "stderr",
     "output_type": "stream",
     "text": [
      "Processing 8085: 100%|██████████| 8/8 [00:04<00:00,  1.62it/s]\n"
     ]
    },
    {
     "name": "stdout",
     "output_type": "stream",
     "text": [
      "  Processed: 8, Failed: 0\n",
      "\n",
      "Processing character 18942...\n"
     ]
    },
    {
     "name": "stderr",
     "output_type": "stream",
     "text": [
      "Processing 18942: 100%|██████████| 8/8 [00:04<00:00,  1.77it/s]\n"
     ]
    },
    {
     "name": "stdout",
     "output_type": "stream",
     "text": [
      "  Processed: 8, Failed: 0\n",
      "\n",
      "Processing character 768...\n"
     ]
    },
    {
     "name": "stderr",
     "output_type": "stream",
     "text": [
      "Processing 768: 100%|██████████| 8/8 [00:04<00:00,  1.69it/s]\n"
     ]
    },
    {
     "name": "stdout",
     "output_type": "stream",
     "text": [
      "  Processed: 8, Failed: 0\n",
      "\n",
      "Processing character 4699...\n"
     ]
    },
    {
     "name": "stderr",
     "output_type": "stream",
     "text": [
      "Processing 4699: 100%|██████████| 8/8 [00:04<00:00,  1.75it/s]\n"
     ]
    },
    {
     "name": "stdout",
     "output_type": "stream",
     "text": [
      "  Processed: 8, Failed: 0\n",
      "\n",
      "Processing character 736...\n"
     ]
    },
    {
     "name": "stderr",
     "output_type": "stream",
     "text": [
      "Processing 736: 100%|██████████| 8/8 [00:04<00:00,  1.89it/s]\n"
     ]
    },
    {
     "name": "stdout",
     "output_type": "stream",
     "text": [
      "  Processed: 8, Failed: 0\n",
      "\n",
      "Processing character 17146...\n"
     ]
    },
    {
     "name": "stderr",
     "output_type": "stream",
     "text": [
      "Processing 17146: 100%|██████████| 8/8 [00:06<00:00,  1.28it/s]\n"
     ]
    },
    {
     "name": "stdout",
     "output_type": "stream",
     "text": [
      "  Processed: 8, Failed: 0\n",
      "\n",
      "Processing character 15971...\n"
     ]
    },
    {
     "name": "stderr",
     "output_type": "stream",
     "text": [
      "Processing 15971: 100%|██████████| 8/8 [00:04<00:00,  1.62it/s]\n"
     ]
    },
    {
     "name": "stdout",
     "output_type": "stream",
     "text": [
      "  Processed: 8, Failed: 0\n",
      "\n",
      "Processing character 14955...\n"
     ]
    },
    {
     "name": "stderr",
     "output_type": "stream",
     "text": [
      "Processing 14955: 100%|██████████| 8/8 [00:03<00:00,  2.08it/s]\n"
     ]
    },
    {
     "name": "stdout",
     "output_type": "stream",
     "text": [
      "  Processed: 8, Failed: 0\n",
      "\n",
      "Processing character 4337...\n"
     ]
    },
    {
     "name": "stderr",
     "output_type": "stream",
     "text": [
      "Processing 4337: 100%|██████████| 8/8 [00:04<00:00,  1.86it/s]\n"
     ]
    },
    {
     "name": "stdout",
     "output_type": "stream",
     "text": [
      "  Processed: 8, Failed: 0\n",
      "\n",
      "Processing character 285...\n"
     ]
    },
    {
     "name": "stderr",
     "output_type": "stream",
     "text": [
      "Processing 285: 100%|██████████| 8/8 [00:04<00:00,  1.82it/s]\n"
     ]
    },
    {
     "name": "stdout",
     "output_type": "stream",
     "text": [
      "  Processed: 8, Failed: 0\n",
      "\n",
      "Processing character 759...\n"
     ]
    },
    {
     "name": "stderr",
     "output_type": "stream",
     "text": [
      "Processing 759: 100%|██████████| 8/8 [00:04<00:00,  1.63it/s]\n"
     ]
    },
    {
     "name": "stdout",
     "output_type": "stream",
     "text": [
      "  Processed: 8, Failed: 0\n",
      "\n",
      "Processing character 15579...\n"
     ]
    },
    {
     "name": "stderr",
     "output_type": "stream",
     "text": [
      "Processing 15579: 100%|██████████| 8/8 [00:04<00:00,  1.61it/s]\n"
     ]
    },
    {
     "name": "stdout",
     "output_type": "stream",
     "text": [
      "  Processed: 8, Failed: 0\n",
      "\n",
      "Processing character 14927...\n"
     ]
    },
    {
     "name": "stderr",
     "output_type": "stream",
     "text": [
      "Processing 14927: 100%|██████████| 8/8 [00:04<00:00,  1.75it/s]\n"
     ]
    },
    {
     "name": "stdout",
     "output_type": "stream",
     "text": [
      "  Processed: 8, Failed: 0\n",
      "\n",
      "Processing character 11567...\n"
     ]
    },
    {
     "name": "stderr",
     "output_type": "stream",
     "text": [
      "Processing 11567: 100%|██████████| 8/8 [00:04<00:00,  1.95it/s]\n"
     ]
    },
    {
     "name": "stdout",
     "output_type": "stream",
     "text": [
      "  Processed: 8, Failed: 0\n",
      "\n",
      "Processing character 5251...\n"
     ]
    },
    {
     "name": "stderr",
     "output_type": "stream",
     "text": [
      "Processing 5251: 100%|██████████| 8/8 [00:04<00:00,  1.92it/s]\n"
     ]
    },
    {
     "name": "stdout",
     "output_type": "stream",
     "text": [
      "  Processed: 8, Failed: 0\n",
      "\n",
      "Processing character 9070...\n"
     ]
    },
    {
     "name": "stderr",
     "output_type": "stream",
     "text": [
      "Processing 9070: 100%|██████████| 8/8 [00:04<00:00,  1.75it/s]\n"
     ]
    },
    {
     "name": "stdout",
     "output_type": "stream",
     "text": [
      "  Processed: 8, Failed: 0\n",
      "\n",
      "Processing character 17130...\n"
     ]
    },
    {
     "name": "stderr",
     "output_type": "stream",
     "text": [
      "Processing 17130: 100%|██████████| 8/8 [00:04<00:00,  1.75it/s]\n"
     ]
    },
    {
     "name": "stdout",
     "output_type": "stream",
     "text": [
      "  Processed: 8, Failed: 0\n",
      "\n",
      "Processing character 4967...\n"
     ]
    },
    {
     "name": "stderr",
     "output_type": "stream",
     "text": [
      "Processing 4967: 100%|██████████| 8/8 [00:04<00:00,  1.80it/s]\n"
     ]
    },
    {
     "name": "stdout",
     "output_type": "stream",
     "text": [
      "  Processed: 8, Failed: 0\n",
      "\n",
      "Processing character 8084...\n"
     ]
    },
    {
     "name": "stderr",
     "output_type": "stream",
     "text": [
      "Processing 8084: 100%|██████████| 8/8 [00:03<00:00,  2.05it/s]\n"
     ]
    },
    {
     "name": "stdout",
     "output_type": "stream",
     "text": [
      "  Processed: 8, Failed: 0\n",
      "\n",
      "Processing character 18606...\n"
     ]
    },
    {
     "name": "stderr",
     "output_type": "stream",
     "text": [
      "Processing 18606: 100%|██████████| 8/8 [00:03<00:00,  2.12it/s]\n"
     ]
    },
    {
     "name": "stdout",
     "output_type": "stream",
     "text": [
      "  Processed: 8, Failed: 0\n",
      "\n",
      "Processing character 6158...\n"
     ]
    },
    {
     "name": "stderr",
     "output_type": "stream",
     "text": [
      "Processing 6158: 100%|██████████| 8/8 [00:04<00:00,  1.99it/s]\n"
     ]
    },
    {
     "name": "stdout",
     "output_type": "stream",
     "text": [
      "  Processed: 8, Failed: 0\n",
      "\n",
      "Processing character 9657...\n"
     ]
    },
    {
     "name": "stderr",
     "output_type": "stream",
     "text": [
      "Processing 9657: 100%|██████████| 8/8 [00:04<00:00,  1.82it/s]\n"
     ]
    },
    {
     "name": "stdout",
     "output_type": "stream",
     "text": [
      "  Processed: 8, Failed: 0\n",
      "\n",
      "Processing character 305...\n"
     ]
    },
    {
     "name": "stderr",
     "output_type": "stream",
     "text": [
      "Processing 305: 100%|██████████| 8/8 [00:04<00:00,  1.72it/s]\n"
     ]
    },
    {
     "name": "stdout",
     "output_type": "stream",
     "text": [
      "  Processed: 8, Failed: 0\n",
      "\n",
      "Processing character 562...\n"
     ]
    },
    {
     "name": "stderr",
     "output_type": "stream",
     "text": [
      "Processing 562: 100%|██████████| 8/8 [00:04<00:00,  1.79it/s]\n"
     ]
    },
    {
     "name": "stdout",
     "output_type": "stream",
     "text": [
      "  Processed: 8, Failed: 0\n",
      "\n",
      "Processing character 11908...\n"
     ]
    },
    {
     "name": "stderr",
     "output_type": "stream",
     "text": [
      "Processing 11908: 100%|██████████| 8/8 [00:04<00:00,  2.00it/s]\n"
     ]
    },
    {
     "name": "stdout",
     "output_type": "stream",
     "text": [
      "  Processed: 8, Failed: 0\n",
      "\n",
      "Processing character 647...\n"
     ]
    },
    {
     "name": "stderr",
     "output_type": "stream",
     "text": [
      "Processing 647: 100%|██████████| 8/8 [00:04<00:00,  1.89it/s]\n"
     ]
    },
    {
     "name": "stdout",
     "output_type": "stream",
     "text": [
      "  Processed: 8, Failed: 0\n",
      "\n",
      "Processing character 351...\n"
     ]
    },
    {
     "name": "stderr",
     "output_type": "stream",
     "text": [
      "Processing 351: 100%|██████████| 8/8 [00:04<00:00,  1.86it/s]\n"
     ]
    },
    {
     "name": "stdout",
     "output_type": "stream",
     "text": [
      "  Processed: 8, Failed: 0\n",
      "\n",
      "Processing character 14976...\n"
     ]
    },
    {
     "name": "stderr",
     "output_type": "stream",
     "text": [
      "Processing 14976: 100%|██████████| 8/8 [00:04<00:00,  1.85it/s]\n"
     ]
    },
    {
     "name": "stdout",
     "output_type": "stream",
     "text": [
      "  Processed: 8, Failed: 0\n",
      "\n",
      "Processing character 18181...\n"
     ]
    },
    {
     "name": "stderr",
     "output_type": "stream",
     "text": [
      "Processing 18181: 100%|██████████| 8/8 [00:04<00:00,  1.77it/s]\n"
     ]
    },
    {
     "name": "stdout",
     "output_type": "stream",
     "text": [
      "  Processed: 8, Failed: 0\n",
      "\n",
      "Processing character 18341...\n"
     ]
    },
    {
     "name": "stderr",
     "output_type": "stream",
     "text": [
      "Processing 18341: 100%|██████████| 8/8 [00:04<00:00,  1.84it/s]\n"
     ]
    },
    {
     "name": "stdout",
     "output_type": "stream",
     "text": [
      "  Processed: 8, Failed: 0\n",
      "\n",
      "Processing character 268...\n"
     ]
    },
    {
     "name": "stderr",
     "output_type": "stream",
     "text": [
      "Processing 268: 100%|██████████| 8/8 [00:04<00:00,  1.88it/s]\n"
     ]
    },
    {
     "name": "stdout",
     "output_type": "stream",
     "text": [
      "  Processed: 8, Failed: 0\n",
      "\n",
      "Processing character 11024...\n"
     ]
    },
    {
     "name": "stderr",
     "output_type": "stream",
     "text": [
      "Processing 11024: 100%|██████████| 8/8 [00:04<00:00,  1.78it/s]\n"
     ]
    },
    {
     "name": "stdout",
     "output_type": "stream",
     "text": [
      "  Processed: 8, Failed: 0\n",
      "\n",
      "Processing character 4487...\n"
     ]
    },
    {
     "name": "stderr",
     "output_type": "stream",
     "text": [
      "Processing 4487: 100%|██████████| 8/8 [00:04<00:00,  1.77it/s]\n"
     ]
    },
    {
     "name": "stdout",
     "output_type": "stream",
     "text": [
      "  Processed: 8, Failed: 0\n",
      "\n",
      "Processing character 457...\n"
     ]
    },
    {
     "name": "stderr",
     "output_type": "stream",
     "text": [
      "Processing 457: 100%|██████████| 8/8 [00:04<00:00,  1.77it/s]\n"
     ]
    },
    {
     "name": "stdout",
     "output_type": "stream",
     "text": [
      "  Processed: 8, Failed: 0\n",
      "\n",
      "Processing character 133...\n"
     ]
    },
    {
     "name": "stderr",
     "output_type": "stream",
     "text": [
      "Processing 133: 100%|██████████| 8/8 [00:05<00:00,  1.49it/s]\n"
     ]
    },
    {
     "name": "stdout",
     "output_type": "stream",
     "text": [
      "  Processed: 8, Failed: 0\n",
      "\n",
      "Processing character 4702...\n"
     ]
    },
    {
     "name": "stderr",
     "output_type": "stream",
     "text": [
      "Processing 4702: 100%|██████████| 8/8 [00:04<00:00,  1.64it/s]\n"
     ]
    },
    {
     "name": "stdout",
     "output_type": "stream",
     "text": [
      "  Processed: 8, Failed: 0\n",
      "\n",
      "Processing character 807...\n"
     ]
    },
    {
     "name": "stderr",
     "output_type": "stream",
     "text": [
      "Processing 807: 100%|██████████| 8/8 [00:04<00:00,  1.72it/s]\n"
     ]
    },
    {
     "name": "stdout",
     "output_type": "stream",
     "text": [
      "  Processed: 8, Failed: 0\n",
      "\n",
      "Processing character 10486...\n"
     ]
    },
    {
     "name": "stderr",
     "output_type": "stream",
     "text": [
      "Processing 10486: 100%|██████████| 8/8 [00:04<00:00,  1.64it/s]\n"
     ]
    },
    {
     "name": "stdout",
     "output_type": "stream",
     "text": [
      "  Processed: 8, Failed: 0\n",
      "\n",
      "Processing character 10564...\n"
     ]
    },
    {
     "name": "stderr",
     "output_type": "stream",
     "text": [
      "Processing 10564: 100%|██████████| 8/8 [00:05<00:00,  1.50it/s]\n"
     ]
    },
    {
     "name": "stdout",
     "output_type": "stream",
     "text": [
      "  Processed: 8, Failed: 0\n",
      "\n",
      "Processing character 5885...\n"
     ]
    },
    {
     "name": "stderr",
     "output_type": "stream",
     "text": [
      "Processing 5885: 100%|██████████| 8/8 [00:04<00:00,  1.78it/s]\n"
     ]
    },
    {
     "name": "stdout",
     "output_type": "stream",
     "text": [
      "  Processed: 8, Failed: 0\n",
      "\n",
      "Processing character 17581...\n"
     ]
    },
    {
     "name": "stderr",
     "output_type": "stream",
     "text": [
      "Processing 17581: 100%|██████████| 8/8 [00:04<00:00,  1.76it/s]\n"
     ]
    },
    {
     "name": "stdout",
     "output_type": "stream",
     "text": [
      "  Processed: 8, Failed: 0\n",
      "\n",
      "Processing character 17848...\n"
     ]
    },
    {
     "name": "stderr",
     "output_type": "stream",
     "text": [
      "Processing 17848: 100%|██████████| 8/8 [00:04<00:00,  1.72it/s]\n"
     ]
    },
    {
     "name": "stdout",
     "output_type": "stream",
     "text": [
      "  Processed: 8, Failed: 0\n",
      "\n",
      "Processing character 5331...\n"
     ]
    },
    {
     "name": "stderr",
     "output_type": "stream",
     "text": [
      "Processing 5331: 100%|██████████| 8/8 [00:04<00:00,  1.69it/s]\n"
     ]
    },
    {
     "name": "stdout",
     "output_type": "stream",
     "text": [
      "  Processed: 8, Failed: 0\n",
      "\n",
      "Processing character 130...\n"
     ]
    },
    {
     "name": "stderr",
     "output_type": "stream",
     "text": [
      "Processing 130: 100%|██████████| 8/8 [00:04<00:00,  1.85it/s]\n"
     ]
    },
    {
     "name": "stdout",
     "output_type": "stream",
     "text": [
      "  Processed: 8, Failed: 0\n",
      "\n",
      "Processing character 4492...\n"
     ]
    },
    {
     "name": "stderr",
     "output_type": "stream",
     "text": [
      "Processing 4492: 100%|██████████| 8/8 [00:04<00:00,  1.79it/s]\n"
     ]
    },
    {
     "name": "stdout",
     "output_type": "stream",
     "text": [
      "  Processed: 8, Failed: 0\n",
      "\n",
      "Processing character 33...\n"
     ]
    },
    {
     "name": "stderr",
     "output_type": "stream",
     "text": [
      "Processing 33: 100%|██████████| 8/8 [00:04<00:00,  1.71it/s]\n"
     ]
    },
    {
     "name": "stdout",
     "output_type": "stream",
     "text": [
      "  Processed: 8, Failed: 0\n",
      "\n",
      "Processing character 14797...\n"
     ]
    },
    {
     "name": "stderr",
     "output_type": "stream",
     "text": [
      "Processing 14797: 100%|██████████| 8/8 [00:04<00:00,  1.81it/s]\n"
     ]
    },
    {
     "name": "stdout",
     "output_type": "stream",
     "text": [
      "  Processed: 8, Failed: 0\n",
      "\n",
      "Processing character 16680...\n"
     ]
    },
    {
     "name": "stderr",
     "output_type": "stream",
     "text": [
      "Processing 16680: 100%|██████████| 8/8 [00:04<00:00,  1.68it/s]\n"
     ]
    },
    {
     "name": "stdout",
     "output_type": "stream",
     "text": [
      "  Processed: 8, Failed: 0\n",
      "\n",
      "Processing character 502...\n"
     ]
    },
    {
     "name": "stderr",
     "output_type": "stream",
     "text": [
      "Processing 502: 100%|██████████| 8/8 [00:05<00:00,  1.46it/s]\n"
     ]
    },
    {
     "name": "stdout",
     "output_type": "stream",
     "text": [
      "  Processed: 8, Failed: 0\n",
      "\n",
      "Processing character 19253...\n"
     ]
    },
    {
     "name": "stderr",
     "output_type": "stream",
     "text": [
      "Processing 19253: 100%|██████████| 8/8 [00:04<00:00,  1.73it/s]\n"
     ]
    },
    {
     "name": "stdout",
     "output_type": "stream",
     "text": [
      "  Processed: 8, Failed: 0\n",
      "\n",
      "Processing character 8336...\n"
     ]
    },
    {
     "name": "stderr",
     "output_type": "stream",
     "text": [
      "Processing 8336: 100%|██████████| 8/8 [00:04<00:00,  1.70it/s]\n"
     ]
    },
    {
     "name": "stdout",
     "output_type": "stream",
     "text": [
      "  Processed: 8, Failed: 0\n",
      "\n",
      "Processing character 425...\n"
     ]
    },
    {
     "name": "stderr",
     "output_type": "stream",
     "text": [
      "Processing 425: 100%|██████████| 8/8 [00:04<00:00,  1.75it/s]\n"
     ]
    },
    {
     "name": "stdout",
     "output_type": "stream",
     "text": [
      "  Processed: 8, Failed: 0\n",
      "\n",
      "Processing character 50...\n"
     ]
    },
    {
     "name": "stderr",
     "output_type": "stream",
     "text": [
      "Processing 50: 100%|██████████| 8/8 [00:04<00:00,  1.71it/s]\n"
     ]
    },
    {
     "name": "stdout",
     "output_type": "stream",
     "text": [
      "  Processed: 8, Failed: 0\n",
      "\n",
      "Processing character 604...\n"
     ]
    },
    {
     "name": "stderr",
     "output_type": "stream",
     "text": [
      "Processing 604: 100%|██████████| 8/8 [00:04<00:00,  1.71it/s]\n"
     ]
    },
    {
     "name": "stdout",
     "output_type": "stream",
     "text": [
      "  Processed: 8, Failed: 0\n",
      "\n",
      "Processing character 817...\n"
     ]
    },
    {
     "name": "stderr",
     "output_type": "stream",
     "text": [
      "Processing 817: 100%|██████████| 8/8 [00:04<00:00,  1.83it/s]\n"
     ]
    },
    {
     "name": "stdout",
     "output_type": "stream",
     "text": [
      "  Processed: 8, Failed: 0\n",
      "\n",
      "Processing character 11330...\n"
     ]
    },
    {
     "name": "stderr",
     "output_type": "stream",
     "text": [
      "Processing 11330: 100%|██████████| 8/8 [00:04<00:00,  1.78it/s]\n"
     ]
    },
    {
     "name": "stdout",
     "output_type": "stream",
     "text": [
      "  Processed: 8, Failed: 0\n",
      "\n",
      "Processing character 4448...\n"
     ]
    },
    {
     "name": "stderr",
     "output_type": "stream",
     "text": [
      "Processing 4448: 100%|██████████| 8/8 [00:04<00:00,  1.62it/s]\n"
     ]
    },
    {
     "name": "stdout",
     "output_type": "stream",
     "text": [
      "  Processed: 8, Failed: 0\n",
      "\n",
      "Processing character 8244...\n"
     ]
    },
    {
     "name": "stderr",
     "output_type": "stream",
     "text": [
      "Processing 8244: 100%|██████████| 8/8 [00:04<00:00,  1.74it/s]\n"
     ]
    },
    {
     "name": "stdout",
     "output_type": "stream",
     "text": [
      "  Processed: 8, Failed: 0\n",
      "\n",
      "Processing character 19047...\n"
     ]
    },
    {
     "name": "stderr",
     "output_type": "stream",
     "text": [
      "Processing 19047: 100%|██████████| 8/8 [00:04<00:00,  1.81it/s]\n"
     ]
    },
    {
     "name": "stdout",
     "output_type": "stream",
     "text": [
      "  Processed: 8, Failed: 0\n",
      "\n",
      "Processing character 17933...\n"
     ]
    },
    {
     "name": "stderr",
     "output_type": "stream",
     "text": [
      "Processing 17933: 100%|██████████| 8/8 [00:05<00:00,  1.59it/s]\n"
     ]
    },
    {
     "name": "stdout",
     "output_type": "stream",
     "text": [
      "  Processed: 8, Failed: 0\n",
      "\n",
      "Processing character 15565...\n"
     ]
    },
    {
     "name": "stderr",
     "output_type": "stream",
     "text": [
      "Processing 15565: 100%|██████████| 8/8 [00:04<00:00,  1.83it/s]\n"
     ]
    },
    {
     "name": "stdout",
     "output_type": "stream",
     "text": [
      "  Processed: 8, Failed: 0\n",
      "\n",
      "Processing character 18343...\n"
     ]
    },
    {
     "name": "stderr",
     "output_type": "stream",
     "text": [
      "Processing 18343: 100%|██████████| 8/8 [00:04<00:00,  1.77it/s]\n"
     ]
    },
    {
     "name": "stdout",
     "output_type": "stream",
     "text": [
      "  Processed: 8, Failed: 0\n",
      "\n",
      "Processing character 20...\n"
     ]
    },
    {
     "name": "stderr",
     "output_type": "stream",
     "text": [
      "Processing 20: 100%|██████████| 8/8 [00:04<00:00,  1.83it/s]\n"
     ]
    },
    {
     "name": "stdout",
     "output_type": "stream",
     "text": [
      "  Processed: 8, Failed: 0\n",
      "\n",
      "Processing character 595...\n"
     ]
    },
    {
     "name": "stderr",
     "output_type": "stream",
     "text": [
      "Processing 595: 100%|██████████| 8/8 [00:04<00:00,  1.64it/s]\n"
     ]
    },
    {
     "name": "stdout",
     "output_type": "stream",
     "text": [
      "  Processed: 8, Failed: 0\n",
      "\n",
      "Processing character 12402...\n"
     ]
    },
    {
     "name": "stderr",
     "output_type": "stream",
     "text": [
      "Processing 12402: 100%|██████████| 8/8 [00:04<00:00,  1.84it/s]\n"
     ]
    },
    {
     "name": "stdout",
     "output_type": "stream",
     "text": [
      "  Processed: 8, Failed: 0\n",
      "\n",
      "Processing character 679...\n"
     ]
    },
    {
     "name": "stderr",
     "output_type": "stream",
     "text": [
      "Processing 679: 100%|██████████| 8/8 [00:04<00:00,  1.68it/s]\n"
     ]
    },
    {
     "name": "stdout",
     "output_type": "stream",
     "text": [
      "  Processed: 8, Failed: 0\n",
      "\n",
      "Processing character 38...\n"
     ]
    },
    {
     "name": "stderr",
     "output_type": "stream",
     "text": [
      "Processing 38: 100%|██████████| 8/8 [00:04<00:00,  1.87it/s]\n"
     ]
    },
    {
     "name": "stdout",
     "output_type": "stream",
     "text": [
      "  Processed: 8, Failed: 0\n",
      "\n",
      "Processing character 269...\n"
     ]
    },
    {
     "name": "stderr",
     "output_type": "stream",
     "text": [
      "Processing 269: 100%|██████████| 8/8 [00:04<00:00,  1.76it/s]\n"
     ]
    },
    {
     "name": "stdout",
     "output_type": "stream",
     "text": [
      "  Processed: 8, Failed: 0\n",
      "\n",
      "Processing character 5729...\n"
     ]
    },
    {
     "name": "stderr",
     "output_type": "stream",
     "text": [
      "Processing 5729: 100%|██████████| 8/8 [00:04<00:00,  1.90it/s]\n"
     ]
    },
    {
     "name": "stdout",
     "output_type": "stream",
     "text": [
      "  Processed: 8, Failed: 0\n",
      "\n",
      "Processing character 4683...\n"
     ]
    },
    {
     "name": "stderr",
     "output_type": "stream",
     "text": [
      "Processing 4683: 100%|██████████| 8/8 [00:04<00:00,  1.80it/s]\n"
     ]
    },
    {
     "name": "stdout",
     "output_type": "stream",
     "text": [
      "  Processed: 8, Failed: 0\n",
      "\n",
      "Processing character 6330...\n"
     ]
    },
    {
     "name": "stderr",
     "output_type": "stream",
     "text": [
      "Processing 6330: 100%|██████████| 8/8 [00:04<00:00,  1.91it/s]\n"
     ]
    },
    {
     "name": "stdout",
     "output_type": "stream",
     "text": [
      "  Processed: 8, Failed: 0\n",
      "\n",
      "Processing character 11916...\n"
     ]
    },
    {
     "name": "stderr",
     "output_type": "stream",
     "text": [
      "Processing 11916: 100%|██████████| 8/8 [00:04<00:00,  1.60it/s]\n"
     ]
    },
    {
     "name": "stdout",
     "output_type": "stream",
     "text": [
      "  Processed: 8, Failed: 0\n",
      "\n",
      "Processing character 9405...\n"
     ]
    },
    {
     "name": "stderr",
     "output_type": "stream",
     "text": [
      "Processing 9405: 100%|██████████| 8/8 [00:04<00:00,  1.78it/s]\n"
     ]
    },
    {
     "name": "stdout",
     "output_type": "stream",
     "text": [
      "  Processed: 8, Failed: 0\n",
      "\n",
      "Processing character 6522...\n"
     ]
    },
    {
     "name": "stderr",
     "output_type": "stream",
     "text": [
      "Processing 6522: 100%|██████████| 8/8 [00:04<00:00,  1.77it/s]\n"
     ]
    },
    {
     "name": "stdout",
     "output_type": "stream",
     "text": [
      "  Processed: 8, Failed: 0\n",
      "\n",
      "Processing character 15976...\n"
     ]
    },
    {
     "name": "stderr",
     "output_type": "stream",
     "text": [
      "Processing 15976: 100%|██████████| 8/8 [00:04<00:00,  1.63it/s]\n"
     ]
    },
    {
     "name": "stdout",
     "output_type": "stream",
     "text": [
      "  Processed: 8, Failed: 0\n",
      "\n",
      "Processing character 367...\n"
     ]
    },
    {
     "name": "stderr",
     "output_type": "stream",
     "text": [
      "Processing 367: 100%|██████████| 8/8 [00:05<00:00,  1.50it/s]\n"
     ]
    },
    {
     "name": "stdout",
     "output_type": "stream",
     "text": [
      "  Processed: 8, Failed: 0\n",
      "\n",
      "Processing character 617...\n"
     ]
    },
    {
     "name": "stderr",
     "output_type": "stream",
     "text": [
      "Processing 617: 100%|██████████| 8/8 [00:04<00:00,  1.76it/s]\n"
     ]
    },
    {
     "name": "stdout",
     "output_type": "stream",
     "text": [
      "  Processed: 8, Failed: 0\n",
      "\n",
      "Processing character 17784...\n"
     ]
    },
    {
     "name": "stderr",
     "output_type": "stream",
     "text": [
      "Processing 17784: 100%|██████████| 8/8 [00:04<00:00,  1.78it/s]\n"
     ]
    },
    {
     "name": "stdout",
     "output_type": "stream",
     "text": [
      "  Processed: 8, Failed: 0\n",
      "\n",
      "Processing character 4669...\n"
     ]
    },
    {
     "name": "stderr",
     "output_type": "stream",
     "text": [
      "Processing 4669: 100%|██████████| 8/8 [00:04<00:00,  1.98it/s]\n"
     ]
    },
    {
     "name": "stdout",
     "output_type": "stream",
     "text": [
      "  Processed: 8, Failed: 0\n",
      "\n",
      "Processing character 284...\n"
     ]
    },
    {
     "name": "stderr",
     "output_type": "stream",
     "text": [
      "Processing 284: 100%|██████████| 8/8 [00:04<00:00,  1.94it/s]\n"
     ]
    },
    {
     "name": "stdout",
     "output_type": "stream",
     "text": [
      "  Processed: 8, Failed: 0\n",
      "\n",
      "Processing character 11326...\n"
     ]
    },
    {
     "name": "stderr",
     "output_type": "stream",
     "text": [
      "Processing 11326: 100%|██████████| 8/8 [00:04<00:00,  1.96it/s]\n"
     ]
    },
    {
     "name": "stdout",
     "output_type": "stream",
     "text": [
      "  Processed: 8, Failed: 0\n",
      "\n",
      "Processing character 178...\n"
     ]
    },
    {
     "name": "stderr",
     "output_type": "stream",
     "text": [
      "Processing 178: 100%|██████████| 8/8 [00:04<00:00,  1.97it/s]\n"
     ]
    },
    {
     "name": "stdout",
     "output_type": "stream",
     "text": [
      "  Processed: 8, Failed: 0\n",
      "\n",
      "Processing character 298...\n"
     ]
    },
    {
     "name": "stderr",
     "output_type": "stream",
     "text": [
      "Processing 298: 100%|██████████| 8/8 [00:04<00:00,  1.97it/s]\n"
     ]
    },
    {
     "name": "stdout",
     "output_type": "stream",
     "text": [
      "  Processed: 8, Failed: 0\n",
      "\n",
      "Processing character 553...\n"
     ]
    },
    {
     "name": "stderr",
     "output_type": "stream",
     "text": [
      "Processing 553: 100%|██████████| 8/8 [00:04<00:00,  1.88it/s]\n"
     ]
    },
    {
     "name": "stdout",
     "output_type": "stream",
     "text": [
      "  Processed: 8, Failed: 0\n",
      "\n",
      "Processing character 4301...\n"
     ]
    },
    {
     "name": "stderr",
     "output_type": "stream",
     "text": [
      "Processing 4301: 100%|██████████| 8/8 [00:04<00:00,  1.97it/s]\n"
     ]
    },
    {
     "name": "stdout",
     "output_type": "stream",
     "text": [
      "  Processed: 8, Failed: 0\n",
      "\n",
      "Processing character 8555...\n"
     ]
    },
    {
     "name": "stderr",
     "output_type": "stream",
     "text": [
      "Processing 8555: 100%|██████████| 8/8 [00:04<00:00,  1.97it/s]\n"
     ]
    },
    {
     "name": "stdout",
     "output_type": "stream",
     "text": [
      "  Processed: 8, Failed: 0\n",
      "\n",
      "Processing character 9556...\n"
     ]
    },
    {
     "name": "stderr",
     "output_type": "stream",
     "text": [
      "Processing 9556: 100%|██████████| 8/8 [00:04<00:00,  1.86it/s]\n"
     ]
    },
    {
     "name": "stdout",
     "output_type": "stream",
     "text": [
      "  Processed: 8, Failed: 0\n",
      "\n",
      "Processing character 271...\n"
     ]
    },
    {
     "name": "stderr",
     "output_type": "stream",
     "text": [
      "Processing 271: 100%|██████████| 8/8 [00:04<00:00,  1.94it/s]\n"
     ]
    },
    {
     "name": "stdout",
     "output_type": "stream",
     "text": [
      "  Processed: 8, Failed: 0\n",
      "\n",
      "Processing character 889...\n"
     ]
    },
    {
     "name": "stderr",
     "output_type": "stream",
     "text": [
      "Processing 889: 100%|██████████| 8/8 [00:04<00:00,  1.87it/s]\n"
     ]
    },
    {
     "name": "stdout",
     "output_type": "stream",
     "text": [
      "  Processed: 8, Failed: 0\n",
      "\n",
      "Processing character 515...\n"
     ]
    },
    {
     "name": "stderr",
     "output_type": "stream",
     "text": [
      "Processing 515: 100%|██████████| 8/8 [00:03<00:00,  2.01it/s]\n"
     ]
    },
    {
     "name": "stdout",
     "output_type": "stream",
     "text": [
      "  Processed: 8, Failed: 0\n",
      "\n",
      "Processing character 17145...\n"
     ]
    },
    {
     "name": "stderr",
     "output_type": "stream",
     "text": [
      "Processing 17145: 100%|██████████| 8/8 [00:04<00:00,  1.75it/s]\n"
     ]
    },
    {
     "name": "stdout",
     "output_type": "stream",
     "text": [
      "  Processed: 8, Failed: 0\n",
      "\n",
      "Processing character 19020...\n"
     ]
    },
    {
     "name": "stderr",
     "output_type": "stream",
     "text": [
      "Processing 19020: 100%|██████████| 8/8 [00:04<00:00,  1.66it/s]\n"
     ]
    },
    {
     "name": "stdout",
     "output_type": "stream",
     "text": [
      "  Processed: 8, Failed: 0\n",
      "\n",
      "Processing character 29...\n"
     ]
    },
    {
     "name": "stderr",
     "output_type": "stream",
     "text": [
      "Processing 29: 100%|██████████| 8/8 [00:04<00:00,  1.93it/s]\n"
     ]
    },
    {
     "name": "stdout",
     "output_type": "stream",
     "text": [
      "  Processed: 8, Failed: 0\n",
      "\n",
      "Processing character 17941...\n"
     ]
    },
    {
     "name": "stderr",
     "output_type": "stream",
     "text": [
      "Processing 17941: 100%|██████████| 8/8 [00:04<00:00,  1.89it/s]\n"
     ]
    },
    {
     "name": "stdout",
     "output_type": "stream",
     "text": [
      "  Processed: 8, Failed: 0\n",
      "\n",
      "Processing character 894...\n"
     ]
    },
    {
     "name": "stderr",
     "output_type": "stream",
     "text": [
      "Processing 894: 100%|██████████| 8/8 [00:03<00:00,  2.04it/s]\n"
     ]
    },
    {
     "name": "stdout",
     "output_type": "stream",
     "text": [
      "  Processed: 8, Failed: 0\n",
      "\n",
      "Processing character 18651...\n"
     ]
    },
    {
     "name": "stderr",
     "output_type": "stream",
     "text": [
      "Processing 18651: 100%|██████████| 8/8 [00:04<00:00,  1.99it/s]\n"
     ]
    },
    {
     "name": "stdout",
     "output_type": "stream",
     "text": [
      "  Processed: 8, Failed: 0\n",
      "\n",
      "Processing character 8...\n"
     ]
    },
    {
     "name": "stderr",
     "output_type": "stream",
     "text": [
      "Processing 8: 100%|██████████| 8/8 [00:03<00:00,  2.05it/s]\n"
     ]
    },
    {
     "name": "stdout",
     "output_type": "stream",
     "text": [
      "  Processed: 8, Failed: 0\n",
      "\n",
      "Processing character 16195...\n"
     ]
    },
    {
     "name": "stderr",
     "output_type": "stream",
     "text": [
      "Processing 16195: 100%|██████████| 8/8 [00:04<00:00,  1.82it/s]\n"
     ]
    },
    {
     "name": "stdout",
     "output_type": "stream",
     "text": [
      "  Processed: 8, Failed: 0\n",
      "\n",
      "Processing character 9436...\n"
     ]
    },
    {
     "name": "stderr",
     "output_type": "stream",
     "text": [
      "Processing 9436: 100%|██████████| 8/8 [00:04<00:00,  1.62it/s]\n"
     ]
    },
    {
     "name": "stdout",
     "output_type": "stream",
     "text": [
      "  Processed: 8, Failed: 0\n",
      "\n",
      "Processing character 9071...\n"
     ]
    },
    {
     "name": "stderr",
     "output_type": "stream",
     "text": [
      "Processing 9071: 100%|██████████| 8/8 [00:04<00:00,  1.67it/s]\n"
     ]
    },
    {
     "name": "stdout",
     "output_type": "stream",
     "text": [
      "  Processed: 8, Failed: 0\n",
      "\n",
      "Processing character 488...\n"
     ]
    },
    {
     "name": "stderr",
     "output_type": "stream",
     "text": [
      "Processing 488: 100%|██████████| 8/8 [00:04<00:00,  1.74it/s]\n"
     ]
    },
    {
     "name": "stdout",
     "output_type": "stream",
     "text": [
      "  Processed: 8, Failed: 0\n",
      "\n",
      "Processing character 569...\n"
     ]
    },
    {
     "name": "stderr",
     "output_type": "stream",
     "text": [
      "Processing 569: 100%|██████████| 8/8 [00:04<00:00,  1.88it/s]\n"
     ]
    },
    {
     "name": "stdout",
     "output_type": "stream",
     "text": [
      "  Processed: 8, Failed: 0\n",
      "\n",
      "Processing character 4447...\n"
     ]
    },
    {
     "name": "stderr",
     "output_type": "stream",
     "text": [
      "Processing 4447: 100%|██████████| 8/8 [00:04<00:00,  1.72it/s]\n"
     ]
    },
    {
     "name": "stdout",
     "output_type": "stream",
     "text": [
      "  Processed: 8, Failed: 0\n",
      "\n",
      "Processing character 10454...\n"
     ]
    },
    {
     "name": "stderr",
     "output_type": "stream",
     "text": [
      "Processing 10454: 100%|██████████| 8/8 [00:04<00:00,  1.90it/s]\n"
     ]
    },
    {
     "name": "stdout",
     "output_type": "stream",
     "text": [
      "  Processed: 8, Failed: 0\n",
      "\n",
      "Processing character 176...\n"
     ]
    },
    {
     "name": "stderr",
     "output_type": "stream",
     "text": [
      "Processing 176: 100%|██████████| 8/8 [00:04<00:00,  1.83it/s]\n"
     ]
    },
    {
     "name": "stdout",
     "output_type": "stream",
     "text": [
      "  Processed: 8, Failed: 0\n",
      "\n",
      "Processing character 14152...\n"
     ]
    },
    {
     "name": "stderr",
     "output_type": "stream",
     "text": [
      "Processing 14152: 100%|██████████| 8/8 [00:04<00:00,  1.95it/s]\n"
     ]
    },
    {
     "name": "stdout",
     "output_type": "stream",
     "text": [
      "  Processed: 8, Failed: 0\n",
      "\n",
      "Processing character 525...\n"
     ]
    },
    {
     "name": "stderr",
     "output_type": "stream",
     "text": [
      "Processing 525: 100%|██████████| 8/8 [00:04<00:00,  1.71it/s]\n"
     ]
    },
    {
     "name": "stdout",
     "output_type": "stream",
     "text": [
      "  Processed: 8, Failed: 0\n",
      "\n",
      "Processing character 800...\n"
     ]
    },
    {
     "name": "stderr",
     "output_type": "stream",
     "text": [
      "Processing 800: 100%|██████████| 8/8 [00:05<00:00,  1.52it/s]\n"
     ]
    },
    {
     "name": "stdout",
     "output_type": "stream",
     "text": [
      "  Processed: 8, Failed: 0\n",
      "\n",
      "Processing character 489...\n"
     ]
    },
    {
     "name": "stderr",
     "output_type": "stream",
     "text": [
      "Processing 489: 100%|██████████| 8/8 [00:04<00:00,  1.88it/s]\n"
     ]
    },
    {
     "name": "stdout",
     "output_type": "stream",
     "text": [
      "  Processed: 8, Failed: 0\n",
      "\n",
      "Processing character 18337...\n"
     ]
    },
    {
     "name": "stderr",
     "output_type": "stream",
     "text": [
      "Processing 18337: 100%|██████████| 8/8 [00:04<00:00,  1.80it/s]\n"
     ]
    },
    {
     "name": "stdout",
     "output_type": "stream",
     "text": [
      "  Processed: 8, Failed: 0\n",
      "\n",
      "Processing character 8469...\n"
     ]
    },
    {
     "name": "stderr",
     "output_type": "stream",
     "text": [
      "Processing 8469: 100%|██████████| 8/8 [00:04<00:00,  1.81it/s]\n"
     ]
    },
    {
     "name": "stdout",
     "output_type": "stream",
     "text": [
      "  Processed: 8, Failed: 0\n",
      "\n",
      "Processing character 359...\n"
     ]
    },
    {
     "name": "stderr",
     "output_type": "stream",
     "text": [
      "Processing 359: 100%|██████████| 8/8 [00:04<00:00,  1.75it/s]\n"
     ]
    },
    {
     "name": "stdout",
     "output_type": "stream",
     "text": [
      "  Processed: 8, Failed: 0\n",
      "\n",
      "Processing character 19105...\n"
     ]
    },
    {
     "name": "stderr",
     "output_type": "stream",
     "text": [
      "Processing 19105: 100%|██████████| 8/8 [00:04<00:00,  1.78it/s]\n"
     ]
    },
    {
     "name": "stdout",
     "output_type": "stream",
     "text": [
      "  Processed: 8, Failed: 0\n",
      "\n",
      "Processing character 17582...\n"
     ]
    },
    {
     "name": "stderr",
     "output_type": "stream",
     "text": [
      "Processing 17582: 100%|██████████| 8/8 [00:05<00:00,  1.48it/s]\n"
     ]
    },
    {
     "name": "stdout",
     "output_type": "stream",
     "text": [
      "  Processed: 8, Failed: 0\n",
      "\n",
      "Processing character 17787...\n"
     ]
    },
    {
     "name": "stderr",
     "output_type": "stream",
     "text": [
      "Processing 17787: 100%|██████████| 8/8 [00:04<00:00,  1.90it/s]\n"
     ]
    },
    {
     "name": "stdout",
     "output_type": "stream",
     "text": [
      "  Processed: 8, Failed: 0\n",
      "\n",
      "Processing character 829...\n"
     ]
    },
    {
     "name": "stderr",
     "output_type": "stream",
     "text": [
      "Processing 829: 100%|██████████| 8/8 [00:04<00:00,  1.87it/s]\n"
     ]
    },
    {
     "name": "stdout",
     "output_type": "stream",
     "text": [
      "  Processed: 8, Failed: 0\n",
      "\n",
      "Processing character 19260...\n"
     ]
    },
    {
     "name": "stderr",
     "output_type": "stream",
     "text": [
      "Processing 19260: 100%|██████████| 8/8 [00:04<00:00,  1.72it/s]\n"
     ]
    },
    {
     "name": "stdout",
     "output_type": "stream",
     "text": [
      "  Processed: 8, Failed: 0\n",
      "\n",
      "Processing character 17575...\n"
     ]
    },
    {
     "name": "stderr",
     "output_type": "stream",
     "text": [
      "Processing 17575: 100%|██████████| 8/8 [00:04<00:00,  1.84it/s]\n"
     ]
    },
    {
     "name": "stdout",
     "output_type": "stream",
     "text": [
      "  Processed: 8, Failed: 0\n",
      "\n",
      "Processing character 731...\n"
     ]
    },
    {
     "name": "stderr",
     "output_type": "stream",
     "text": [
      "Processing 731: 100%|██████████| 8/8 [00:04<00:00,  1.88it/s]\n"
     ]
    },
    {
     "name": "stdout",
     "output_type": "stream",
     "text": [
      "  Processed: 8, Failed: 0\n",
      "\n",
      "Processing character 352...\n"
     ]
    },
    {
     "name": "stderr",
     "output_type": "stream",
     "text": [
      "Processing 352: 100%|██████████| 8/8 [00:04<00:00,  1.80it/s]\n"
     ]
    },
    {
     "name": "stdout",
     "output_type": "stream",
     "text": [
      "  Processed: 8, Failed: 0\n",
      "\n",
      "Processing character 167...\n"
     ]
    },
    {
     "name": "stderr",
     "output_type": "stream",
     "text": [
      "Processing 167: 100%|██████████| 8/8 [00:04<00:00,  1.64it/s]\n"
     ]
    },
    {
     "name": "stdout",
     "output_type": "stream",
     "text": [
      "  Processed: 8, Failed: 0\n",
      "\n",
      "Processing character 16...\n"
     ]
    },
    {
     "name": "stderr",
     "output_type": "stream",
     "text": [
      "Processing 16: 100%|██████████| 8/8 [00:04<00:00,  1.85it/s]\n"
     ]
    },
    {
     "name": "stdout",
     "output_type": "stream",
     "text": [
      "  Processed: 8, Failed: 0\n",
      "\n",
      "Processing character 262...\n"
     ]
    },
    {
     "name": "stderr",
     "output_type": "stream",
     "text": [
      "Processing 262: 100%|██████████| 8/8 [00:04<00:00,  1.73it/s]\n"
     ]
    },
    {
     "name": "stdout",
     "output_type": "stream",
     "text": [
      "  Processed: 8, Failed: 0\n",
      "\n",
      "Processing character 303...\n"
     ]
    },
    {
     "name": "stderr",
     "output_type": "stream",
     "text": [
      "Processing 303: 100%|██████████| 8/8 [00:04<00:00,  1.77it/s]\n"
     ]
    },
    {
     "name": "stdout",
     "output_type": "stream",
     "text": [
      "  Processed: 8, Failed: 0\n",
      "\n",
      "Processing character 456...\n"
     ]
    },
    {
     "name": "stderr",
     "output_type": "stream",
     "text": [
      "Processing 456: 100%|██████████| 8/8 [00:03<00:00,  2.10it/s]\n"
     ]
    },
    {
     "name": "stdout",
     "output_type": "stream",
     "text": [
      "  Processed: 8, Failed: 0\n",
      "\n",
      "Processing character 6707...\n"
     ]
    },
    {
     "name": "stderr",
     "output_type": "stream",
     "text": [
      "Processing 6707: 100%|██████████| 8/8 [00:04<00:00,  2.00it/s]\n"
     ]
    },
    {
     "name": "stdout",
     "output_type": "stream",
     "text": [
      "  Processed: 8, Failed: 0\n",
      "\n",
      "Processing character 667...\n"
     ]
    },
    {
     "name": "stderr",
     "output_type": "stream",
     "text": [
      "Processing 667: 100%|██████████| 8/8 [00:04<00:00,  1.69it/s]\n"
     ]
    },
    {
     "name": "stdout",
     "output_type": "stream",
     "text": [
      "  Processed: 8, Failed: 0\n",
      "\n",
      "Processing character 6130...\n"
     ]
    },
    {
     "name": "stderr",
     "output_type": "stream",
     "text": [
      "Processing 6130: 100%|██████████| 8/8 [00:05<00:00,  1.53it/s]\n"
     ]
    },
    {
     "name": "stdout",
     "output_type": "stream",
     "text": [
      "  Processed: 8, Failed: 0\n",
      "\n",
      "Processing character 19243...\n"
     ]
    },
    {
     "name": "stderr",
     "output_type": "stream",
     "text": [
      "Processing 19243: 100%|██████████| 8/8 [00:04<00:00,  1.92it/s]\n"
     ]
    },
    {
     "name": "stdout",
     "output_type": "stream",
     "text": [
      "  Processed: 8, Failed: 0\n",
      "\n",
      "Processing character 11445...\n"
     ]
    },
    {
     "name": "stderr",
     "output_type": "stream",
     "text": [
      "Processing 11445: 100%|██████████| 8/8 [00:04<00:00,  1.83it/s]\n"
     ]
    },
    {
     "name": "stdout",
     "output_type": "stream",
     "text": [
      "  Processed: 8, Failed: 0\n",
      "\n",
      "Processing character 294...\n"
     ]
    },
    {
     "name": "stderr",
     "output_type": "stream",
     "text": [
      "Processing 294: 100%|██████████| 8/8 [00:04<00:00,  1.98it/s]\n"
     ]
    },
    {
     "name": "stdout",
     "output_type": "stream",
     "text": [
      "  Processed: 8, Failed: 0\n",
      "\n",
      "Processing character 582...\n"
     ]
    },
    {
     "name": "stderr",
     "output_type": "stream",
     "text": [
      "Processing 582: 100%|██████████| 8/8 [00:04<00:00,  2.00it/s]\n"
     ]
    },
    {
     "name": "stdout",
     "output_type": "stream",
     "text": [
      "  Processed: 8, Failed: 0\n",
      "\n",
      "Processing character 15945...\n"
     ]
    },
    {
     "name": "stderr",
     "output_type": "stream",
     "text": [
      "Processing 15945: 100%|██████████| 8/8 [00:04<00:00,  1.88it/s]\n"
     ]
    },
    {
     "name": "stdout",
     "output_type": "stream",
     "text": [
      "  Processed: 8, Failed: 0\n",
      "\n",
      "Processing character 17936...\n"
     ]
    },
    {
     "name": "stderr",
     "output_type": "stream",
     "text": [
      "Processing 17936: 100%|██████████| 8/8 [00:04<00:00,  1.88it/s]\n"
     ]
    },
    {
     "name": "stdout",
     "output_type": "stream",
     "text": [
      "  Processed: 8, Failed: 0\n",
      "\n",
      "Processing character 690...\n"
     ]
    },
    {
     "name": "stderr",
     "output_type": "stream",
     "text": [
      "Processing 690: 100%|██████████| 8/8 [00:04<00:00,  1.89it/s]\n"
     ]
    },
    {
     "name": "stdout",
     "output_type": "stream",
     "text": [
      "  Processed: 8, Failed: 0\n",
      "\n",
      "Processing character 6339...\n"
     ]
    },
    {
     "name": "stderr",
     "output_type": "stream",
     "text": [
      "Processing 6339: 100%|██████████| 8/8 [00:03<00:00,  2.01it/s]\n"
     ]
    },
    {
     "name": "stdout",
     "output_type": "stream",
     "text": [
      "  Processed: 8, Failed: 0\n",
      "\n",
      "Processing character 846...\n"
     ]
    },
    {
     "name": "stderr",
     "output_type": "stream",
     "text": [
      "Processing 846: 100%|██████████| 8/8 [00:03<00:00,  2.01it/s]\n"
     ]
    },
    {
     "name": "stdout",
     "output_type": "stream",
     "text": [
      "  Processed: 8, Failed: 0\n",
      "\n",
      "Processing character 9206...\n"
     ]
    },
    {
     "name": "stderr",
     "output_type": "stream",
     "text": [
      "Processing 9206: 100%|██████████| 8/8 [00:03<00:00,  2.01it/s]\n"
     ]
    },
    {
     "name": "stdout",
     "output_type": "stream",
     "text": [
      "  Processed: 8, Failed: 0\n",
      "\n",
      "Processing character 476...\n"
     ]
    },
    {
     "name": "stderr",
     "output_type": "stream",
     "text": [
      "Processing 476: 100%|██████████| 8/8 [00:04<00:00,  1.96it/s]\n"
     ]
    },
    {
     "name": "stdout",
     "output_type": "stream",
     "text": [
      "  Processed: 8, Failed: 0\n",
      "\n",
      "Processing character 339...\n"
     ]
    },
    {
     "name": "stderr",
     "output_type": "stream",
     "text": [
      "Processing 339: 100%|██████████| 8/8 [00:04<00:00,  1.99it/s]\n"
     ]
    },
    {
     "name": "stdout",
     "output_type": "stream",
     "text": [
      "  Processed: 8, Failed: 0\n",
      "\n",
      "Processing character 60...\n"
     ]
    },
    {
     "name": "stderr",
     "output_type": "stream",
     "text": [
      "Processing 60: 100%|██████████| 8/8 [00:04<00:00,  1.95it/s]\n"
     ]
    },
    {
     "name": "stdout",
     "output_type": "stream",
     "text": [
      "  Processed: 8, Failed: 0\n",
      "\n",
      "Processing character 16683...\n"
     ]
    },
    {
     "name": "stderr",
     "output_type": "stream",
     "text": [
      "Processing 16683: 100%|██████████| 8/8 [00:04<00:00,  1.93it/s]\n"
     ]
    },
    {
     "name": "stdout",
     "output_type": "stream",
     "text": [
      "  Processed: 8, Failed: 0\n",
      "\n",
      "Processing character 140...\n"
     ]
    },
    {
     "name": "stderr",
     "output_type": "stream",
     "text": [
      "Processing 140: 100%|██████████| 8/8 [00:04<00:00,  2.00it/s]\n"
     ]
    },
    {
     "name": "stdout",
     "output_type": "stream",
     "text": [
      "  Processed: 8, Failed: 0\n",
      "\n",
      "Processing character 17139...\n"
     ]
    },
    {
     "name": "stderr",
     "output_type": "stream",
     "text": [
      "Processing 17139: 100%|██████████| 8/8 [00:04<00:00,  1.77it/s]\n"
     ]
    },
    {
     "name": "stdout",
     "output_type": "stream",
     "text": [
      "  Processed: 8, Failed: 0\n",
      "\n",
      "Processing character 340...\n"
     ]
    },
    {
     "name": "stderr",
     "output_type": "stream",
     "text": [
      "Processing 340: 100%|██████████| 8/8 [00:04<00:00,  1.99it/s]\n"
     ]
    },
    {
     "name": "stdout",
     "output_type": "stream",
     "text": [
      "  Processed: 8, Failed: 0\n",
      "\n",
      "Processing character 17129...\n"
     ]
    },
    {
     "name": "stderr",
     "output_type": "stream",
     "text": [
      "Processing 17129: 100%|██████████| 8/8 [00:04<00:00,  1.76it/s]\n"
     ]
    },
    {
     "name": "stdout",
     "output_type": "stream",
     "text": [
      "  Processed: 8, Failed: 0\n",
      "\n",
      "Processing character 12162...\n"
     ]
    },
    {
     "name": "stderr",
     "output_type": "stream",
     "text": [
      "Processing 12162: 100%|██████████| 8/8 [00:04<00:00,  1.71it/s]\n"
     ]
    },
    {
     "name": "stdout",
     "output_type": "stream",
     "text": [
      "  Processed: 8, Failed: 0\n",
      "\n",
      "Processing character 361...\n"
     ]
    },
    {
     "name": "stderr",
     "output_type": "stream",
     "text": [
      "Processing 361: 100%|██████████| 8/8 [00:04<00:00,  1.73it/s]\n"
     ]
    },
    {
     "name": "stdout",
     "output_type": "stream",
     "text": [
      "  Processed: 8, Failed: 0\n",
      "\n",
      "Processing character 471...\n"
     ]
    },
    {
     "name": "stderr",
     "output_type": "stream",
     "text": [
      "Processing 471: 100%|██████████| 8/8 [00:04<00:00,  1.72it/s]\n"
     ]
    },
    {
     "name": "stdout",
     "output_type": "stream",
     "text": [
      "  Processed: 8, Failed: 0\n",
      "\n",
      "Processing character 496...\n"
     ]
    },
    {
     "name": "stderr",
     "output_type": "stream",
     "text": [
      "Processing 496: 100%|██████████| 8/8 [00:04<00:00,  1.86it/s]\n"
     ]
    },
    {
     "name": "stdout",
     "output_type": "stream",
     "text": [
      "  Processed: 8, Failed: 0\n",
      "\n",
      "Processing character 8738...\n"
     ]
    },
    {
     "name": "stderr",
     "output_type": "stream",
     "text": [
      "Processing 8738: 100%|██████████| 8/8 [00:04<00:00,  1.84it/s]\n"
     ]
    },
    {
     "name": "stdout",
     "output_type": "stream",
     "text": [
      "  Processed: 8, Failed: 0\n",
      "\n",
      "Processing character 828...\n"
     ]
    },
    {
     "name": "stderr",
     "output_type": "stream",
     "text": [
      "Processing 828: 100%|██████████| 8/8 [00:04<00:00,  1.85it/s]\n"
     ]
    },
    {
     "name": "stdout",
     "output_type": "stream",
     "text": [
      "  Processed: 8, Failed: 0\n",
      "\n",
      "Processing character 17128...\n"
     ]
    },
    {
     "name": "stderr",
     "output_type": "stream",
     "text": [
      "Processing 17128: 100%|██████████| 8/8 [00:05<00:00,  1.42it/s]\n"
     ]
    },
    {
     "name": "stdout",
     "output_type": "stream",
     "text": [
      "  Processed: 8, Failed: 0\n",
      "\n",
      "Processing character 5884...\n"
     ]
    },
    {
     "name": "stderr",
     "output_type": "stream",
     "text": [
      "Processing 5884: 100%|██████████| 8/8 [00:04<00:00,  1.99it/s]\n"
     ]
    },
    {
     "name": "stdout",
     "output_type": "stream",
     "text": [
      "  Processed: 8, Failed: 0\n",
      "\n",
      "Processing character 4446...\n"
     ]
    },
    {
     "name": "stderr",
     "output_type": "stream",
     "text": [
      "Processing 4446: 100%|██████████| 8/8 [00:04<00:00,  1.84it/s]\n"
     ]
    },
    {
     "name": "stdout",
     "output_type": "stream",
     "text": [
      "  Processed: 8, Failed: 0\n",
      "\n",
      "Processing character 6440...\n"
     ]
    },
    {
     "name": "stderr",
     "output_type": "stream",
     "text": [
      "Processing 6440: 100%|██████████| 8/8 [00:04<00:00,  1.83it/s]\n"
     ]
    },
    {
     "name": "stdout",
     "output_type": "stream",
     "text": [
      "  Processed: 8, Failed: 0\n",
      "\n",
      "Processing character 17141...\n"
     ]
    },
    {
     "name": "stderr",
     "output_type": "stream",
     "text": [
      "Processing 17141: 100%|██████████| 8/8 [00:04<00:00,  1.76it/s]\n"
     ]
    },
    {
     "name": "stdout",
     "output_type": "stream",
     "text": [
      "  Processed: 8, Failed: 0\n",
      "\n",
      "Processing character 4567...\n"
     ]
    },
    {
     "name": "stderr",
     "output_type": "stream",
     "text": [
      "Processing 4567: 100%|██████████| 8/8 [00:04<00:00,  1.60it/s]\n"
     ]
    },
    {
     "name": "stdout",
     "output_type": "stream",
     "text": [
      "  Processed: 8, Failed: 0\n",
      "\n",
      "Processing character 97...\n"
     ]
    },
    {
     "name": "stderr",
     "output_type": "stream",
     "text": [
      "Processing 97: 100%|██████████| 8/8 [00:04<00:00,  1.74it/s]\n"
     ]
    },
    {
     "name": "stdout",
     "output_type": "stream",
     "text": [
      "  Processed: 8, Failed: 0\n",
      "\n",
      "Processing character 442...\n"
     ]
    },
    {
     "name": "stderr",
     "output_type": "stream",
     "text": [
      "Processing 442: 100%|██████████| 8/8 [00:04<00:00,  1.72it/s]\n"
     ]
    },
    {
     "name": "stdout",
     "output_type": "stream",
     "text": [
      "  Processed: 8, Failed: 0\n",
      "\n",
      "Processing character 4303...\n"
     ]
    },
    {
     "name": "stderr",
     "output_type": "stream",
     "text": [
      "Processing 4303: 100%|██████████| 8/8 [00:04<00:00,  1.92it/s]\n"
     ]
    },
    {
     "name": "stdout",
     "output_type": "stream",
     "text": [
      "  Processed: 8, Failed: 0\n",
      "\n",
      "Processing character 376...\n"
     ]
    },
    {
     "name": "stderr",
     "output_type": "stream",
     "text": [
      "Processing 376: 100%|██████████| 8/8 [00:04<00:00,  1.68it/s]\n"
     ]
    },
    {
     "name": "stdout",
     "output_type": "stream",
     "text": [
      "  Processed: 8, Failed: 0\n",
      "\n",
      "Processing character 8900...\n"
     ]
    },
    {
     "name": "stderr",
     "output_type": "stream",
     "text": [
      "Processing 8900: 100%|██████████| 8/8 [00:04<00:00,  1.94it/s]\n"
     ]
    },
    {
     "name": "stdout",
     "output_type": "stream",
     "text": [
      "  Processed: 8, Failed: 0\n",
      "\n",
      "Processing character 5081...\n"
     ]
    },
    {
     "name": "stderr",
     "output_type": "stream",
     "text": [
      "Processing 5081: 100%|██████████| 8/8 [00:03<00:00,  2.07it/s]\n"
     ]
    },
    {
     "name": "stdout",
     "output_type": "stream",
     "text": [
      "  Processed: 8, Failed: 0\n",
      "\n",
      "Processing character 4771...\n"
     ]
    },
    {
     "name": "stderr",
     "output_type": "stream",
     "text": [
      "Processing 4771: 100%|██████████| 8/8 [00:04<00:00,  1.66it/s]\n"
     ]
    },
    {
     "name": "stdout",
     "output_type": "stream",
     "text": [
      "  Processed: 8, Failed: 0\n",
      "\n",
      "Processing character 678...\n"
     ]
    },
    {
     "name": "stderr",
     "output_type": "stream",
     "text": [
      "Processing 678: 100%|██████████| 8/8 [00:03<00:00,  2.05it/s]\n"
     ]
    },
    {
     "name": "stdout",
     "output_type": "stream",
     "text": [
      "  Processed: 8, Failed: 0\n",
      "\n",
      "Processing character 19245...\n"
     ]
    },
    {
     "name": "stderr",
     "output_type": "stream",
     "text": [
      "Processing 19245: 100%|██████████| 8/8 [00:03<00:00,  2.00it/s]\n"
     ]
    },
    {
     "name": "stdout",
     "output_type": "stream",
     "text": [
      "  Processed: 8, Failed: 0\n",
      "\n",
      "Processing character 8046...\n"
     ]
    },
    {
     "name": "stderr",
     "output_type": "stream",
     "text": [
      "Processing 8046: 100%|██████████| 8/8 [00:03<00:00,  2.09it/s]\n"
     ]
    },
    {
     "name": "stdout",
     "output_type": "stream",
     "text": [
      "  Processed: 8, Failed: 0\n",
      "\n",
      "Processing character 4747...\n"
     ]
    },
    {
     "name": "stderr",
     "output_type": "stream",
     "text": [
      "Processing 4747: 100%|██████████| 8/8 [00:03<00:00,  2.17it/s]\n"
     ]
    },
    {
     "name": "stdout",
     "output_type": "stream",
     "text": [
      "  Processed: 8, Failed: 0\n",
      "\n",
      "Processing character 174...\n"
     ]
    },
    {
     "name": "stderr",
     "output_type": "stream",
     "text": [
      "Processing 174: 100%|██████████| 8/8 [00:03<00:00,  2.05it/s]\n"
     ]
    },
    {
     "name": "stdout",
     "output_type": "stream",
     "text": [
      "  Processed: 8, Failed: 0\n",
      "\n",
      "Processing character 10641...\n"
     ]
    },
    {
     "name": "stderr",
     "output_type": "stream",
     "text": [
      "Processing 10641: 100%|██████████| 8/8 [00:03<00:00,  2.02it/s]\n"
     ]
    },
    {
     "name": "stdout",
     "output_type": "stream",
     "text": [
      "  Processed: 8, Failed: 0\n",
      "\n",
      "Processing character 701...\n"
     ]
    },
    {
     "name": "stderr",
     "output_type": "stream",
     "text": [
      "Processing 701: 100%|██████████| 8/8 [00:04<00:00,  1.80it/s]\n"
     ]
    },
    {
     "name": "stdout",
     "output_type": "stream",
     "text": [
      "  Processed: 8, Failed: 0\n",
      "\n",
      "Processing character 871...\n"
     ]
    },
    {
     "name": "stderr",
     "output_type": "stream",
     "text": [
      "Processing 871: 100%|██████████| 8/8 [00:05<00:00,  1.53it/s]\n"
     ]
    },
    {
     "name": "stdout",
     "output_type": "stream",
     "text": [
      "  Processed: 8, Failed: 0\n",
      "\n",
      "Processing character 461...\n"
     ]
    },
    {
     "name": "stderr",
     "output_type": "stream",
     "text": [
      "Processing 461: 100%|██████████| 8/8 [00:03<00:00,  2.06it/s]\n"
     ]
    },
    {
     "name": "stdout",
     "output_type": "stream",
     "text": [
      "  Processed: 8, Failed: 0\n",
      "\n",
      "Processing character 9629...\n"
     ]
    },
    {
     "name": "stderr",
     "output_type": "stream",
     "text": [
      "Processing 9629: 100%|██████████| 8/8 [00:04<00:00,  1.84it/s]\n"
     ]
    },
    {
     "name": "stdout",
     "output_type": "stream",
     "text": [
      "  Processed: 8, Failed: 0\n",
      "\n",
      "Processing character 238...\n"
     ]
    },
    {
     "name": "stderr",
     "output_type": "stream",
     "text": [
      "Processing 238: 100%|██████████| 8/8 [00:05<00:00,  1.56it/s]\n"
     ]
    },
    {
     "name": "stdout",
     "output_type": "stream",
     "text": [
      "  Processed: 8, Failed: 0\n",
      "\n",
      "Processing character 11323...\n"
     ]
    },
    {
     "name": "stderr",
     "output_type": "stream",
     "text": [
      "Processing 11323: 100%|██████████| 8/8 [00:04<00:00,  1.65it/s]\n"
     ]
    },
    {
     "name": "stdout",
     "output_type": "stream",
     "text": [
      "  Processed: 8, Failed: 0\n",
      "\n",
      "Processing character 16622...\n"
     ]
    },
    {
     "name": "stderr",
     "output_type": "stream",
     "text": [
      "Processing 16622: 100%|██████████| 8/8 [00:04<00:00,  1.79it/s]\n"
     ]
    },
    {
     "name": "stdout",
     "output_type": "stream",
     "text": [
      "  Processed: 8, Failed: 0\n",
      "\n",
      "Processing character 3280...\n"
     ]
    },
    {
     "name": "stderr",
     "output_type": "stream",
     "text": [
      "Processing 3280: 100%|██████████| 8/8 [00:04<00:00,  1.66it/s]\n"
     ]
    },
    {
     "name": "stdout",
     "output_type": "stream",
     "text": [
      "  Processed: 8, Failed: 0\n",
      "\n",
      "Processing character 636...\n"
     ]
    },
    {
     "name": "stderr",
     "output_type": "stream",
     "text": [
      "Processing 636: 100%|██████████| 8/8 [00:03<00:00,  2.04it/s]\n"
     ]
    },
    {
     "name": "stdout",
     "output_type": "stream",
     "text": [
      "  Processed: 8, Failed: 0\n",
      "\n",
      "Processing character 610...\n"
     ]
    },
    {
     "name": "stderr",
     "output_type": "stream",
     "text": [
      "Processing 610: 100%|██████████| 8/8 [00:03<00:00,  2.13it/s]\n"
     ]
    },
    {
     "name": "stdout",
     "output_type": "stream",
     "text": [
      "  Processed: 8, Failed: 0\n",
      "\n",
      "Processing character 801...\n"
     ]
    },
    {
     "name": "stderr",
     "output_type": "stream",
     "text": [
      "Processing 801: 100%|██████████| 8/8 [00:04<00:00,  1.95it/s]\n"
     ]
    },
    {
     "name": "stdout",
     "output_type": "stream",
     "text": [
      "  Processed: 8, Failed: 0\n",
      "\n",
      "Processing character 492...\n"
     ]
    },
    {
     "name": "stderr",
     "output_type": "stream",
     "text": [
      "Processing 492: 100%|██████████| 8/8 [00:03<00:00,  2.14it/s]\n"
     ]
    },
    {
     "name": "stdout",
     "output_type": "stream",
     "text": [
      "  Processed: 8, Failed: 0\n",
      "\n",
      "Processing character 8779...\n"
     ]
    },
    {
     "name": "stderr",
     "output_type": "stream",
     "text": [
      "Processing 8779: 100%|██████████| 8/8 [00:03<00:00,  2.10it/s]\n"
     ]
    },
    {
     "name": "stdout",
     "output_type": "stream",
     "text": [
      "  Processed: 8, Failed: 0\n",
      "\n",
      "Processing character 6408...\n"
     ]
    },
    {
     "name": "stderr",
     "output_type": "stream",
     "text": [
      "Processing 6408: 100%|██████████| 8/8 [00:03<00:00,  2.08it/s]\n"
     ]
    },
    {
     "name": "stdout",
     "output_type": "stream",
     "text": [
      "  Processed: 8, Failed: 0\n",
      "\n",
      "Processing character 110...\n"
     ]
    },
    {
     "name": "stderr",
     "output_type": "stream",
     "text": [
      "Processing 110:  75%|███████▌  | 6/8 [00:03<00:01,  1.69it/s]"
     ]
    }
   ],
   "source": [
    "# Check if model is ready and run background removal\n",
    "print(\"=== BACKGROUND REMOVAL EXECUTION ===\")\n",
    "\n",
    "# Check if rembg model is ready\n",
    "if globals().get('model_ready', False):\n",
    "    print(\"✅ rembg model is ready! Using AI-based background removal...\")\n",
    "    results_rembg = process_all_character_frames(method='rembg')\n",
    "else:\n",
    "    print(\"⚠️  rembg model not downloaded yet.\")"
   ]
  },
  {
   "cell_type": "code",
   "execution_count": 16,
   "id": "2d07f00b",
   "metadata": {},
   "outputs": [],
   "source": [
    "# Visualize results for a specific character\n",
    "# Replace with an actual character ID from your data\n",
    "if results_rembg:\n",
    "    # Get first character from results\n",
    "    first_character = '1'\n",
    "    print(f\"Visualizing results for character: {first_character}\")\n",
    "    \n",
    "    # Show before/after for frame 1\n",
    "    visualize_before_after(first_character, frame_num=1)\n",
    "    \n",
    "    # Show before/after for frame 5\n",
    "    visualize_before_after(first_character, frame_num=5)"
   ]
  }
 ],
 "metadata": {
  "kernelspec": {
   "display_name": "fortnite",
   "language": "python",
   "name": "python3"
  },
  "language_info": {
   "codemirror_mode": {
    "name": "ipython",
    "version": 3
   },
   "file_extension": ".py",
   "mimetype": "text/x-python",
   "name": "python",
   "nbconvert_exporter": "python",
   "pygments_lexer": "ipython3",
   "version": "3.9.23"
  }
 },
 "nbformat": 4,
 "nbformat_minor": 5
}
