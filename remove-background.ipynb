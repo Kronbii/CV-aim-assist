{
 "cells": [
  {
   "cell_type": "code",
   "execution_count": 1,
   "id": "e6ea790d",
   "metadata": {},
   "outputs": [],
   "source": [
    "import cv2\n",
    "import numpy as np\n",
    "from pathlib import Path\n",
    "import os\n",
    "from tqdm import tqdm\n",
    "import matplotlib.pyplot as plt\n",
    "from rembg import remove\n",
    "from PIL import Image\n",
    "from rembg import new_session\n",
    "import os\n",
    "from pathlib import Path"
   ]
  },
  {
   "cell_type": "code",
   "execution_count": 18,
   "id": "436f8588",
   "metadata": {},
   "outputs": [],
   "source": [
    "# Configuration\n",
    "INPUT_DIR = \"character_frames\"  # Directory containing character frames\n",
    "OUTPUT_DIR = \"character_frames_no_bg\"  # Directory to save frames with transparent backgrounds\n",
    "\n",
    "# Create output directory\n",
    "os.makedirs(OUTPUT_DIR, exist_ok=True)"
   ]
  },
  {
   "cell_type": "code",
   "execution_count": 3,
   "id": "6e7fadf2",
   "metadata": {},
   "outputs": [
    {
     "name": "stdout",
     "output_type": "stream",
     "text": [
      "Downloading and initializing rembg model for offline use...\n",
      "This will download ~100MB of model data (one-time setup)\n"
     ]
    }
   ],
   "source": [
    "# Download and initialize rembg model for offline use\n",
    "print(\"Downloading and initializing rembg model for offline use...\")\n",
    "print(\"This will download ~100MB of model data (one-time setup)\")\n",
    "\n",
    "# Set up local model directory\n",
    "local_model_dir = Path(\"./rembg_models\")\n",
    "local_model_dir.mkdir(exist_ok=True)\n",
    "\n",
    "# Set environment variable to use local directory\n",
    "os.environ['U2NET_HOME'] = str(local_model_dir)"
   ]
  },
  {
   "cell_type": "code",
   "execution_count": null,
   "id": "81c8b750",
   "metadata": {},
   "outputs": [],
   "source": [
    "try:\n",
    "    # Create a session with the default u2net model\n",
    "    # This will download the model to the local directory\n",
    "    rembg_session = new_session('u2net')\n",
    "    print(\"✅ Model downloaded and initialized successfully!\")\n",
    "    print(f\"Model saved locally in: {local_model_dir}\")\n",
    "    print(\"You can now run background removal offline\")\n",
    "    model_ready = True\n",
    "    \n",
    "    # Verify the model files exist locally\n",
    "    model_files = list(local_model_dir.glob(\"*.pth\"))\n",
    "    if model_files:\n",
    "        print(f\"Model file(s) found: {[f.name for f in model_files]}\")\n",
    "    \n",
    "except Exception as e:\n",
    "    print(f\"❌ Error downloading model: {e}\")\n",
    "    print(\"Falling back to color-based methods\")\n",
    "    model_ready = False"
   ]
  },
  {
   "cell_type": "code",
   "execution_count": 4,
   "id": "2ce2ba57",
   "metadata": {},
   "outputs": [
    {
     "name": "stdout",
     "output_type": "stream",
     "text": [
      "Loading rembg model from local directory...\n",
      "Found local model files: ['u2net.onnx']\n",
      "✅ Model loaded successfully from local directory!\n",
      "✅ Model loaded successfully from local directory!\n"
     ]
    }
   ],
   "source": [
    "# Load rembg model from local directory\n",
    "print(\"Loading rembg model from local directory...\")\n",
    "\n",
    "try:\n",
    "    # Check if model directory exists\n",
    "    if local_model_dir.exists():\n",
    "        model_files = list(local_model_dir.glob(\"*.onnx\"))\n",
    "        if model_files:\n",
    "            print(f\"Found local model files: {[f.name for f in model_files]}\")\n",
    "            \n",
    "            # Create session with local model\n",
    "            rembg_session = new_session('u2net')\n",
    "            model_ready = True\n",
    "            print(\"✅ Model loaded successfully from local directory!\")\n",
    "            \n",
    "        else:\n",
    "            print(\"❌ No model files found in local directory\")\n",
    "            print(\"Please run the model download cell first\")\n",
    "            model_ready = False\n",
    "    else:\n",
    "        print(\"❌ Local model directory does not exist\")\n",
    "        print(\"Please run the model download cell first\")\n",
    "        model_ready = False\n",
    "        \n",
    "except Exception as e:\n",
    "    print(f\"❌ Error loading local model: {e}\")\n",
    "    model_ready = False"
   ]
  },
  {
   "cell_type": "code",
   "execution_count": 5,
   "id": "1c4d41ec",
   "metadata": {},
   "outputs": [],
   "source": [
    "def remove_background_rembg(input_path, output_path, session=None):\n",
    "    \"\"\"\n",
    "    Remove background from an image using rembg library\n",
    "    \n",
    "    Args:\n",
    "        input_path: Path to input image\n",
    "        output_path: Path to save output image with transparent background\n",
    "        session: Pre-initialized rembg session (optional, will create new if None)\n",
    "    \n",
    "    Returns:\n",
    "        bool: True if successful, False otherwise\n",
    "    \"\"\"\n",
    "    try:\n",
    "        # Read input image\n",
    "        with open(input_path, 'rb') as input_file:\n",
    "            input_data = input_file.read()\n",
    "        \n",
    "        # Remove background using session if provided, otherwise use default\n",
    "        if session is not None:\n",
    "            output_data = remove(input_data, session=session)\n",
    "        else:\n",
    "            output_data = remove(input_data)\n",
    "        \n",
    "        # Save output image\n",
    "        with open(output_path, 'wb') as output_file:\n",
    "            output_file.write(output_data)\n",
    "        \n",
    "        return True\n",
    "    except Exception as e:\n",
    "        print(f\"Error processing {input_path}: {e}\")\n",
    "        return False"
   ]
  },
  {
   "cell_type": "code",
   "execution_count": 6,
   "id": "f46180ab",
   "metadata": {},
   "outputs": [],
   "source": [
    "def remove_background_color_mask(input_path, output_path, method='adaptive'):\n",
    "    \"\"\"\n",
    "    Remove background using color-based masking (alternative method)\n",
    "    \n",
    "    Args:\n",
    "        input_path: Path to input image\n",
    "        output_path: Path to save output image with transparent background\n",
    "        method: 'adaptive' for adaptive thresholding, 'hsv' for HSV-based masking\n",
    "    \n",
    "    Returns:\n",
    "        bool: True if successful, False otherwise\n",
    "    \"\"\"\n",
    "    try:\n",
    "        # Read image\n",
    "        img = cv2.imread(str(input_path))\n",
    "        if img is None:\n",
    "            print(f\"Could not read image: {input_path}\")\n",
    "            return False\n",
    "        \n",
    "        if method == 'adaptive':\n",
    "            # Convert to grayscale\n",
    "            gray = cv2.cvtColor(img, cv2.COLOR_BGR2GRAY)\n",
    "            \n",
    "            # Apply adaptive thresholding to separate foreground/background\n",
    "            thresh = cv2.adaptiveThreshold(gray, 255, cv2.ADAPTIVE_THRESH_GAUSSIAN_C, \n",
    "                                         cv2.THRESH_BINARY, 11, 2)\n",
    "            \n",
    "            # Create mask (invert so character is white, background is black)\n",
    "            mask = cv2.bitwise_not(thresh)\n",
    "            \n",
    "            # Apply morphological operations to clean up the mask\n",
    "            kernel = np.ones((3,3), np.uint8)\n",
    "            mask = cv2.morphologyEx(mask, cv2.MORPH_CLOSE, kernel)\n",
    "            mask = cv2.morphologyEx(mask, cv2.MORPH_OPEN, kernel)\n",
    "            \n",
    "        elif method == 'hsv':\n",
    "            # Convert to HSV\n",
    "            hsv = cv2.cvtColor(img, cv2.COLOR_BGR2HSV)\n",
    "            \n",
    "            # Define range for background color (you may need to adjust these values)\n",
    "            # This assumes a light background\n",
    "            lower_bg = np.array([0, 0, 180])\n",
    "            upper_bg = np.array([180, 30, 255])\n",
    "            \n",
    "            # Create mask for background\n",
    "            bg_mask = cv2.inRange(hsv, lower_bg, upper_bg)\n",
    "            \n",
    "            # Invert mask so character is white, background is black\n",
    "            mask = cv2.bitwise_not(bg_mask)\n",
    "        \n",
    "        # Create 4-channel image (BGRA)\n",
    "        b, g, r = cv2.split(img)\n",
    "        \n",
    "        # Use mask as alpha channel\n",
    "        rgba = cv2.merge([b, g, r, mask])\n",
    "        \n",
    "        # Save as PNG to preserve transparency\n",
    "        cv2.imwrite(str(output_path), rgba)\n",
    "        \n",
    "        return True\n",
    "    except Exception as e:\n",
    "        print(f\"Error processing {input_path}: {e}\")\n",
    "        return False"
   ]
  },
  {
   "cell_type": "code",
   "execution_count": 7,
   "id": "fbbb8707",
   "metadata": {},
   "outputs": [],
   "source": [
    "def process_all_character_frames(method='rembg'):\n",
    "    \"\"\"\n",
    "    Process all character frames to remove backgrounds\n",
    "    \n",
    "    Args:\n",
    "        method: 'rembg' for AI-based removal, 'adaptive' or 'hsv' for color-based methods\n",
    "    \n",
    "    Returns:\n",
    "        dict: Processing results\n",
    "    \"\"\"\n",
    "    # Check if using rembg but model not ready\n",
    "    if method == 'rembg' and not globals().get('model_ready', False):\n",
    "        print(\"⚠️  rembg model not ready! Please run the model download cell first.\")\n",
    "        print(\"Falling back to adaptive color-based method...\")\n",
    "        method = 'adaptive'\n",
    "    \n",
    "    input_dir = Path(INPUT_DIR)\n",
    "    \n",
    "    if not input_dir.exists():\n",
    "        print(f\"Input directory {INPUT_DIR} does not exist!\")\n",
    "        return {}\n",
    "    \n",
    "    # Find all character directories\n",
    "    character_dirs = [d for d in input_dir.iterdir() if d.is_dir()]\n",
    "    \n",
    "    if not character_dirs:\n",
    "        print(f\"No character directories found in {INPUT_DIR}\")\n",
    "        return {}\n",
    "    \n",
    "    print(f\"Found {len(character_dirs)} character directories\")\n",
    "    print(f\"Using method: {method}\")\n",
    "    \n",
    "    # Get the rembg session if available\n",
    "    session = globals().get('rembg_session', None) if method == 'rembg' else None\n",
    "    \n",
    "    results = {}\n",
    "    total_processed = 0\n",
    "    total_failed = 0\n",
    "    \n",
    "    for char_dir in character_dirs:\n",
    "        character_id = char_dir.name\n",
    "        print(f\"\\nProcessing character {character_id}...\")\n",
    "        \n",
    "        # Create output directory for this character\n",
    "        output_char_dir = Path(OUTPUT_DIR) / character_id\n",
    "        output_char_dir.mkdir(exist_ok=True)\n",
    "        \n",
    "        # Check if output directory already exists and has files\n",
    "        if output_char_dir.exists() and list(output_char_dir.glob(\"*.png\")):\n",
    "            print(f\"  Character {character_id} already processed, skipping...\")\n",
    "            continue\n",
    "        \n",
    "        # Find all frame files for this character\n",
    "        frame_files = list(char_dir.glob(f\"{character_id}_*.jpg\"))\n",
    "        \n",
    "        if not frame_files:\n",
    "            print(f\"  No frames found for character {character_id}\")\n",
    "            continue\n",
    "        \n",
    "        char_results = {\n",
    "            'character_id': character_id,\n",
    "            'total_frames': len(frame_files),\n",
    "            'processed': 0,\n",
    "            'failed': 0,\n",
    "            'output_dir': str(output_char_dir)\n",
    "        }\n",
    "        \n",
    "        # Process each frame\n",
    "        for frame_file in tqdm(frame_files, desc=f\"Processing {character_id}\"):\n",
    "            output_filename = frame_file.stem + '.png'\n",
    "            output_path = output_char_dir / output_filename\n",
    "            \n",
    "            # Skip if already processed\n",
    "            if output_path.exists():\n",
    "                char_results['processed'] += 1\n",
    "                continue\n",
    "            \n",
    "            # Remove background\n",
    "            if method == 'rembg':\n",
    "                success = remove_background_rembg(frame_file, output_path, session)\n",
    "            else:\n",
    "                success = remove_background_color_mask(frame_file, output_path, method)\n",
    "            \n",
    "            if success:\n",
    "                char_results['processed'] += 1\n",
    "                total_processed += 1\n",
    "            else:\n",
    "                char_results['failed'] += 1\n",
    "                total_failed += 1\n",
    "        \n",
    "        results[character_id] = char_results\n",
    "        print(f\"  Processed: {char_results['processed']}, Failed: {char_results['failed']}\")\n",
    "    \n",
    "    # Print summary\n",
    "    print(f\"\\n=== BACKGROUND REMOVAL COMPLETE ===\")\n",
    "    print(f\"Total characters processed: {len(results)}\")\n",
    "    print(f\"Total frames processed: {total_processed}\")\n",
    "    print(f\"Total failures: {total_failed}\")\n",
    "    print(f\"Output saved to: {OUTPUT_DIR}\")\n",
    "    \n",
    "    return results"
   ]
  },
  {
   "cell_type": "code",
   "execution_count": 15,
   "id": "82d76948",
   "metadata": {},
   "outputs": [],
   "source": [
    "def visualize_before_after(character_id, frame_num=1):\n",
    "    \"\"\"\n",
    "    Visualize original and background-removed frames side by side\n",
    "    \n",
    "    Args:\n",
    "        character_id: ID of the character to visualize\n",
    "        frame_num: Frame number to display (1-8)\n",
    "    \"\"\"\n",
    "    # Construct file paths\n",
    "    original_path = Path(INPUT_DIR) / character_id / f\"{character_id}_{frame_num}.jpg\"\n",
    "    processed_path = Path(OUTPUT_DIR) / character_id / f\"{character_id}_{frame_num}.png\"\n",
    "    \n",
    "    if not original_path.exists():\n",
    "        print(f\"Original frame not found: {original_path}\")\n",
    "        return\n",
    "    \n",
    "    if not processed_path.exists():\n",
    "        print(f\"Processed frame not found: {processed_path}\")\n",
    "        return\n",
    "    \n",
    "    # Read images\n",
    "    original = cv2.imread(str(original_path))\n",
    "    original_rgb = cv2.cvtColor(original, cv2.COLOR_BGR2RGB)\n",
    "    \n",
    "    # Read PNG with transparency\n",
    "    processed = cv2.imread(str(processed_path), cv2.IMREAD_UNCHANGED)\n",
    "    \n",
    "    # Create visualization\n",
    "    fig, axes = plt.subplots(1, 3, figsize=(15, 5))\n",
    "    \n",
    "    # Original image\n",
    "    axes[0].imshow(original_rgb)\n",
    "    axes[0].set_title(\"Original\")\n",
    "    axes[0].axis('off')\n",
    "    \n",
    "    # Processed image on white background\n",
    "    if processed.shape[2] == 4:  # Has alpha channel\n",
    "        # Create white background\n",
    "        white_bg = np.ones((processed.shape[0], processed.shape[1], 3), dtype=np.uint8) * 255\n",
    "        \n",
    "        # Convert BGRA to RGBA\n",
    "        processed_rgba = cv2.cvtColor(processed, cv2.COLOR_BGRA2RGBA)\n",
    "        \n",
    "        # Blend with white background\n",
    "        alpha = processed_rgba[:, :, 3:4] / 255.0\n",
    "        processed_rgb = processed_rgba[:, :, :3]\n",
    "        blended = (processed_rgb * alpha + white_bg * (1 - alpha)).astype(np.uint8)\n",
    "        \n",
    "        axes[1].imshow(blended)\n",
    "        axes[1].set_title(\"Removed BG (on white)\")\n",
    "    else:\n",
    "        processed_rgb = cv2.cvtColor(processed, cv2.COLOR_BGR2RGB)\n",
    "        axes[1].imshow(processed_rgb)\n",
    "        axes[1].set_title(\"Processed\")\n",
    "    axes[1].axis('off')\n",
    "    \n",
    "    # Processed image on checkered background to show transparency\n",
    "    if processed.shape[2] == 4:\n",
    "        # Create checkered background\n",
    "        h, w = processed.shape[:2]\n",
    "        checkered = np.zeros((h, w, 3), dtype=np.uint8)\n",
    "        for i in range(0, h, 20):\n",
    "            for j in range(0, w, 20):\n",
    "                if (i//20 + j//20) % 2 == 0:\n",
    "                    checkered[i:i+20, j:j+20] = [200, 200, 200]\n",
    "                else:\n",
    "                    checkered[i:i+20, j:j+20] = [255, 255, 255]\n",
    "        \n",
    "        # Blend with checkered background\n",
    "        alpha = processed_rgba[:, :, 3:4] / 255.0\n",
    "        processed_rgb = processed_rgba[:, :, :3]\n",
    "        blended_check = (processed_rgb * alpha + checkered * (1 - alpha)).astype(np.uint8)\n",
    "        \n",
    "        axes[2].imshow(blended_check)\n",
    "        axes[2].set_title(\"Transparency Preview\")\n",
    "    else:\n",
    "        axes[2].imshow(processed_rgb)\n",
    "        axes[2].set_title(\"Processed\")\n",
    "    axes[2].axis('off')\n",
    "    \n",
    "    plt.suptitle(f\"Character {character_id} - Frame {frame_num}\", fontsize=16)\n",
    "    plt.tight_layout()\n",
    "    plt.show()"
   ]
  },
  {
   "cell_type": "code",
   "execution_count": null,
   "id": "ab36b59f",
   "metadata": {},
   "outputs": [
    {
     "name": "stdout",
     "output_type": "stream",
     "text": [
      "=== BACKGROUND REMOVAL EXECUTION ===\n",
      "✅ rembg model is ready! Using AI-based background removal...\n",
      "Found 2338 character directories\n",
      "Using method: rembg\n",
      "\n",
      "Processing character 10634...\n"
     ]
    },
    {
     "name": "stderr",
     "output_type": "stream",
     "text": [
      "Processing 10634:   0%|          | 0/8 [00:00<?, ?it/s]"
     ]
    },
    {
     "name": "stderr",
     "output_type": "stream",
     "text": [
      "Processing 10634: 100%|██████████| 8/8 [00:04<00:00,  1.72it/s]\n",
      "Processing 10634: 100%|██████████| 8/8 [00:04<00:00,  1.72it/s]\n"
     ]
    },
    {
     "name": "stdout",
     "output_type": "stream",
     "text": [
      "  Processed: 8, Failed: 0\n",
      "\n",
      "Processing character 869...\n"
     ]
    },
    {
     "name": "stderr",
     "output_type": "stream",
     "text": [
      "Processing 869: 100%|██████████| 8/8 [00:04<00:00,  1.80it/s]\n",
      "Processing 869: 100%|██████████| 8/8 [00:04<00:00,  1.80it/s]\n"
     ]
    },
    {
     "name": "stdout",
     "output_type": "stream",
     "text": [
      "  Processed: 8, Failed: 0\n",
      "\n",
      "Processing character 16197...\n"
     ]
    },
    {
     "name": "stderr",
     "output_type": "stream",
     "text": [
      "Processing 16197: 100%|██████████| 8/8 [00:04<00:00,  1.75it/s]\n",
      "Processing 16197: 100%|██████████| 8/8 [00:04<00:00,  1.75it/s]\n"
     ]
    },
    {
     "name": "stdout",
     "output_type": "stream",
     "text": [
      "  Processed: 8, Failed: 0\n",
      "\n",
      "Processing character 338...\n"
     ]
    },
    {
     "name": "stderr",
     "output_type": "stream",
     "text": [
      "Processing 338: 100%|██████████| 8/8 [00:04<00:00,  1.78it/s]\n",
      "Processing 338: 100%|██████████| 8/8 [00:04<00:00,  1.78it/s]\n"
     ]
    },
    {
     "name": "stdout",
     "output_type": "stream",
     "text": [
      "  Processed: 8, Failed: 0\n",
      "\n",
      "Processing character 738...\n"
     ]
    },
    {
     "name": "stderr",
     "output_type": "stream",
     "text": [
      "Processing 738: 100%|██████████| 8/8 [00:04<00:00,  1.81it/s]\n",
      "Processing 738: 100%|██████████| 8/8 [00:04<00:00,  1.81it/s]\n"
     ]
    },
    {
     "name": "stdout",
     "output_type": "stream",
     "text": [
      "  Processed: 8, Failed: 0\n",
      "\n",
      "Processing character 56...\n"
     ]
    },
    {
     "name": "stderr",
     "output_type": "stream",
     "text": [
      "Processing 56: 100%|██████████| 8/8 [00:04<00:00,  1.74it/s]\n",
      "Processing 56: 100%|██████████| 8/8 [00:04<00:00,  1.74it/s]\n"
     ]
    },
    {
     "name": "stdout",
     "output_type": "stream",
     "text": [
      "  Processed: 8, Failed: 0\n",
      "\n",
      "Processing character 365...\n"
     ]
    },
    {
     "name": "stderr",
     "output_type": "stream",
     "text": [
      "Processing 365: 100%|██████████| 8/8 [00:04<00:00,  1.78it/s]\n",
      "Processing 365: 100%|██████████| 8/8 [00:04<00:00,  1.78it/s]\n"
     ]
    },
    {
     "name": "stdout",
     "output_type": "stream",
     "text": [
      "  Processed: 8, Failed: 0\n",
      "\n",
      "Processing character 324...\n"
     ]
    },
    {
     "name": "stderr",
     "output_type": "stream",
     "text": [
      "Processing 324: 100%|██████████| 8/8 [00:04<00:00,  1.71it/s]\n",
      "Processing 324: 100%|██████████| 8/8 [00:04<00:00,  1.71it/s]\n"
     ]
    },
    {
     "name": "stdout",
     "output_type": "stream",
     "text": [
      "  Processed: 8, Failed: 0\n",
      "\n",
      "Processing character 5721...\n"
     ]
    },
    {
     "name": "stderr",
     "output_type": "stream",
     "text": [
      "Processing 5721: 100%|██████████| 8/8 [00:04<00:00,  1.77it/s]\n",
      "Processing 5721: 100%|██████████| 8/8 [00:04<00:00,  1.77it/s]\n"
     ]
    },
    {
     "name": "stdout",
     "output_type": "stream",
     "text": [
      "  Processed: 8, Failed: 0\n",
      "\n",
      "Processing character 880...\n"
     ]
    },
    {
     "name": "stderr",
     "output_type": "stream",
     "text": [
      "Processing 880: 100%|██████████| 8/8 [00:04<00:00,  1.61it/s]\n",
      "Processing 880: 100%|██████████| 8/8 [00:04<00:00,  1.61it/s]\n"
     ]
    },
    {
     "name": "stdout",
     "output_type": "stream",
     "text": [
      "  Processed: 8, Failed: 0\n",
      "\n",
      "Processing character 646...\n"
     ]
    },
    {
     "name": "stderr",
     "output_type": "stream",
     "text": [
      "Processing 646: 100%|██████████| 8/8 [00:04<00:00,  1.83it/s]\n",
      "Processing 646: 100%|██████████| 8/8 [00:04<00:00,  1.83it/s]\n"
     ]
    },
    {
     "name": "stdout",
     "output_type": "stream",
     "text": [
      "  Processed: 8, Failed: 0\n",
      "\n",
      "Processing character 5442...\n"
     ]
    },
    {
     "name": "stderr",
     "output_type": "stream",
     "text": [
      "Processing 5442: 100%|██████████| 8/8 [00:04<00:00,  1.91it/s]\n",
      "Processing 5442: 100%|██████████| 8/8 [00:04<00:00,  1.91it/s]\n"
     ]
    },
    {
     "name": "stdout",
     "output_type": "stream",
     "text": [
      "  Processed: 8, Failed: 0\n",
      "\n",
      "Processing character 129...\n"
     ]
    },
    {
     "name": "stderr",
     "output_type": "stream",
     "text": [
      "Processing 129: 100%|██████████| 8/8 [00:04<00:00,  1.96it/s]\n",
      "Processing 129: 100%|██████████| 8/8 [00:04<00:00,  1.96it/s]\n"
     ]
    },
    {
     "name": "stdout",
     "output_type": "stream",
     "text": [
      "  Processed: 8, Failed: 0\n",
      "\n",
      "Processing character 17279...\n"
     ]
    },
    {
     "name": "stderr",
     "output_type": "stream",
     "text": [
      "Processing 17279: 100%|██████████| 8/8 [00:03<00:00,  2.04it/s]\n",
      "Processing 17279: 100%|██████████| 8/8 [00:03<00:00,  2.04it/s]\n"
     ]
    },
    {
     "name": "stdout",
     "output_type": "stream",
     "text": [
      "  Processed: 8, Failed: 0\n",
      "\n",
      "Processing character 9215...\n"
     ]
    },
    {
     "name": "stderr",
     "output_type": "stream",
     "text": [
      "Processing 9215: 100%|██████████| 8/8 [00:04<00:00,  1.97it/s]\n",
      "Processing 9215: 100%|██████████| 8/8 [00:04<00:00,  1.97it/s]\n"
     ]
    },
    {
     "name": "stdout",
     "output_type": "stream",
     "text": [
      "  Processed: 8, Failed: 0\n",
      "\n",
      "Processing character 6463...\n"
     ]
    },
    {
     "name": "stderr",
     "output_type": "stream",
     "text": [
      "Processing 6463: 100%|██████████| 8/8 [00:04<00:00,  1.96it/s]\n",
      "Processing 6463: 100%|██████████| 8/8 [00:04<00:00,  1.96it/s]\n"
     ]
    },
    {
     "name": "stdout",
     "output_type": "stream",
     "text": [
      "  Processed: 8, Failed: 0\n",
      "\n",
      "Processing character 5728...\n"
     ]
    },
    {
     "name": "stderr",
     "output_type": "stream",
     "text": [
      "Processing 5728: 100%|██████████| 8/8 [00:03<00:00,  2.04it/s]\n",
      "Processing 5728: 100%|██████████| 8/8 [00:03<00:00,  2.04it/s]\n"
     ]
    },
    {
     "name": "stdout",
     "output_type": "stream",
     "text": [
      "  Processed: 8, Failed: 0\n",
      "\n",
      "Processing character 5297...\n"
     ]
    },
    {
     "name": "stderr",
     "output_type": "stream",
     "text": [
      "Processing 5297: 100%|██████████| 8/8 [00:04<00:00,  2.00it/s]\n",
      "Processing 5297: 100%|██████████| 8/8 [00:04<00:00,  2.00it/s]\n"
     ]
    },
    {
     "name": "stdout",
     "output_type": "stream",
     "text": [
      "  Processed: 8, Failed: 0\n",
      "\n",
      "Processing character 9628...\n"
     ]
    },
    {
     "name": "stderr",
     "output_type": "stream",
     "text": [
      "Processing 9628: 100%|██████████| 8/8 [00:04<00:00,  1.94it/s]\n",
      "Processing 9628: 100%|██████████| 8/8 [00:04<00:00,  1.94it/s]\n"
     ]
    },
    {
     "name": "stdout",
     "output_type": "stream",
     "text": [
      "  Processed: 8, Failed: 0\n",
      "\n",
      "Processing character 8626...\n"
     ]
    },
    {
     "name": "stderr",
     "output_type": "stream",
     "text": [
      "Processing 8626: 100%|██████████| 8/8 [00:03<00:00,  2.02it/s]\n",
      "Processing 8626: 100%|██████████| 8/8 [00:03<00:00,  2.02it/s]\n"
     ]
    },
    {
     "name": "stdout",
     "output_type": "stream",
     "text": [
      "  Processed: 8, Failed: 0\n",
      "\n",
      "Processing character 8191...\n"
     ]
    },
    {
     "name": "stderr",
     "output_type": "stream",
     "text": [
      "Processing 8191: 100%|██████████| 8/8 [00:04<00:00,  1.99it/s]\n",
      "Processing 8191: 100%|██████████| 8/8 [00:04<00:00,  1.99it/s]\n"
     ]
    },
    {
     "name": "stdout",
     "output_type": "stream",
     "text": [
      "  Processed: 8, Failed: 0\n",
      "\n",
      "Processing character 452...\n"
     ]
    },
    {
     "name": "stderr",
     "output_type": "stream",
     "text": [
      "Processing 452: 100%|██████████| 8/8 [00:04<00:00,  1.89it/s]\n",
      "Processing 452: 100%|██████████| 8/8 [00:04<00:00,  1.89it/s]\n"
     ]
    },
    {
     "name": "stdout",
     "output_type": "stream",
     "text": [
      "  Processed: 8, Failed: 0\n",
      "\n",
      "Processing character 16189...\n"
     ]
    },
    {
     "name": "stderr",
     "output_type": "stream",
     "text": [
      "Processing 16189: 100%|██████████| 8/8 [00:04<00:00,  1.98it/s]\n",
      "Processing 16189: 100%|██████████| 8/8 [00:04<00:00,  1.98it/s]\n"
     ]
    },
    {
     "name": "stdout",
     "output_type": "stream",
     "text": [
      "  Processed: 8, Failed: 0\n",
      "\n",
      "Processing character 9877...\n"
     ]
    },
    {
     "name": "stderr",
     "output_type": "stream",
     "text": [
      "Processing 9877: 100%|██████████| 8/8 [00:04<00:00,  1.87it/s]\n",
      "Processing 9877: 100%|██████████| 8/8 [00:04<00:00,  1.87it/s]\n"
     ]
    },
    {
     "name": "stdout",
     "output_type": "stream",
     "text": [
      "  Processed: 8, Failed: 0\n",
      "\n",
      "Processing character 10730...\n"
     ]
    },
    {
     "name": "stderr",
     "output_type": "stream",
     "text": [
      "Processing 10730: 100%|██████████| 8/8 [00:04<00:00,  1.73it/s]\n",
      "Processing 10730: 100%|██████████| 8/8 [00:04<00:00,  1.73it/s]\n"
     ]
    },
    {
     "name": "stdout",
     "output_type": "stream",
     "text": [
      "  Processed: 8, Failed: 0\n",
      "\n",
      "Processing character 4900...\n"
     ]
    },
    {
     "name": "stderr",
     "output_type": "stream",
     "text": [
      "Processing 4900: 100%|██████████| 8/8 [00:04<00:00,  1.80it/s]\n",
      "Processing 4900: 100%|██████████| 8/8 [00:04<00:00,  1.80it/s]\n"
     ]
    },
    {
     "name": "stdout",
     "output_type": "stream",
     "text": [
      "  Processed: 8, Failed: 0\n",
      "\n",
      "Processing character 675...\n"
     ]
    },
    {
     "name": "stderr",
     "output_type": "stream",
     "text": [
      "Processing 675: 100%|██████████| 8/8 [00:04<00:00,  1.73it/s]\n",
      "Processing 675: 100%|██████████| 8/8 [00:04<00:00,  1.73it/s]\n"
     ]
    },
    {
     "name": "stdout",
     "output_type": "stream",
     "text": [
      "  Processed: 8, Failed: 0\n",
      "\n",
      "Processing character 19108...\n"
     ]
    },
    {
     "name": "stderr",
     "output_type": "stream",
     "text": [
      "Processing 19108: 100%|██████████| 8/8 [00:04<00:00,  1.83it/s]\n",
      "Processing 19108: 100%|██████████| 8/8 [00:04<00:00,  1.83it/s]\n"
     ]
    },
    {
     "name": "stdout",
     "output_type": "stream",
     "text": [
      "  Processed: 8, Failed: 0\n",
      "\n",
      "Processing character 6236...\n"
     ]
    },
    {
     "name": "stderr",
     "output_type": "stream",
     "text": [
      "Processing 6236: 100%|██████████| 8/8 [00:04<00:00,  1.85it/s]\n",
      "Processing 6236: 100%|██████████| 8/8 [00:04<00:00,  1.85it/s]\n"
     ]
    },
    {
     "name": "stdout",
     "output_type": "stream",
     "text": [
      "  Processed: 8, Failed: 0\n",
      "\n",
      "Processing character 865...\n"
     ]
    },
    {
     "name": "stderr",
     "output_type": "stream",
     "text": [
      "Processing 865: 100%|██████████| 8/8 [00:04<00:00,  1.91it/s]\n",
      "Processing 865: 100%|██████████| 8/8 [00:04<00:00,  1.91it/s]\n"
     ]
    },
    {
     "name": "stdout",
     "output_type": "stream",
     "text": [
      "  Processed: 8, Failed: 0\n",
      "\n",
      "Processing character 780...\n"
     ]
    },
    {
     "name": "stderr",
     "output_type": "stream",
     "text": [
      "Processing 780: 100%|██████████| 8/8 [00:04<00:00,  1.91it/s]\n",
      "Processing 780: 100%|██████████| 8/8 [00:04<00:00,  1.91it/s]\n"
     ]
    },
    {
     "name": "stdout",
     "output_type": "stream",
     "text": [
      "  Processed: 8, Failed: 0\n",
      "\n",
      "Processing character 3272...\n"
     ]
    },
    {
     "name": "stderr",
     "output_type": "stream",
     "text": [
      "Processing 3272:  75%|███████▌  | 6/8 [00:03<00:01,  1.59it/s]"
     ]
    }
   ],
   "source": [
    "# Check if model is ready and run background removal\n",
    "print(\"=== BACKGROUND REMOVAL EXECUTION ===\")\n",
    "\n",
    "# Check if rembg model is ready\n",
    "if globals().get('model_ready', False):\n",
    "    print(\"✅ rembg model is ready! Using AI-based background removal...\")\n",
    "    results_rembg = process_all_character_frames(method='rembg')\n",
    "else:\n",
    "    print(\"⚠️  rembg model not downloaded yet.\")"
   ]
  },
  {
   "cell_type": "code",
   "execution_count": 16,
   "id": "2d07f00b",
   "metadata": {},
   "outputs": [],
   "source": [
    "# Visualize results for a specific character\n",
    "# Replace with an actual character ID from your data\n",
    "if results_rembg:\n",
    "    # Get first character from results\n",
    "    first_character = '1'\n",
    "    print(f\"Visualizing results for character: {first_character}\")\n",
    "    \n",
    "    # Show before/after for frame 1\n",
    "    visualize_before_after(first_character, frame_num=1)\n",
    "    \n",
    "    # Show before/after for frame 5\n",
    "    visualize_before_after(first_character, frame_num=5)"
   ]
  }
 ],
 "metadata": {
  "kernelspec": {
   "display_name": "fortnite",
   "language": "python",
   "name": "python3"
  },
  "language_info": {
   "codemirror_mode": {
    "name": "ipython",
    "version": 3
   },
   "file_extension": ".py",
   "mimetype": "text/x-python",
   "name": "python",
   "nbconvert_exporter": "python",
   "pygments_lexer": "ipython3",
   "version": "3.9.23"
  }
 },
 "nbformat": 4,
 "nbformat_minor": 5
}
