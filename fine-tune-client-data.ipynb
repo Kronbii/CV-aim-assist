{
 "cells": [
  {
   "cell_type": "markdown",
   "id": "fa117a9c",
   "metadata": {},
   "source": [
    "this is the code used to fine tune my model using the data send by the client"
   ]
  },
  {
   "cell_type": "code",
   "execution_count": 17,
   "id": "eab31b5c",
   "metadata": {},
   "outputs": [],
   "source": [
    "import os\n",
    "import sys\n",
    "import argparse\n",
    "import shutil\n",
    "from pathlib import Path\n",
    "from ultralytics import YOLO\n",
    "import yaml\n",
    "from datetime import datetime"
   ]
  },
  {
   "cell_type": "code",
   "execution_count": 18,
   "id": "56bcf33a",
   "metadata": {},
   "outputs": [],
   "source": [
    "def setup_paths():\n",
    "    \"\"\"Setup and validate paths\"\"\"\n",
    "    base_dir = Path.cwd()\n",
    "    \n",
    "    paths = {\n",
    "        'base_dir': base_dir,\n",
    "        'client_dataset': base_dir / 'client-dataset',\n",
    "        'runs_dir': base_dir / 'runs',\n",
    "        'existing_model': base_dir / 'person_detection' / 'game_characters' / 'weights' / 'epoch20.pt'\n",
    "    }\n",
    "    \n",
    "    # Check if client dataset exists\n",
    "    if not paths['client_dataset'].exists():\n",
    "        raise FileNotFoundError(f\"Client dataset not found at {paths['client_dataset']}\")\n",
    "    \n",
    "    # Check if existing model exists\n",
    "    if not paths['existing_model'].exists():\n",
    "        print(f\"Warning: Existing model not found at {paths['existing_model']}\")\n",
    "        print(\"Available models:\")\n",
    "        weights_dir = paths['existing_model'].parent\n",
    "        if weights_dir.exists():\n",
    "            for weight_file in weights_dir.glob('*.pt'):\n",
    "                print(f\"  - {weight_file.name}\")\n",
    "    \n",
    "    return paths"
   ]
  },
  {
   "cell_type": "code",
   "execution_count": 19,
   "id": "de2e2c55",
   "metadata": {},
   "outputs": [],
   "source": [
    "def validate_dataset(dataset_path):\n",
    "    \"\"\"Validate dataset structure and return statistics\"\"\"\n",
    "    data_yaml = dataset_path / 'data.yaml'\n",
    "    if not data_yaml.exists():\n",
    "        raise FileNotFoundError(f\"data.yaml not found in {dataset_path}\")\n",
    "    \n",
    "    # Load dataset configuration\n",
    "    with open(data_yaml, 'r') as f:\n",
    "        data_config = yaml.safe_load(f)\n",
    "    \n",
    "    print(f\"Dataset configuration:\")\n",
    "    print(f\"  - Classes: {data_config.get('names', 'Not specified')}\")\n",
    "    print(f\"  - Train path: {data_config.get('train', 'Not specified')}\")\n",
    "    print(f\"  - Val path: {data_config.get('val', 'Not specified')}\")\n",
    "    print(f\"  - Test path: {data_config.get('test', 'Not specified')}\")\n",
    "    \n",
    "    # Count files in each split\n",
    "    splits = ['train', 'val', 'test']\n",
    "    for split in splits:\n",
    "        if split in data_config:\n",
    "            split_path = dataset_path / split\n",
    "            if split_path.exists():\n",
    "                images_path = split_path / 'images'\n",
    "                labels_path = split_path / 'labels'\n",
    "                \n",
    "                if images_path.exists() and labels_path.exists():\n",
    "                    image_count = len(list(images_path.glob('*')))\n",
    "                    label_count = len(list(labels_path.glob('*')))\n",
    "                    print(f\"  - {split.capitalize()}: {image_count} images, {label_count} labels\")\n",
    "                else:\n",
    "                    print(f\"  - {split.capitalize()}: Missing images or labels directory\")\n",
    "    \n",
    "    return data_config"
   ]
  },
  {
   "cell_type": "code",
   "execution_count": 20,
   "id": "061f0a93",
   "metadata": {},
   "outputs": [],
   "source": [
    "def create_training_config(data_config, output_dir):\n",
    "    \"\"\"Create a training-specific data.yaml file with absolute paths\"\"\"\n",
    "    training_config = data_config.copy()\n",
    "    \n",
    "    # Convert relative paths to absolute paths\n",
    "    base_path = Path.cwd() / 'client-dataset'\n",
    "    \n",
    "    for split in ['train', 'val', 'test']:\n",
    "        if split in training_config:\n",
    "            # Make paths absolute\n",
    "            training_config[split] = str(base_path / split / 'images')\n",
    "    \n",
    "    # Save training config\n",
    "    training_yaml = output_dir / 'training_data.yaml'\n",
    "    with open(training_yaml, 'w') as f:\n",
    "        yaml.dump(training_config, f, default_flow_style=False)\n",
    "    \n",
    "    print(f\"Created training configuration at {training_yaml}\")\n",
    "    return training_yaml"
   ]
  },
  {
   "cell_type": "code",
   "execution_count": 21,
   "id": "0442d0c8",
   "metadata": {},
   "outputs": [],
   "source": [
    "def setup_training_directory():\n",
    "    \"\"\"Create a timestamped training directory\"\"\"\n",
    "    timestamp = datetime.now().strftime(\"%Y%m%d_%H%M%S\")\n",
    "    run_name = f\"client_finetune_{timestamp}\"\n",
    "    \n",
    "    runs_dir = Path.cwd() / 'runs' / 'detect'\n",
    "    output_dir = runs_dir / run_name\n",
    "    output_dir.mkdir(parents=True, exist_ok=True)\n",
    "    \n",
    "    print(f\"Training output directory: {output_dir}\")\n",
    "    return output_dir"
   ]
  },
  {
   "cell_type": "code",
   "execution_count": 22,
   "id": "8d71b7c2",
   "metadata": {},
   "outputs": [],
   "source": [
    "def train_model(model_path, data_yaml, output_dir, epochs=50, batch_size=16, patience=10):\n",
    "    \"\"\"Train the YOLO model\"\"\"\n",
    "    print(f\"\\nStarting training...\")\n",
    "    print(f\"Model: {model_path}\")\n",
    "    print(f\"Data: {data_yaml}\")\n",
    "    print(f\"Output: {output_dir}\")\n",
    "    print(f\"Epochs: {epochs}\")\n",
    "    print(f\"Batch size: {batch_size}\")\n",
    "    print(f\"Patience: {patience}\")\n",
    "    print(\"-\" * 50)\n",
    "    \n",
    "    # Load the model\n",
    "    model = YOLO(str(model_path))\n",
    "    \n",
    "    # Train the model\n",
    "    results = model.train(\n",
    "        data=str(data_yaml),\n",
    "        epochs=epochs,\n",
    "        batch=batch_size,\n",
    "        patience=patience,\n",
    "        save=True,\n",
    "        save_period=5,  # Save checkpoint every 5 epochs\n",
    "        project=str(output_dir.parent.parent),  # runs/\n",
    "        name=output_dir.name,\n",
    "        exist_ok=True,\n",
    "        # Hyperparameters for fine-tuning\n",
    "        lr0=0.001,      # Lower learning rate for fine-tuning\n",
    "        momentum=0.937,\n",
    "        weight_decay=0.0005,\n",
    "        warmup_epochs=3,\n",
    "        warmup_momentum=0.8,\n",
    "        warmup_bias_lr=0.1,\n",
    "        # Augmentation (moderate for fine-tuning)\n",
    "        degrees=10.0,   # Reduced rotation\n",
    "        translate=0.1,  # Reduced translation\n",
    "        scale=0.5,      # Reduced scaling\n",
    "        shear=2.0,      # Reduced shear\n",
    "        flipud=0.0,     # No vertical flip\n",
    "        fliplr=0.5,     # 50% horizontal flip\n",
    "        mosaic=0.5,     # Reduced mosaic probability\n",
    "        mixup=0.1,      # Light mixup\n",
    "        # Optimizer\n",
    "        optimizer='AdamW',\n",
    "        close_mosaic=10,  # Disable mosaic in last 10 epochs\n",
    "        amp=True,       # Automatic Mixed Precision\n",
    "        # Validation\n",
    "        val=True,\n",
    "        plots=True,\n",
    "        verbose=True\n",
    "    )\n",
    "    \n",
    "    print(f\"\\nTraining completed!\")\n",
    "    print(f\"Results saved to: {output_dir}\")\n",
    "    \n",
    "    # Print key metrics\n",
    "    if hasattr(results, 'results_dict'):\n",
    "        metrics = results.results_dict\n",
    "        print(f\"\\nFinal Metrics:\")\n",
    "        for key, value in metrics.items():\n",
    "            if isinstance(value, (int, float)):\n",
    "                print(f\"  {key}: {value:.4f}\")\n",
    "    \n",
    "    return results"
   ]
  },
  {
   "cell_type": "code",
   "execution_count": 23,
   "id": "dda6f81c",
   "metadata": {},
   "outputs": [],
   "source": [
    "def copy_best_weights(output_dir, destination=None):\n",
    "    \"\"\"Copy the best weights to a convenient location\"\"\"\n",
    "    weights_dir = output_dir / 'weights'\n",
    "    if weights_dir.exists():\n",
    "        best_weights = weights_dir / 'best.pt'\n",
    "        if best_weights.exists():\n",
    "            if destination is None:\n",
    "                destination = Path.cwd() / 'client_finetuned_best.pt'\n",
    "            \n",
    "            shutil.copy2(best_weights, destination)\n",
    "            print(f\"Best weights copied to: {destination}\")\n",
    "            return destination\n",
    "        else:\n",
    "            print(\"Warning: best.pt not found in weights directory\")\n",
    "    else:\n",
    "        print(\"Warning: weights directory not found\")\n",
    "    \n",
    "    return None"
   ]
  },
  {
   "cell_type": "code",
   "execution_count": 24,
   "id": "908dab4c",
   "metadata": {},
   "outputs": [
    {
     "name": "stdout",
     "output_type": "stream",
     "text": [
      "============================================================\n",
      "YOLO CLIENT DATASET FINE-TUNING\n",
      "============================================================\n",
      "\n",
      "1. Setting up paths...\n",
      "\n",
      "2. Validating dataset...\n",
      "Dataset configuration:\n",
      "  - Classes: ['enemy']\n",
      "  - Train path: ../train/images\n",
      "  - Val path: ../valid/images\n",
      "  - Test path: ../test/images\n",
      "  - Train: 708 images, 708 labels\n",
      "  - Val: 149 images, 149 labels\n",
      "  - Test: 167 images, 167 labels\n",
      "\n",
      "3. Setting up training environment...\n",
      "Training output directory: /home/kronbii/repos/CV-aim-assist/runs/detect/client_finetune_20250917_210235\n",
      "\n",
      "4. Creating training configuration...\n",
      "Created training configuration at /home/kronbii/repos/CV-aim-assist/runs/detect/client_finetune_20250917_210235/training_data.yaml\n",
      "\n",
      "5. Training model...\n",
      "\n",
      "Starting training...\n",
      "Model: /home/kronbii/repos/CV-aim-assist/person_detection/game_characters/weights/epoch20.pt\n",
      "Data: /home/kronbii/repos/CV-aim-assist/runs/detect/client_finetune_20250917_210235/training_data.yaml\n",
      "Output: /home/kronbii/repos/CV-aim-assist/runs/detect/client_finetune_20250917_210235\n",
      "Epochs: 100\n",
      "Batch size: 32\n",
      "Patience: 15\n",
      "--------------------------------------------------\n",
      "Ultralytics 8.3.179 🚀 Python-3.9.23 torch-2.8.0+cu128 CUDA:0 (NVIDIA GeForce RTX 3070 Laptop GPU, 7815MiB)\n",
      "\u001b[34m\u001b[1mengine/trainer: \u001b[0magnostic_nms=False, amp=True, augment=False, auto_augment=randaugment, batch=32, bgr=0.0, box=7.5, cache=False, cfg=None, classes=None, close_mosaic=10, cls=0.5, conf=None, copy_paste=0.0, copy_paste_mode=flip, cos_lr=False, cutmix=0.0, data=/home/kronbii/repos/CV-aim-assist/runs/detect/client_finetune_20250917_210235/training_data.yaml, degrees=10.0, deterministic=True, device=None, dfl=1.5, dnn=False, dropout=0.0, dynamic=False, embed=None, epochs=100, erasing=0.4, exist_ok=True, fliplr=0.5, flipud=0.0, format=torchscript, fraction=1.0, freeze=None, half=False, hsv_h=0.015, hsv_s=0.7, hsv_v=0.4, imgsz=640, int8=False, iou=0.7, keras=False, kobj=1.0, line_width=None, lr0=0.001, lrf=0.01, mask_ratio=4, max_det=300, mixup=0.1, mode=train, model=/home/kronbii/repos/CV-aim-assist/person_detection/game_characters/weights/epoch20.pt, momentum=0.937, mosaic=0.5, multi_scale=False, name=client_finetune_20250917_210235, nbs=64, nms=False, opset=None, optimize=False, optimizer=AdamW, overlap_mask=True, patience=15, perspective=0.0, plots=True, pose=12.0, pretrained=True, profile=False, project=/home/kronbii/repos/CV-aim-assist/runs, rect=False, resume=False, retina_masks=False, save=True, save_conf=False, save_crop=False, save_dir=/home/kronbii/repos/CV-aim-assist/runs/client_finetune_20250917_210235, save_frames=False, save_json=False, save_period=5, save_txt=False, scale=0.5, seed=0, shear=2.0, show=False, show_boxes=True, show_conf=True, show_labels=True, simplify=True, single_cls=False, source=None, split=val, stream_buffer=False, task=detect, time=None, tracker=botsort.yaml, translate=0.1, val=True, verbose=True, vid_stride=1, visualize=False, warmup_bias_lr=0.1, warmup_epochs=3, warmup_momentum=0.8, weight_decay=0.0005, workers=8, workspace=None\n",
      "\n",
      "                   from  n    params  module                                       arguments                     \n",
      "  0                  -1  1       464  ultralytics.nn.modules.conv.Conv             [3, 16, 3, 2]                 \n",
      "  1                  -1  1      4672  ultralytics.nn.modules.conv.Conv             [16, 32, 3, 2]                \n",
      "  2                  -1  1      7360  ultralytics.nn.modules.block.C2f             [32, 32, 1, True]             \n",
      "  3                  -1  1     18560  ultralytics.nn.modules.conv.Conv             [32, 64, 3, 2]                \n",
      "  4                  -1  2     49664  ultralytics.nn.modules.block.C2f             [64, 64, 2, True]             \n",
      "  5                  -1  1     73984  ultralytics.nn.modules.conv.Conv             [64, 128, 3, 2]               \n",
      "  6                  -1  2    197632  ultralytics.nn.modules.block.C2f             [128, 128, 2, True]           \n",
      "  7                  -1  1    295424  ultralytics.nn.modules.conv.Conv             [128, 256, 3, 2]              \n",
      "  8                  -1  1    460288  ultralytics.nn.modules.block.C2f             [256, 256, 1, True]           \n",
      "  9                  -1  1    164608  ultralytics.nn.modules.block.SPPF            [256, 256, 5]                 \n",
      " 10                  -1  1         0  torch.nn.modules.upsampling.Upsample         [None, 2, 'nearest']          \n",
      " 11             [-1, 6]  1         0  ultralytics.nn.modules.conv.Concat           [1]                           \n",
      " 12                  -1  1    148224  ultralytics.nn.modules.block.C2f             [384, 128, 1]                 \n",
      " 13                  -1  1         0  torch.nn.modules.upsampling.Upsample         [None, 2, 'nearest']          \n",
      " 14             [-1, 4]  1         0  ultralytics.nn.modules.conv.Concat           [1]                           \n",
      " 15                  -1  1     37248  ultralytics.nn.modules.block.C2f             [192, 64, 1]                  \n",
      " 16                  -1  1     36992  ultralytics.nn.modules.conv.Conv             [64, 64, 3, 2]                \n",
      " 17            [-1, 12]  1         0  ultralytics.nn.modules.conv.Concat           [1]                           \n",
      " 18                  -1  1    123648  ultralytics.nn.modules.block.C2f             [192, 128, 1]                 \n",
      " 19                  -1  1    147712  ultralytics.nn.modules.conv.Conv             [128, 128, 3, 2]              \n",
      " 20             [-1, 9]  1         0  ultralytics.nn.modules.conv.Concat           [1]                           \n",
      " 21                  -1  1    493056  ultralytics.nn.modules.block.C2f             [384, 256, 1]                 \n",
      " 22        [15, 18, 21]  1    751507  ultralytics.nn.modules.head.Detect           [1, [64, 128, 256]]           \n",
      "Model summary: 129 layers, 3,011,043 parameters, 3,011,027 gradients, 8.2 GFLOPs\n",
      "\n",
      "Transferred 355/355 items from pretrained weights\n",
      "Freezing layer 'model.22.dfl.conv.weight'\n",
      "\u001b[34m\u001b[1mAMP: \u001b[0mrunning Automatic Mixed Precision (AMP) checks...\n",
      "\u001b[34m\u001b[1mAMP: \u001b[0mchecks passed ✅\n",
      "\u001b[34m\u001b[1mtrain: \u001b[0mFast image access ✅ (ping: 0.0±0.0 ms, read: 101.8±16.7 MB/s, size: 37.3 KB)\n"
     ]
    },
    {
     "name": "stderr",
     "output_type": "stream",
     "text": [
      "\u001b[34m\u001b[1mtrain: \u001b[0mScanning /home/kronbii/repos/CV-aim-assist/client-dataset/train/labels... 708 images, 0 backgrounds, 0 corrupt: 100%|██████████| 708/708 [00:00<00:00, 2386.90it/s]\n"
     ]
    },
    {
     "name": "stdout",
     "output_type": "stream",
     "text": [
      "\u001b[34m\u001b[1mtrain: \u001b[0mNew cache created: /home/kronbii/repos/CV-aim-assist/client-dataset/train/labels.cache\n",
      "\u001b[34m\u001b[1mval: \u001b[0mFast image access ✅ (ping: 0.0±0.0 ms, read: 87.3±51.1 MB/s, size: 30.5 KB)\n"
     ]
    },
    {
     "name": "stderr",
     "output_type": "stream",
     "text": [
      "\u001b[34m\u001b[1mval: \u001b[0mScanning /home/kronbii/repos/CV-aim-assist/client-dataset/val/labels... 149 images, 1 backgrounds, 0 corrupt: 100%|██████████| 149/149 [00:00<00:00, 951.56it/s]"
     ]
    },
    {
     "name": "stdout",
     "output_type": "stream",
     "text": [
      "\u001b[34m\u001b[1mval: \u001b[0mNew cache created: /home/kronbii/repos/CV-aim-assist/client-dataset/val/labels.cache\n"
     ]
    },
    {
     "name": "stderr",
     "output_type": "stream",
     "text": [
      "\n"
     ]
    },
    {
     "name": "stdout",
     "output_type": "stream",
     "text": [
      "Plotting labels to /home/kronbii/repos/CV-aim-assist/runs/client_finetune_20250917_210235/labels.jpg... \n",
      "\u001b[34m\u001b[1moptimizer:\u001b[0m AdamW(lr=0.001, momentum=0.937) with parameter groups 57 weight(decay=0.0), 64 weight(decay=0.0005), 63 bias(decay=0.0)\n",
      "Image sizes 640 train, 640 val\n",
      "Using 8 dataloader workers\n",
      "Logging results to \u001b[1m/home/kronbii/repos/CV-aim-assist/runs/client_finetune_20250917_210235\u001b[0m\n",
      "Starting training for 100 epochs...\n",
      "\n",
      "      Epoch    GPU_mem   box_loss   cls_loss   dfl_loss  Instances       Size\n"
     ]
    },
    {
     "name": "stderr",
     "output_type": "stream",
     "text": [
      "      1/100      3.86G      3.323      5.019      2.764          5        640: 100%|██████████| 23/23 [00:06<00:00,  3.74it/s]\n",
      "                 Class     Images  Instances      Box(P          R      mAP50  mAP50-95): 100%|██████████| 3/3 [00:00<00:00,  4.47it/s]"
     ]
    },
    {
     "name": "stdout",
     "output_type": "stream",
     "text": [
      "                   all        149        161      0.167       0.13     0.0684     0.0202\n"
     ]
    },
    {
     "name": "stderr",
     "output_type": "stream",
     "text": [
      "\n"
     ]
    },
    {
     "name": "stdout",
     "output_type": "stream",
     "text": [
      "\n",
      "      Epoch    GPU_mem   box_loss   cls_loss   dfl_loss  Instances       Size\n"
     ]
    },
    {
     "name": "stderr",
     "output_type": "stream",
     "text": [
      "      2/100       3.9G      2.537      2.624      1.678          5        640: 100%|██████████| 23/23 [00:05<00:00,  4.49it/s]\n",
      "                 Class     Images  Instances      Box(P          R      mAP50  mAP50-95): 100%|██████████| 3/3 [00:00<00:00,  6.02it/s]"
     ]
    },
    {
     "name": "stdout",
     "output_type": "stream",
     "text": [
      "                   all        149        161      0.299      0.205      0.155     0.0493\n"
     ]
    },
    {
     "name": "stderr",
     "output_type": "stream",
     "text": [
      "\n"
     ]
    },
    {
     "name": "stdout",
     "output_type": "stream",
     "text": [
      "\n",
      "      Epoch    GPU_mem   box_loss   cls_loss   dfl_loss  Instances       Size\n"
     ]
    },
    {
     "name": "stderr",
     "output_type": "stream",
     "text": [
      "      3/100      3.87G      2.354      2.377      1.574          9        640: 100%|██████████| 23/23 [00:04<00:00,  4.75it/s]\n",
      "                 Class     Images  Instances      Box(P          R      mAP50  mAP50-95): 100%|██████████| 3/3 [00:00<00:00,  6.28it/s]"
     ]
    },
    {
     "name": "stdout",
     "output_type": "stream",
     "text": [
      "                   all        149        161      0.483      0.261      0.292      0.104\n"
     ]
    },
    {
     "name": "stderr",
     "output_type": "stream",
     "text": [
      "\n"
     ]
    },
    {
     "name": "stdout",
     "output_type": "stream",
     "text": [
      "\n",
      "      Epoch    GPU_mem   box_loss   cls_loss   dfl_loss  Instances       Size\n"
     ]
    },
    {
     "name": "stderr",
     "output_type": "stream",
     "text": [
      "      4/100      3.94G      2.283      2.335      1.556         11        640: 100%|██████████| 23/23 [00:04<00:00,  5.06it/s]\n",
      "                 Class     Images  Instances      Box(P          R      mAP50  mAP50-95): 100%|██████████| 3/3 [00:00<00:00,  6.35it/s]"
     ]
    },
    {
     "name": "stdout",
     "output_type": "stream",
     "text": [
      "                   all        149        161      0.426      0.323       0.32      0.121\n"
     ]
    },
    {
     "name": "stderr",
     "output_type": "stream",
     "text": [
      "\n"
     ]
    },
    {
     "name": "stdout",
     "output_type": "stream",
     "text": [
      "\n",
      "      Epoch    GPU_mem   box_loss   cls_loss   dfl_loss  Instances       Size\n"
     ]
    },
    {
     "name": "stderr",
     "output_type": "stream",
     "text": [
      "      5/100      3.87G      2.195      2.239      1.487          9        640: 100%|██████████| 23/23 [00:04<00:00,  5.08it/s]\n",
      "                 Class     Images  Instances      Box(P          R      mAP50  mAP50-95): 100%|██████████| 3/3 [00:00<00:00,  6.40it/s]"
     ]
    },
    {
     "name": "stdout",
     "output_type": "stream",
     "text": [
      "                   all        149        161       0.43      0.348      0.347      0.143\n"
     ]
    },
    {
     "name": "stderr",
     "output_type": "stream",
     "text": [
      "\n"
     ]
    },
    {
     "name": "stdout",
     "output_type": "stream",
     "text": [
      "\n",
      "      Epoch    GPU_mem   box_loss   cls_loss   dfl_loss  Instances       Size\n"
     ]
    },
    {
     "name": "stderr",
     "output_type": "stream",
     "text": [
      "      6/100      3.91G      2.117      2.116      1.452          4        640: 100%|██████████| 23/23 [00:04<00:00,  5.05it/s]\n",
      "                 Class     Images  Instances      Box(P          R      mAP50  mAP50-95): 100%|██████████| 3/3 [00:00<00:00,  6.47it/s]"
     ]
    },
    {
     "name": "stdout",
     "output_type": "stream",
     "text": [
      "                   all        149        161      0.454      0.416      0.375      0.155\n"
     ]
    },
    {
     "name": "stderr",
     "output_type": "stream",
     "text": [
      "\n"
     ]
    },
    {
     "name": "stdout",
     "output_type": "stream",
     "text": [
      "\n",
      "      Epoch    GPU_mem   box_loss   cls_loss   dfl_loss  Instances       Size\n"
     ]
    },
    {
     "name": "stderr",
     "output_type": "stream",
     "text": [
      "      7/100       3.9G      2.069      1.979      1.422          6        640: 100%|██████████| 23/23 [00:04<00:00,  5.10it/s]\n",
      "                 Class     Images  Instances      Box(P          R      mAP50  mAP50-95): 100%|██████████| 3/3 [00:00<00:00,  6.04it/s]"
     ]
    },
    {
     "name": "stdout",
     "output_type": "stream",
     "text": [
      "                   all        149        161       0.55       0.35      0.385      0.158\n"
     ]
    },
    {
     "name": "stderr",
     "output_type": "stream",
     "text": [
      "\n"
     ]
    },
    {
     "name": "stdout",
     "output_type": "stream",
     "text": [
      "\n",
      "      Epoch    GPU_mem   box_loss   cls_loss   dfl_loss  Instances       Size\n"
     ]
    },
    {
     "name": "stderr",
     "output_type": "stream",
     "text": [
      "      8/100      3.88G      2.054      1.929       1.37          5        640: 100%|██████████| 23/23 [00:04<00:00,  4.68it/s]\n",
      "                 Class     Images  Instances      Box(P          R      mAP50  mAP50-95): 100%|██████████| 3/3 [00:00<00:00,  5.70it/s]"
     ]
    },
    {
     "name": "stdout",
     "output_type": "stream",
     "text": [
      "                   all        149        161      0.596       0.41      0.442      0.189\n"
     ]
    },
    {
     "name": "stderr",
     "output_type": "stream",
     "text": [
      "\n"
     ]
    },
    {
     "name": "stdout",
     "output_type": "stream",
     "text": [
      "\n",
      "      Epoch    GPU_mem   box_loss   cls_loss   dfl_loss  Instances       Size\n"
     ]
    },
    {
     "name": "stderr",
     "output_type": "stream",
     "text": [
      "      9/100      3.93G      1.968      1.841      1.336          6        640: 100%|██████████| 23/23 [00:05<00:00,  4.59it/s]\n",
      "                 Class     Images  Instances      Box(P          R      mAP50  mAP50-95): 100%|██████████| 3/3 [00:00<00:00,  6.62it/s]"
     ]
    },
    {
     "name": "stdout",
     "output_type": "stream",
     "text": [
      "                   all        149        161      0.712      0.404      0.479      0.194\n"
     ]
    },
    {
     "name": "stderr",
     "output_type": "stream",
     "text": [
      "\n"
     ]
    },
    {
     "name": "stdout",
     "output_type": "stream",
     "text": [
      "\n",
      "      Epoch    GPU_mem   box_loss   cls_loss   dfl_loss  Instances       Size\n"
     ]
    },
    {
     "name": "stderr",
     "output_type": "stream",
     "text": [
      "     10/100      3.88G      2.001      1.904      1.402         11        640: 100%|██████████| 23/23 [00:04<00:00,  5.41it/s]\n",
      "                 Class     Images  Instances      Box(P          R      mAP50  mAP50-95): 100%|██████████| 3/3 [00:00<00:00,  6.83it/s]"
     ]
    },
    {
     "name": "stdout",
     "output_type": "stream",
     "text": [
      "                   all        149        161      0.541      0.425      0.438      0.187\n"
     ]
    },
    {
     "name": "stderr",
     "output_type": "stream",
     "text": [
      "\n"
     ]
    },
    {
     "name": "stdout",
     "output_type": "stream",
     "text": [
      "\n",
      "      Epoch    GPU_mem   box_loss   cls_loss   dfl_loss  Instances       Size\n"
     ]
    },
    {
     "name": "stderr",
     "output_type": "stream",
     "text": [
      "     11/100       3.9G      1.949      1.865      1.357          3        640: 100%|██████████| 23/23 [00:04<00:00,  5.31it/s]\n",
      "                 Class     Images  Instances      Box(P          R      mAP50  mAP50-95): 100%|██████████| 3/3 [00:00<00:00,  6.70it/s]"
     ]
    },
    {
     "name": "stdout",
     "output_type": "stream",
     "text": [
      "                   all        149        161      0.635      0.354      0.425      0.183\n"
     ]
    },
    {
     "name": "stderr",
     "output_type": "stream",
     "text": [
      "\n"
     ]
    },
    {
     "name": "stdout",
     "output_type": "stream",
     "text": [
      "\n",
      "      Epoch    GPU_mem   box_loss   cls_loss   dfl_loss  Instances       Size\n"
     ]
    },
    {
     "name": "stderr",
     "output_type": "stream",
     "text": [
      "     12/100      3.91G      1.969      1.827      1.376          3        640: 100%|██████████| 23/23 [00:04<00:00,  5.46it/s]\n",
      "                 Class     Images  Instances      Box(P          R      mAP50  mAP50-95): 100%|██████████| 3/3 [00:00<00:00,  6.35it/s]"
     ]
    },
    {
     "name": "stdout",
     "output_type": "stream",
     "text": [
      "                   all        149        161      0.688      0.384      0.459      0.193\n"
     ]
    },
    {
     "name": "stderr",
     "output_type": "stream",
     "text": [
      "\n"
     ]
    },
    {
     "name": "stdout",
     "output_type": "stream",
     "text": [
      "\n",
      "      Epoch    GPU_mem   box_loss   cls_loss   dfl_loss  Instances       Size\n"
     ]
    },
    {
     "name": "stderr",
     "output_type": "stream",
     "text": [
      "     13/100      3.87G       1.92      1.715      1.336          4        640: 100%|██████████| 23/23 [00:05<00:00,  4.60it/s]\n",
      "                 Class     Images  Instances      Box(P          R      mAP50  mAP50-95): 100%|██████████| 3/3 [00:00<00:00,  5.69it/s]"
     ]
    },
    {
     "name": "stdout",
     "output_type": "stream",
     "text": [
      "                   all        149        161       0.59      0.453      0.483      0.197\n"
     ]
    },
    {
     "name": "stderr",
     "output_type": "stream",
     "text": [
      "\n"
     ]
    },
    {
     "name": "stdout",
     "output_type": "stream",
     "text": [
      "\n",
      "      Epoch    GPU_mem   box_loss   cls_loss   dfl_loss  Instances       Size\n"
     ]
    },
    {
     "name": "stderr",
     "output_type": "stream",
     "text": [
      "     14/100      3.95G       1.95      1.682      1.344          8        640: 100%|██████████| 23/23 [00:05<00:00,  4.48it/s]\n",
      "                 Class     Images  Instances      Box(P          R      mAP50  mAP50-95): 100%|██████████| 3/3 [00:00<00:00,  5.76it/s]"
     ]
    },
    {
     "name": "stdout",
     "output_type": "stream",
     "text": [
      "                   all        149        161      0.601      0.441      0.466      0.195\n"
     ]
    },
    {
     "name": "stderr",
     "output_type": "stream",
     "text": [
      "\n"
     ]
    },
    {
     "name": "stdout",
     "output_type": "stream",
     "text": [
      "\n",
      "      Epoch    GPU_mem   box_loss   cls_loss   dfl_loss  Instances       Size\n"
     ]
    },
    {
     "name": "stderr",
     "output_type": "stream",
     "text": [
      "     15/100      3.93G      1.919      1.683      1.322         11        640: 100%|██████████| 23/23 [00:04<00:00,  4.88it/s]\n",
      "                 Class     Images  Instances      Box(P          R      mAP50  mAP50-95): 100%|██████████| 3/3 [00:00<00:00,  5.79it/s]"
     ]
    },
    {
     "name": "stdout",
     "output_type": "stream",
     "text": [
      "                   all        149        161      0.533      0.509      0.492      0.211\n"
     ]
    },
    {
     "name": "stderr",
     "output_type": "stream",
     "text": [
      "\n"
     ]
    },
    {
     "name": "stdout",
     "output_type": "stream",
     "text": [
      "\n",
      "      Epoch    GPU_mem   box_loss   cls_loss   dfl_loss  Instances       Size\n"
     ]
    },
    {
     "name": "stderr",
     "output_type": "stream",
     "text": [
      "     16/100      3.88G      1.915      1.631      1.314          6        640: 100%|██████████| 23/23 [00:04<00:00,  4.76it/s]\n",
      "                 Class     Images  Instances      Box(P          R      mAP50  mAP50-95): 100%|██████████| 3/3 [00:00<00:00,  5.77it/s]"
     ]
    },
    {
     "name": "stdout",
     "output_type": "stream",
     "text": [
      "                   all        149        161      0.507      0.478      0.456      0.199\n"
     ]
    },
    {
     "name": "stderr",
     "output_type": "stream",
     "text": [
      "\n"
     ]
    },
    {
     "name": "stdout",
     "output_type": "stream",
     "text": [
      "\n",
      "      Epoch    GPU_mem   box_loss   cls_loss   dfl_loss  Instances       Size\n"
     ]
    },
    {
     "name": "stderr",
     "output_type": "stream",
     "text": [
      "     17/100       3.9G      1.841      1.648       1.29          5        640: 100%|██████████| 23/23 [00:05<00:00,  4.52it/s]\n",
      "                 Class     Images  Instances      Box(P          R      mAP50  mAP50-95): 100%|██████████| 3/3 [00:00<00:00,  5.71it/s]"
     ]
    },
    {
     "name": "stdout",
     "output_type": "stream",
     "text": [
      "                   all        149        161      0.582      0.458      0.457      0.197\n"
     ]
    },
    {
     "name": "stderr",
     "output_type": "stream",
     "text": [
      "\n"
     ]
    },
    {
     "name": "stdout",
     "output_type": "stream",
     "text": [
      "\n",
      "      Epoch    GPU_mem   box_loss   cls_loss   dfl_loss  Instances       Size\n"
     ]
    },
    {
     "name": "stderr",
     "output_type": "stream",
     "text": [
      "     18/100      3.88G       1.85      1.591      1.297          5        640: 100%|██████████| 23/23 [00:05<00:00,  4.52it/s]\n",
      "                 Class     Images  Instances      Box(P          R      mAP50  mAP50-95): 100%|██████████| 3/3 [00:00<00:00,  5.79it/s]"
     ]
    },
    {
     "name": "stdout",
     "output_type": "stream",
     "text": [
      "                   all        149        161        0.7      0.416      0.479      0.218\n"
     ]
    },
    {
     "name": "stderr",
     "output_type": "stream",
     "text": [
      "\n"
     ]
    },
    {
     "name": "stdout",
     "output_type": "stream",
     "text": [
      "\n",
      "      Epoch    GPU_mem   box_loss   cls_loss   dfl_loss  Instances       Size\n"
     ]
    },
    {
     "name": "stderr",
     "output_type": "stream",
     "text": [
      "     19/100      3.87G      1.914      1.594      1.316          9        640: 100%|██████████| 23/23 [00:05<00:00,  4.53it/s]\n",
      "                 Class     Images  Instances      Box(P          R      mAP50  mAP50-95): 100%|██████████| 3/3 [00:00<00:00,  5.60it/s]"
     ]
    },
    {
     "name": "stdout",
     "output_type": "stream",
     "text": [
      "                   all        149        161      0.647       0.41       0.47      0.207\n"
     ]
    },
    {
     "name": "stderr",
     "output_type": "stream",
     "text": [
      "\n"
     ]
    },
    {
     "name": "stdout",
     "output_type": "stream",
     "text": [
      "\n",
      "      Epoch    GPU_mem   box_loss   cls_loss   dfl_loss  Instances       Size\n"
     ]
    },
    {
     "name": "stderr",
     "output_type": "stream",
     "text": [
      "     20/100      3.88G      1.812      1.539        1.3          4        640: 100%|██████████| 23/23 [00:05<00:00,  4.48it/s]\n",
      "                 Class     Images  Instances      Box(P          R      mAP50  mAP50-95): 100%|██████████| 3/3 [00:00<00:00,  6.53it/s]"
     ]
    },
    {
     "name": "stdout",
     "output_type": "stream",
     "text": [
      "                   all        149        161      0.654      0.311      0.367      0.171\n"
     ]
    },
    {
     "name": "stderr",
     "output_type": "stream",
     "text": [
      "\n"
     ]
    },
    {
     "name": "stdout",
     "output_type": "stream",
     "text": [
      "\n",
      "      Epoch    GPU_mem   box_loss   cls_loss   dfl_loss  Instances       Size\n"
     ]
    },
    {
     "name": "stderr",
     "output_type": "stream",
     "text": [
      "     21/100      3.87G      1.876      1.553      1.292         10        640: 100%|██████████| 23/23 [00:04<00:00,  5.01it/s]\n",
      "                 Class     Images  Instances      Box(P          R      mAP50  mAP50-95): 100%|██████████| 3/3 [00:00<00:00,  6.54it/s]"
     ]
    },
    {
     "name": "stdout",
     "output_type": "stream",
     "text": [
      "                   all        149        161      0.614      0.434      0.468       0.21\n"
     ]
    },
    {
     "name": "stderr",
     "output_type": "stream",
     "text": [
      "\n"
     ]
    },
    {
     "name": "stdout",
     "output_type": "stream",
     "text": [
      "\n",
      "      Epoch    GPU_mem   box_loss   cls_loss   dfl_loss  Instances       Size\n"
     ]
    },
    {
     "name": "stderr",
     "output_type": "stream",
     "text": [
      "     22/100      3.88G      1.946      1.553      1.315          6        640: 100%|██████████| 23/23 [00:04<00:00,  4.96it/s]\n",
      "                 Class     Images  Instances      Box(P          R      mAP50  mAP50-95): 100%|██████████| 3/3 [00:00<00:00,  6.41it/s]"
     ]
    },
    {
     "name": "stdout",
     "output_type": "stream",
     "text": [
      "                   all        149        161       0.71      0.391      0.492      0.214\n"
     ]
    },
    {
     "name": "stderr",
     "output_type": "stream",
     "text": [
      "\n"
     ]
    },
    {
     "name": "stdout",
     "output_type": "stream",
     "text": [
      "\n",
      "      Epoch    GPU_mem   box_loss   cls_loss   dfl_loss  Instances       Size\n"
     ]
    },
    {
     "name": "stderr",
     "output_type": "stream",
     "text": [
      "     23/100       3.9G      1.904      1.556      1.302          7        640: 100%|██████████| 23/23 [00:05<00:00,  4.55it/s]\n",
      "                 Class     Images  Instances      Box(P          R      mAP50  mAP50-95): 100%|██████████| 3/3 [00:00<00:00,  5.67it/s]"
     ]
    },
    {
     "name": "stdout",
     "output_type": "stream",
     "text": [
      "                   all        149        161      0.644      0.404      0.479      0.203\n"
     ]
    },
    {
     "name": "stderr",
     "output_type": "stream",
     "text": [
      "\n"
     ]
    },
    {
     "name": "stdout",
     "output_type": "stream",
     "text": [
      "\n",
      "      Epoch    GPU_mem   box_loss   cls_loss   dfl_loss  Instances       Size\n"
     ]
    },
    {
     "name": "stderr",
     "output_type": "stream",
     "text": [
      "     24/100      3.91G      1.814      1.414      1.245          5        640: 100%|██████████| 23/23 [00:05<00:00,  4.45it/s]\n",
      "                 Class     Images  Instances      Box(P          R      mAP50  mAP50-95): 100%|██████████| 3/3 [00:00<00:00,  5.67it/s]"
     ]
    },
    {
     "name": "stdout",
     "output_type": "stream",
     "text": [
      "                   all        149        161      0.621      0.509      0.553      0.236\n"
     ]
    },
    {
     "name": "stderr",
     "output_type": "stream",
     "text": [
      "\n"
     ]
    },
    {
     "name": "stdout",
     "output_type": "stream",
     "text": [
      "\n",
      "      Epoch    GPU_mem   box_loss   cls_loss   dfl_loss  Instances       Size\n"
     ]
    },
    {
     "name": "stderr",
     "output_type": "stream",
     "text": [
      "     25/100       3.9G      1.844      1.476      1.271          5        640: 100%|██████████| 23/23 [00:04<00:00,  4.98it/s]\n",
      "                 Class     Images  Instances      Box(P          R      mAP50  mAP50-95): 100%|██████████| 3/3 [00:00<00:00,  6.42it/s]"
     ]
    },
    {
     "name": "stdout",
     "output_type": "stream",
     "text": [
      "                   all        149        161      0.683      0.466      0.542      0.241\n"
     ]
    },
    {
     "name": "stderr",
     "output_type": "stream",
     "text": [
      "\n"
     ]
    },
    {
     "name": "stdout",
     "output_type": "stream",
     "text": [
      "\n",
      "      Epoch    GPU_mem   box_loss   cls_loss   dfl_loss  Instances       Size\n"
     ]
    },
    {
     "name": "stderr",
     "output_type": "stream",
     "text": [
      "     26/100      3.88G      1.821      1.463       1.27          5        640: 100%|██████████| 23/23 [00:04<00:00,  5.03it/s]\n",
      "                 Class     Images  Instances      Box(P          R      mAP50  mAP50-95): 100%|██████████| 3/3 [00:00<00:00,  6.39it/s]"
     ]
    },
    {
     "name": "stdout",
     "output_type": "stream",
     "text": [
      "                   all        149        161      0.671      0.507      0.549      0.226\n"
     ]
    },
    {
     "name": "stderr",
     "output_type": "stream",
     "text": [
      "\n"
     ]
    },
    {
     "name": "stdout",
     "output_type": "stream",
     "text": [
      "\n",
      "      Epoch    GPU_mem   box_loss   cls_loss   dfl_loss  Instances       Size\n"
     ]
    },
    {
     "name": "stderr",
     "output_type": "stream",
     "text": [
      "     27/100      3.87G      1.806      1.447      1.296          7        640: 100%|██████████| 23/23 [00:04<00:00,  4.87it/s]\n",
      "                 Class     Images  Instances      Box(P          R      mAP50  mAP50-95): 100%|██████████| 3/3 [00:00<00:00,  6.32it/s]"
     ]
    },
    {
     "name": "stdout",
     "output_type": "stream",
     "text": [
      "                   all        149        161      0.721      0.416      0.517      0.228\n"
     ]
    },
    {
     "name": "stderr",
     "output_type": "stream",
     "text": [
      "\n"
     ]
    },
    {
     "name": "stdout",
     "output_type": "stream",
     "text": [
      "\n",
      "      Epoch    GPU_mem   box_loss   cls_loss   dfl_loss  Instances       Size\n"
     ]
    },
    {
     "name": "stderr",
     "output_type": "stream",
     "text": [
      "     28/100      3.94G      1.788      1.427      1.257          5        640: 100%|██████████| 23/23 [00:04<00:00,  4.80it/s]\n",
      "                 Class     Images  Instances      Box(P          R      mAP50  mAP50-95): 100%|██████████| 3/3 [00:00<00:00,  6.36it/s]"
     ]
    },
    {
     "name": "stdout",
     "output_type": "stream",
     "text": [
      "                   all        149        161      0.705      0.447      0.529      0.239\n"
     ]
    },
    {
     "name": "stderr",
     "output_type": "stream",
     "text": [
      "\n"
     ]
    },
    {
     "name": "stdout",
     "output_type": "stream",
     "text": [
      "\n",
      "      Epoch    GPU_mem   box_loss   cls_loss   dfl_loss  Instances       Size\n"
     ]
    },
    {
     "name": "stderr",
     "output_type": "stream",
     "text": [
      "     29/100      3.87G      1.834      1.504      1.261         10        640: 100%|██████████| 23/23 [00:04<00:00,  5.00it/s]\n",
      "                 Class     Images  Instances      Box(P          R      mAP50  mAP50-95): 100%|██████████| 3/3 [00:00<00:00,  6.24it/s]"
     ]
    },
    {
     "name": "stdout",
     "output_type": "stream",
     "text": [
      "                   all        149        161      0.676      0.453      0.503      0.219\n"
     ]
    },
    {
     "name": "stderr",
     "output_type": "stream",
     "text": [
      "\n"
     ]
    },
    {
     "name": "stdout",
     "output_type": "stream",
     "text": [
      "\n",
      "      Epoch    GPU_mem   box_loss   cls_loss   dfl_loss  Instances       Size\n"
     ]
    },
    {
     "name": "stderr",
     "output_type": "stream",
     "text": [
      "     30/100      3.88G      1.797      1.523      1.234          4        640: 100%|██████████| 23/23 [00:04<00:00,  4.80it/s]\n",
      "                 Class     Images  Instances      Box(P          R      mAP50  mAP50-95): 100%|██████████| 3/3 [00:00<00:00,  6.39it/s]"
     ]
    },
    {
     "name": "stdout",
     "output_type": "stream",
     "text": [
      "                   all        149        161      0.619      0.443      0.503      0.212\n"
     ]
    },
    {
     "name": "stderr",
     "output_type": "stream",
     "text": [
      "\n"
     ]
    },
    {
     "name": "stdout",
     "output_type": "stream",
     "text": [
      "\n",
      "      Epoch    GPU_mem   box_loss   cls_loss   dfl_loss  Instances       Size\n"
     ]
    },
    {
     "name": "stderr",
     "output_type": "stream",
     "text": [
      "     31/100      3.87G       1.69      1.327      1.198          7        640: 100%|██████████| 23/23 [00:04<00:00,  4.86it/s]\n",
      "                 Class     Images  Instances      Box(P          R      mAP50  mAP50-95): 100%|██████████| 3/3 [00:00<00:00,  6.44it/s]"
     ]
    },
    {
     "name": "stdout",
     "output_type": "stream",
     "text": [
      "                   all        149        161      0.677       0.41      0.449      0.205\n"
     ]
    },
    {
     "name": "stderr",
     "output_type": "stream",
     "text": [
      "\n"
     ]
    },
    {
     "name": "stdout",
     "output_type": "stream",
     "text": [
      "\n",
      "      Epoch    GPU_mem   box_loss   cls_loss   dfl_loss  Instances       Size\n"
     ]
    },
    {
     "name": "stderr",
     "output_type": "stream",
     "text": [
      "     32/100      3.91G      1.749      1.302      1.234          7        640: 100%|██████████| 23/23 [00:04<00:00,  4.81it/s]\n",
      "                 Class     Images  Instances      Box(P          R      mAP50  mAP50-95): 100%|██████████| 3/3 [00:00<00:00,  6.48it/s]"
     ]
    },
    {
     "name": "stdout",
     "output_type": "stream",
     "text": [
      "                   all        149        161      0.706      0.432      0.515      0.243\n"
     ]
    },
    {
     "name": "stderr",
     "output_type": "stream",
     "text": [
      "\n"
     ]
    },
    {
     "name": "stdout",
     "output_type": "stream",
     "text": [
      "\n",
      "      Epoch    GPU_mem   box_loss   cls_loss   dfl_loss  Instances       Size\n"
     ]
    },
    {
     "name": "stderr",
     "output_type": "stream",
     "text": [
      "     33/100      3.87G      1.707      1.357      1.215          6        640: 100%|██████████| 23/23 [00:04<00:00,  4.87it/s]\n",
      "                 Class     Images  Instances      Box(P          R      mAP50  mAP50-95): 100%|██████████| 3/3 [00:00<00:00,  6.56it/s]"
     ]
    },
    {
     "name": "stdout",
     "output_type": "stream",
     "text": [
      "                   all        149        161      0.654      0.481       0.51      0.247\n"
     ]
    },
    {
     "name": "stderr",
     "output_type": "stream",
     "text": [
      "\n"
     ]
    },
    {
     "name": "stdout",
     "output_type": "stream",
     "text": [
      "\n",
      "      Epoch    GPU_mem   box_loss   cls_loss   dfl_loss  Instances       Size\n"
     ]
    },
    {
     "name": "stderr",
     "output_type": "stream",
     "text": [
      "     34/100      3.88G      1.709      1.336      1.226         14        640: 100%|██████████| 23/23 [00:04<00:00,  4.72it/s]\n",
      "                 Class     Images  Instances      Box(P          R      mAP50  mAP50-95): 100%|██████████| 3/3 [00:00<00:00,  5.97it/s]"
     ]
    },
    {
     "name": "stdout",
     "output_type": "stream",
     "text": [
      "                   all        149        161      0.725      0.509      0.574      0.254\n"
     ]
    },
    {
     "name": "stderr",
     "output_type": "stream",
     "text": [
      "\n"
     ]
    },
    {
     "name": "stdout",
     "output_type": "stream",
     "text": [
      "\n",
      "      Epoch    GPU_mem   box_loss   cls_loss   dfl_loss  Instances       Size\n"
     ]
    },
    {
     "name": "stderr",
     "output_type": "stream",
     "text": [
      "     35/100      3.93G      1.751      1.316      1.217          5        640: 100%|██████████| 23/23 [00:04<00:00,  4.84it/s]\n",
      "                 Class     Images  Instances      Box(P          R      mAP50  mAP50-95): 100%|██████████| 3/3 [00:00<00:00,  6.47it/s]"
     ]
    },
    {
     "name": "stdout",
     "output_type": "stream",
     "text": [
      "                   all        149        161      0.674      0.437      0.531      0.229\n"
     ]
    },
    {
     "name": "stderr",
     "output_type": "stream",
     "text": [
      "\n"
     ]
    },
    {
     "name": "stdout",
     "output_type": "stream",
     "text": [
      "\n",
      "      Epoch    GPU_mem   box_loss   cls_loss   dfl_loss  Instances       Size\n"
     ]
    },
    {
     "name": "stderr",
     "output_type": "stream",
     "text": [
      "     36/100      3.88G      1.704      1.286      1.216          6        640: 100%|██████████| 23/23 [00:04<00:00,  4.86it/s]\n",
      "                 Class     Images  Instances      Box(P          R      mAP50  mAP50-95): 100%|██████████| 3/3 [00:00<00:00,  6.56it/s]"
     ]
    },
    {
     "name": "stdout",
     "output_type": "stream",
     "text": [
      "                   all        149        161      0.789      0.464      0.535      0.235\n"
     ]
    },
    {
     "name": "stderr",
     "output_type": "stream",
     "text": [
      "\n"
     ]
    },
    {
     "name": "stdout",
     "output_type": "stream",
     "text": [
      "\n",
      "      Epoch    GPU_mem   box_loss   cls_loss   dfl_loss  Instances       Size\n"
     ]
    },
    {
     "name": "stderr",
     "output_type": "stream",
     "text": [
      "     37/100      3.87G      1.715      1.284      1.218         10        640: 100%|██████████| 23/23 [00:04<00:00,  4.86it/s]\n",
      "                 Class     Images  Instances      Box(P          R      mAP50  mAP50-95): 100%|██████████| 3/3 [00:00<00:00,  6.28it/s]"
     ]
    },
    {
     "name": "stdout",
     "output_type": "stream",
     "text": [
      "                   all        149        161      0.657      0.484      0.529      0.236\n"
     ]
    },
    {
     "name": "stderr",
     "output_type": "stream",
     "text": [
      "\n"
     ]
    },
    {
     "name": "stdout",
     "output_type": "stream",
     "text": [
      "\n",
      "      Epoch    GPU_mem   box_loss   cls_loss   dfl_loss  Instances       Size\n"
     ]
    },
    {
     "name": "stderr",
     "output_type": "stream",
     "text": [
      "     38/100      3.91G      1.708      1.252      1.194          5        640: 100%|██████████| 23/23 [00:04<00:00,  5.06it/s]\n",
      "                 Class     Images  Instances      Box(P          R      mAP50  mAP50-95): 100%|██████████| 3/3 [00:00<00:00,  6.47it/s]"
     ]
    },
    {
     "name": "stdout",
     "output_type": "stream",
     "text": [
      "                   all        149        161       0.69      0.422      0.468       0.21\n"
     ]
    },
    {
     "name": "stderr",
     "output_type": "stream",
     "text": [
      "\n"
     ]
    },
    {
     "name": "stdout",
     "output_type": "stream",
     "text": [
      "\n",
      "      Epoch    GPU_mem   box_loss   cls_loss   dfl_loss  Instances       Size\n"
     ]
    },
    {
     "name": "stderr",
     "output_type": "stream",
     "text": [
      "     39/100       3.9G      1.706       1.29      1.225          4        640: 100%|██████████| 23/23 [00:04<00:00,  5.01it/s]\n",
      "                 Class     Images  Instances      Box(P          R      mAP50  mAP50-95): 100%|██████████| 3/3 [00:00<00:00,  6.37it/s]"
     ]
    },
    {
     "name": "stdout",
     "output_type": "stream",
     "text": [
      "                   all        149        161      0.617       0.41       0.46      0.208\n"
     ]
    },
    {
     "name": "stderr",
     "output_type": "stream",
     "text": [
      "\n"
     ]
    },
    {
     "name": "stdout",
     "output_type": "stream",
     "text": [
      "\n",
      "      Epoch    GPU_mem   box_loss   cls_loss   dfl_loss  Instances       Size\n"
     ]
    },
    {
     "name": "stderr",
     "output_type": "stream",
     "text": [
      "     40/100      3.95G      1.686       1.26      1.187          8        640: 100%|██████████| 23/23 [00:04<00:00,  4.75it/s]\n",
      "                 Class     Images  Instances      Box(P          R      mAP50  mAP50-95): 100%|██████████| 3/3 [00:00<00:00,  6.09it/s]"
     ]
    },
    {
     "name": "stdout",
     "output_type": "stream",
     "text": [
      "                   all        149        161      0.622      0.399      0.443      0.203\n"
     ]
    },
    {
     "name": "stderr",
     "output_type": "stream",
     "text": [
      "\n"
     ]
    },
    {
     "name": "stdout",
     "output_type": "stream",
     "text": [
      "\n",
      "      Epoch    GPU_mem   box_loss   cls_loss   dfl_loss  Instances       Size\n"
     ]
    },
    {
     "name": "stderr",
     "output_type": "stream",
     "text": [
      "     41/100      3.87G      1.645      1.247      1.192          6        640: 100%|██████████| 23/23 [00:04<00:00,  4.72it/s]\n",
      "                 Class     Images  Instances      Box(P          R      mAP50  mAP50-95): 100%|██████████| 3/3 [00:00<00:00,  6.07it/s]"
     ]
    },
    {
     "name": "stdout",
     "output_type": "stream",
     "text": [
      "                   all        149        161      0.725      0.441      0.531      0.241\n"
     ]
    },
    {
     "name": "stderr",
     "output_type": "stream",
     "text": [
      "\n"
     ]
    },
    {
     "name": "stdout",
     "output_type": "stream",
     "text": [
      "\n",
      "      Epoch    GPU_mem   box_loss   cls_loss   dfl_loss  Instances       Size\n"
     ]
    },
    {
     "name": "stderr",
     "output_type": "stream",
     "text": [
      "     42/100      3.95G      1.703      1.291      1.187          7        640: 100%|██████████| 23/23 [00:04<00:00,  4.87it/s]\n",
      "                 Class     Images  Instances      Box(P          R      mAP50  mAP50-95): 100%|██████████| 3/3 [00:00<00:00,  6.53it/s]"
     ]
    },
    {
     "name": "stdout",
     "output_type": "stream",
     "text": [
      "                   all        149        161      0.734      0.435      0.524      0.233\n"
     ]
    },
    {
     "name": "stderr",
     "output_type": "stream",
     "text": [
      "\n"
     ]
    },
    {
     "name": "stdout",
     "output_type": "stream",
     "text": [
      "\n",
      "      Epoch    GPU_mem   box_loss   cls_loss   dfl_loss  Instances       Size\n"
     ]
    },
    {
     "name": "stderr",
     "output_type": "stream",
     "text": [
      "     43/100      3.94G      1.685      1.259      1.195         10        640: 100%|██████████| 23/23 [00:04<00:00,  5.05it/s]\n",
      "                 Class     Images  Instances      Box(P          R      mAP50  mAP50-95): 100%|██████████| 3/3 [00:00<00:00,  6.53it/s]"
     ]
    },
    {
     "name": "stdout",
     "output_type": "stream",
     "text": [
      "                   all        149        161      0.606       0.45      0.488       0.21\n"
     ]
    },
    {
     "name": "stderr",
     "output_type": "stream",
     "text": [
      "\n"
     ]
    },
    {
     "name": "stdout",
     "output_type": "stream",
     "text": [
      "\n",
      "      Epoch    GPU_mem   box_loss   cls_loss   dfl_loss  Instances       Size\n"
     ]
    },
    {
     "name": "stderr",
     "output_type": "stream",
     "text": [
      "     44/100      3.88G       1.67      1.196      1.185          7        640: 100%|██████████| 23/23 [00:04<00:00,  4.85it/s]\n",
      "                 Class     Images  Instances      Box(P          R      mAP50  mAP50-95): 100%|██████████| 3/3 [00:00<00:00,  6.60it/s]"
     ]
    },
    {
     "name": "stdout",
     "output_type": "stream",
     "text": [
      "                   all        149        161      0.736       0.41      0.497      0.217\n"
     ]
    },
    {
     "name": "stderr",
     "output_type": "stream",
     "text": [
      "\n"
     ]
    },
    {
     "name": "stdout",
     "output_type": "stream",
     "text": [
      "\n",
      "      Epoch    GPU_mem   box_loss   cls_loss   dfl_loss  Instances       Size\n"
     ]
    },
    {
     "name": "stderr",
     "output_type": "stream",
     "text": [
      "     45/100       3.9G      1.712      1.238      1.209         10        640: 100%|██████████| 23/23 [00:04<00:00,  4.86it/s]\n",
      "                 Class     Images  Instances      Box(P          R      mAP50  mAP50-95): 100%|██████████| 3/3 [00:00<00:00,  6.11it/s]"
     ]
    },
    {
     "name": "stdout",
     "output_type": "stream",
     "text": [
      "                   all        149        161      0.655      0.478      0.508      0.225\n"
     ]
    },
    {
     "name": "stderr",
     "output_type": "stream",
     "text": [
      "\n"
     ]
    },
    {
     "name": "stdout",
     "output_type": "stream",
     "text": [
      "\n",
      "      Epoch    GPU_mem   box_loss   cls_loss   dfl_loss  Instances       Size\n"
     ]
    },
    {
     "name": "stderr",
     "output_type": "stream",
     "text": [
      "     46/100      3.88G      1.687       1.25      1.197          6        640: 100%|██████████| 23/23 [00:04<00:00,  4.82it/s]\n",
      "                 Class     Images  Instances      Box(P          R      mAP50  mAP50-95): 100%|██████████| 3/3 [00:00<00:00,  6.50it/s]"
     ]
    },
    {
     "name": "stdout",
     "output_type": "stream",
     "text": [
      "                   all        149        161      0.621      0.509      0.557      0.232\n"
     ]
    },
    {
     "name": "stderr",
     "output_type": "stream",
     "text": [
      "\n"
     ]
    },
    {
     "name": "stdout",
     "output_type": "stream",
     "text": [
      "\n",
      "      Epoch    GPU_mem   box_loss   cls_loss   dfl_loss  Instances       Size\n"
     ]
    },
    {
     "name": "stderr",
     "output_type": "stream",
     "text": [
      "     47/100      3.94G      1.703      1.233      1.193         13        640: 100%|██████████| 23/23 [00:04<00:00,  4.88it/s]\n",
      "                 Class     Images  Instances      Box(P          R      mAP50  mAP50-95): 100%|██████████| 3/3 [00:00<00:00,  6.50it/s]"
     ]
    },
    {
     "name": "stdout",
     "output_type": "stream",
     "text": [
      "                   all        149        161      0.594      0.478      0.523      0.233\n"
     ]
    },
    {
     "name": "stderr",
     "output_type": "stream",
     "text": [
      "\n"
     ]
    },
    {
     "name": "stdout",
     "output_type": "stream",
     "text": [
      "\n",
      "      Epoch    GPU_mem   box_loss   cls_loss   dfl_loss  Instances       Size\n"
     ]
    },
    {
     "name": "stderr",
     "output_type": "stream",
     "text": [
      "     48/100      3.88G      1.683      1.261      1.186          6        640: 100%|██████████| 23/23 [00:04<00:00,  4.96it/s]\n",
      "                 Class     Images  Instances      Box(P          R      mAP50  mAP50-95): 100%|██████████| 3/3 [00:00<00:00,  6.62it/s]"
     ]
    },
    {
     "name": "stdout",
     "output_type": "stream",
     "text": [
      "                   all        149        161      0.582      0.491      0.497      0.213\n"
     ]
    },
    {
     "name": "stderr",
     "output_type": "stream",
     "text": [
      "\n"
     ]
    },
    {
     "name": "stdout",
     "output_type": "stream",
     "text": [
      "\n",
      "      Epoch    GPU_mem   box_loss   cls_loss   dfl_loss  Instances       Size\n"
     ]
    },
    {
     "name": "stderr",
     "output_type": "stream",
     "text": [
      "     49/100       3.9G      1.606      1.166      1.172          5        640: 100%|██████████| 23/23 [00:04<00:00,  4.89it/s]\n",
      "                 Class     Images  Instances      Box(P          R      mAP50  mAP50-95): 100%|██████████| 3/3 [00:00<00:00,  6.49it/s]"
     ]
    },
    {
     "name": "stdout",
     "output_type": "stream",
     "text": [
      "                   all        149        161      0.708      0.379      0.443      0.186\n",
      "\u001b[34m\u001b[1mEarlyStopping: \u001b[0mTraining stopped early as no improvement observed in last 15 epochs. Best results observed at epoch 34, best model saved as best.pt.\n",
      "To update EarlyStopping(patience=15) pass a new patience value, i.e. `patience=300` or use `patience=0` to disable EarlyStopping.\n"
     ]
    },
    {
     "name": "stderr",
     "output_type": "stream",
     "text": [
      "\n"
     ]
    },
    {
     "name": "stdout",
     "output_type": "stream",
     "text": [
      "\n",
      "49 epochs completed in 0.079 hours.\n",
      "Optimizer stripped from /home/kronbii/repos/CV-aim-assist/runs/client_finetune_20250917_210235/weights/last.pt, 6.2MB\n",
      "Optimizer stripped from /home/kronbii/repos/CV-aim-assist/runs/client_finetune_20250917_210235/weights/best.pt, 6.2MB\n",
      "\n",
      "Validating /home/kronbii/repos/CV-aim-assist/runs/client_finetune_20250917_210235/weights/best.pt...\n",
      "Ultralytics 8.3.179 🚀 Python-3.9.23 torch-2.8.0+cu128 CUDA:0 (NVIDIA GeForce RTX 3070 Laptop GPU, 7815MiB)\n",
      "Model summary (fused): 72 layers, 3,005,843 parameters, 0 gradients, 8.1 GFLOPs\n"
     ]
    },
    {
     "name": "stderr",
     "output_type": "stream",
     "text": [
      "                 Class     Images  Instances      Box(P          R      mAP50  mAP50-95): 100%|██████████| 3/3 [00:00<00:00,  4.06it/s]\n"
     ]
    },
    {
     "name": "stdout",
     "output_type": "stream",
     "text": [
      "                   all        149        161       0.72      0.512      0.574      0.255\n",
      "Speed: 0.1ms preprocess, 0.9ms inference, 0.0ms loss, 1.8ms postprocess per image\n",
      "Results saved to \u001b[1m/home/kronbii/repos/CV-aim-assist/runs/client_finetune_20250917_210235\u001b[0m\n",
      "\n",
      "Training completed!\n",
      "Results saved to: /home/kronbii/repos/CV-aim-assist/runs/detect/client_finetune_20250917_210235\n",
      "\n",
      "Final Metrics:\n",
      "  metrics/precision(B): 0.7205\n",
      "  metrics/recall(B): 0.5124\n",
      "  metrics/mAP50(B): 0.5741\n",
      "  metrics/mAP50-95(B): 0.2546\n",
      "  fitness: 0.2866\n",
      "\n",
      "6. Finalizing...\n",
      "Warning: weights directory not found\n",
      "\n",
      "============================================================\n",
      "TRAINING COMPLETED SUCCESSFULLY!\n",
      "============================================================\n",
      "Training directory: /home/kronbii/repos/CV-aim-assist/runs/detect/client_finetune_20250917_210235\n",
      "Use this model for inference in your notebooks or applications.\n"
     ]
    }
   ],
   "source": [
    "# Set arguments manually instead of using parser\n",
    "epochs = 100\n",
    "batch_size = 32\n",
    "patience = 15\n",
    "model = None \n",
    "output_name = None\n",
    "\n",
    "try:\n",
    "    print(\"=\" * 60)\n",
    "    print(\"YOLO CLIENT DATASET FINE-TUNING\")\n",
    "    print(\"=\" * 60)\n",
    "    \n",
    "    # Setup paths\n",
    "    print(\"\\n1. Setting up paths...\")\n",
    "    paths = setup_paths()\n",
    "    \n",
    "    # Use custom model if provided\n",
    "    if model:\n",
    "        custom_model = Path(model)\n",
    "        if custom_model.exists():\n",
    "            paths['existing_model'] = custom_model\n",
    "            print(f\"Using custom model: {custom_model}\")\n",
    "        else:\n",
    "            print(f\"Warning: Custom model {custom_model} not found, using default\")\n",
    "    \n",
    "    # Validate dataset\n",
    "    print(\"\\n2. Validating dataset...\")\n",
    "    data_config = validate_dataset(paths['client_dataset'])\n",
    "    \n",
    "    # Setup training directory\n",
    "    print(\"\\n3. Setting up training environment...\")\n",
    "    output_dir = setup_training_directory()\n",
    "    \n",
    "    # Create training configuration\n",
    "    print(\"\\n4. Creating training configuration...\")\n",
    "    training_yaml = create_training_config(data_config, output_dir)\n",
    "    \n",
    "    # Train the model\n",
    "    print(\"\\n5. Training model...\")\n",
    "    results = train_model(\n",
    "        model_path=paths['existing_model'],\n",
    "        data_yaml=training_yaml,\n",
    "        output_dir=output_dir,\n",
    "        epochs=epochs,\n",
    "        batch_size=batch_size,\n",
    "        patience=patience\n",
    "    )\n",
    "    \n",
    "    # Copy best weights\n",
    "    print(\"\\n6. Finalizing...\")\n",
    "    final_output_name = output_name or 'client_finetuned_best.pt'\n",
    "    final_model = copy_best_weights(output_dir, Path.cwd() / final_output_name)\n",
    "    \n",
    "    print(\"\\n\" + \"=\" * 60)\n",
    "    print(\"TRAINING COMPLETED SUCCESSFULLY!\")\n",
    "    print(\"=\" * 60)\n",
    "    print(f\"Training directory: {output_dir}\")\n",
    "    if final_model:\n",
    "        print(f\"Final model: {final_model}\")\n",
    "    print(f\"Use this model for inference in your notebooks or applications.\")\n",
    "    \n",
    "except Exception as e:\n",
    "    print(f\"\\nError during training: {e}\")\n",
    "    sys.exit(1)"
   ]
  }
 ],
 "metadata": {
  "kernelspec": {
   "display_name": "fortnite",
   "language": "python",
   "name": "python3"
  },
  "language_info": {
   "codemirror_mode": {
    "name": "ipython",
    "version": 3
   },
   "file_extension": ".py",
   "mimetype": "text/x-python",
   "name": "python",
   "nbconvert_exporter": "python",
   "pygments_lexer": "ipython3",
   "version": "3.9.23"
  }
 },
 "nbformat": 4,
 "nbformat_minor": 5
}
